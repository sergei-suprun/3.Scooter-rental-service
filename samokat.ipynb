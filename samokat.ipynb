{
 "cells": [
  {
   "cell_type": "markdown",
   "id": "bd00d172",
   "metadata": {},
   "source": [
    "# Исследование данных сервиса аренды самокатов"
   ]
  },
  {
   "cell_type": "markdown",
   "id": "d1bb4bde",
   "metadata": {},
   "source": [
    "**Цели и описание проекта:**\n",
    "\n",
    "Есть данные одного популярного сервиса аренды самокатов GoFast. Данные даны в трех датасетах и содержат следующую информацию:\n",
    "- ID пользователя \n",
    "- Имя\n",
    "- Возраст\n",
    "- Город\n",
    "- Тип подписки\n",
    "- Данные о длительности, дальности и дате поездки\n",
    "- Виды подписок и тарифы\n",
    "\n",
    "**Задача проекта:**\n",
    "\n",
    "Проанализировать данные и проверить некоторые гипотезы, которые могут помочь бизнесу вырасти.\n",
    "Продакт-менеджеры сервиса хотят увеличить количество пользователей с подпиской. Для этого они будут проводить различные акции, поэтому нужно выяснить несколько важных моментов:\n",
    "\n",
    "- Тратят ли пользователи с подпиской больше времени на поездки? Если да, то пользователи с подпиской могут быть «выгоднее» для компании\n",
    "- Будет ли помесячная выручка от пользователей с подпиской по месяцам выше, чем выручка от пользователей без подписки?\n",
    "- Расстояние одной поездки в 3130 метров — оптимальное с точки зрения износа самоката. Можно ли сказать, что расстояние, которое проезжают пользователи с подпиской за одну поездку, не превышает 3130 метров\n",
    "\n",
    "Сначала мы загрузим все данные, сделаем их предобработку. Потом проведем исследовательский анализ и изучим их особенности. В конце проверим гипотезы и сделаем выводы."
   ]
  },
  {
   "cell_type": "code",
   "execution_count": 1,
   "id": "51a62818",
   "metadata": {},
   "outputs": [],
   "source": [
    "import pandas as pd\n",
    "import seaborn as sns\n",
    "import matplotlib.pyplot as plt\n",
    "import numpy as np\n",
    "from scipy import stats as st\n",
    "from math import factorial\n",
    "from math import sqrt\n",
    "from scipy.stats import binom, norm\n",
    "\n",
    "pd.set_option('display.max_columns', None)\n",
    "pd.set_option('display.float_format', '{:,.2f}'.format)"
   ]
  },
  {
   "cell_type": "markdown",
   "id": "ebb15242",
   "metadata": {},
   "source": [
    "####  Загрузка данных"
   ]
  },
  {
   "cell_type": "markdown",
   "id": "d2c36b0e",
   "metadata": {},
   "source": [
    "##### Загрузка файла с данными о пользователях сервиса"
   ]
  },
  {
   "cell_type": "code",
   "execution_count": 2,
   "id": "3c2c82ec",
   "metadata": {},
   "outputs": [
    {
     "data": {
      "text/html": [
       "<div>\n",
       "<style scoped>\n",
       "    .dataframe tbody tr th:only-of-type {\n",
       "        vertical-align: middle;\n",
       "    }\n",
       "\n",
       "    .dataframe tbody tr th {\n",
       "        vertical-align: top;\n",
       "    }\n",
       "\n",
       "    .dataframe thead th {\n",
       "        text-align: right;\n",
       "    }\n",
       "</style>\n",
       "<table border=\"1\" class=\"dataframe\">\n",
       "  <thead>\n",
       "    <tr style=\"text-align: right;\">\n",
       "      <th></th>\n",
       "      <th>user_id</th>\n",
       "      <th>name</th>\n",
       "      <th>age</th>\n",
       "      <th>city</th>\n",
       "      <th>subscription_type</th>\n",
       "    </tr>\n",
       "  </thead>\n",
       "  <tbody>\n",
       "    <tr>\n",
       "      <th>0</th>\n",
       "      <td>1</td>\n",
       "      <td>Кира</td>\n",
       "      <td>22</td>\n",
       "      <td>Тюмень</td>\n",
       "      <td>ultra</td>\n",
       "    </tr>\n",
       "    <tr>\n",
       "      <th>1</th>\n",
       "      <td>2</td>\n",
       "      <td>Станислав</td>\n",
       "      <td>31</td>\n",
       "      <td>Омск</td>\n",
       "      <td>ultra</td>\n",
       "    </tr>\n",
       "    <tr>\n",
       "      <th>2</th>\n",
       "      <td>3</td>\n",
       "      <td>Алексей</td>\n",
       "      <td>20</td>\n",
       "      <td>Москва</td>\n",
       "      <td>ultra</td>\n",
       "    </tr>\n",
       "    <tr>\n",
       "      <th>3</th>\n",
       "      <td>4</td>\n",
       "      <td>Константин</td>\n",
       "      <td>26</td>\n",
       "      <td>Ростов-на-Дону</td>\n",
       "      <td>ultra</td>\n",
       "    </tr>\n",
       "    <tr>\n",
       "      <th>4</th>\n",
       "      <td>5</td>\n",
       "      <td>Адель</td>\n",
       "      <td>28</td>\n",
       "      <td>Омск</td>\n",
       "      <td>ultra</td>\n",
       "    </tr>\n",
       "  </tbody>\n",
       "</table>\n",
       "</div>"
      ],
      "text/plain": [
       "   user_id        name  age            city subscription_type\n",
       "0        1        Кира   22          Тюмень             ultra\n",
       "1        2   Станислав   31            Омск             ultra\n",
       "2        3     Алексей   20          Москва             ultra\n",
       "3        4  Константин   26  Ростов-на-Дону             ultra\n",
       "4        5       Адель   28            Омск             ultra"
      ]
     },
     "execution_count": 2,
     "metadata": {},
     "output_type": "execute_result"
    }
   ],
   "source": [
    "try:\n",
    "    users = pd.read_csv('/datasets/users_go.csv')\n",
    "except:\n",
    "    users = pd.read_csv('https://code.s3.yandex.net/datasets/users_go.csv')\n",
    "\n",
    "users.head()"
   ]
  },
  {
   "cell_type": "code",
   "execution_count": 3,
   "id": "3dd96f70",
   "metadata": {},
   "outputs": [
    {
     "name": "stdout",
     "output_type": "stream",
     "text": [
      "<class 'pandas.core.frame.DataFrame'>\n",
      "RangeIndex: 1565 entries, 0 to 1564\n",
      "Data columns (total 5 columns):\n",
      " #   Column             Non-Null Count  Dtype \n",
      "---  ------             --------------  ----- \n",
      " 0   user_id            1565 non-null   int64 \n",
      " 1   name               1565 non-null   object\n",
      " 2   age                1565 non-null   int64 \n",
      " 3   city               1565 non-null   object\n",
      " 4   subscription_type  1565 non-null   object\n",
      "dtypes: int64(2), object(3)\n",
      "memory usage: 61.3+ KB\n"
     ]
    }
   ],
   "source": [
    "users.info()"
   ]
  },
  {
   "cell_type": "code",
   "execution_count": 4,
   "id": "28010e0f",
   "metadata": {},
   "outputs": [
    {
     "data": {
      "image/png": "[encoded data removed]",
      "text/plain": [
       "<Figure size 432x288 with 1 Axes>"
      ]
     },
     "metadata": {
      "needs_background": "light"
     },
     "output_type": "display_data"
    }
   ],
   "source": [
    "# Посмотрим как распределены данные в столбце с возрастом клиентов\n",
    "plt.hist(users['age'], bins=10, range=(10,50))\n",
    "plt.title('Возраст пользователей')\n",
    "plt.xlabel('Возраст')\n",
    "plt.ylabel('Количество пользователей')\n",
    "plt.show()"
   ]
  },
  {
   "cell_type": "markdown",
   "id": "60dfa87d",
   "metadata": {},
   "source": [
    "##### Загрузка файла с данными о поездках"
   ]
  },
  {
   "cell_type": "code",
   "execution_count": 5,
   "id": "7121e8fb",
   "metadata": {},
   "outputs": [
    {
     "data": {
      "text/html": [
       "<div>\n",
       "<style scoped>\n",
       "    .dataframe tbody tr th:only-of-type {\n",
       "        vertical-align: middle;\n",
       "    }\n",
       "\n",
       "    .dataframe tbody tr th {\n",
       "        vertical-align: top;\n",
       "    }\n",
       "\n",
       "    .dataframe thead th {\n",
       "        text-align: right;\n",
       "    }\n",
       "</style>\n",
       "<table border=\"1\" class=\"dataframe\">\n",
       "  <thead>\n",
       "    <tr style=\"text-align: right;\">\n",
       "      <th></th>\n",
       "      <th>user_id</th>\n",
       "      <th>distance</th>\n",
       "      <th>duration</th>\n",
       "      <th>date</th>\n",
       "    </tr>\n",
       "  </thead>\n",
       "  <tbody>\n",
       "    <tr>\n",
       "      <th>0</th>\n",
       "      <td>1</td>\n",
       "      <td>4,409.92</td>\n",
       "      <td>25.60</td>\n",
       "      <td>2021-01-01</td>\n",
       "    </tr>\n",
       "    <tr>\n",
       "      <th>1</th>\n",
       "      <td>1</td>\n",
       "      <td>2,617.59</td>\n",
       "      <td>15.82</td>\n",
       "      <td>2021-01-18</td>\n",
       "    </tr>\n",
       "    <tr>\n",
       "      <th>2</th>\n",
       "      <td>1</td>\n",
       "      <td>754.16</td>\n",
       "      <td>6.23</td>\n",
       "      <td>2021-04-20</td>\n",
       "    </tr>\n",
       "    <tr>\n",
       "      <th>3</th>\n",
       "      <td>1</td>\n",
       "      <td>2,694.78</td>\n",
       "      <td>18.51</td>\n",
       "      <td>2021-08-11</td>\n",
       "    </tr>\n",
       "    <tr>\n",
       "      <th>4</th>\n",
       "      <td>1</td>\n",
       "      <td>4,028.69</td>\n",
       "      <td>26.27</td>\n",
       "      <td>2021-08-28</td>\n",
       "    </tr>\n",
       "  </tbody>\n",
       "</table>\n",
       "</div>"
      ],
      "text/plain": [
       "   user_id  distance  duration        date\n",
       "0        1  4,409.92     25.60  2021-01-01\n",
       "1        1  2,617.59     15.82  2021-01-18\n",
       "2        1    754.16      6.23  2021-04-20\n",
       "3        1  2,694.78     18.51  2021-08-11\n",
       "4        1  4,028.69     26.27  2021-08-28"
      ]
     },
     "execution_count": 5,
     "metadata": {},
     "output_type": "execute_result"
    }
   ],
   "source": [
    "try:\n",
    "    rides = pd.read_csv('/datasets/rides_go.csv')\n",
    "except:\n",
    "    rides = pd.read_csv('https://code.s3.yandex.net/datasets/rides_go.csv')\n",
    "\n",
    "rides.head()"
   ]
  },
  {
   "cell_type": "code",
   "execution_count": 6,
   "id": "1bb8ad12",
   "metadata": {},
   "outputs": [
    {
     "name": "stdout",
     "output_type": "stream",
     "text": [
      "<class 'pandas.core.frame.DataFrame'>\n",
      "RangeIndex: 18068 entries, 0 to 18067\n",
      "Data columns (total 4 columns):\n",
      " #   Column    Non-Null Count  Dtype  \n",
      "---  ------    --------------  -----  \n",
      " 0   user_id   18068 non-null  int64  \n",
      " 1   distance  18068 non-null  float64\n",
      " 2   duration  18068 non-null  float64\n",
      " 3   date      18068 non-null  object \n",
      "dtypes: float64(2), int64(1), object(1)\n",
      "memory usage: 564.8+ KB\n"
     ]
    }
   ],
   "source": [
    "rides.info()"
   ]
  },
  {
   "cell_type": "code",
   "execution_count": 7,
   "id": "c96d8549",
   "metadata": {},
   "outputs": [
    {
     "data": {
      "image/png": "[encoded data removed]",
      "text/plain": [
       "<Figure size 432x288 with 1 Axes>"
      ]
     },
     "metadata": {
      "needs_background": "light"
     },
     "output_type": "display_data"
    }
   ],
   "source": [
    "# Посмотрим как распределены данные в столбце с дальностью поездок\n",
    "plt.hist(rides['distance'], bins=10, range=(0,10000))\n",
    "plt.title('Дальность поездок')\n",
    "plt.xlabel('Расстояние')\n",
    "plt.ylabel('Количество поездок')\n",
    "plt.show()"
   ]
  },
  {
   "cell_type": "code",
   "execution_count": 8,
   "id": "42781124",
   "metadata": {},
   "outputs": [
    {
     "data": {
      "image/png": "[encoded data removed]",
      "text/plain": [
       "<Figure size 432x288 with 1 Axes>"
      ]
     },
     "metadata": {
      "needs_background": "light"
     },
     "output_type": "display_data"
    }
   ],
   "source": [
    "# Посмотрим как распределены данные в столбце с длительнотью поездок\n",
    "plt.hist(rides['duration'], bins=10, range=(0,50))\n",
    "plt.title('Длительность поездок')\n",
    "plt.xlabel('Длительность')\n",
    "plt.ylabel('Количество поездок')\n",
    "plt.show()"
   ]
  },
  {
   "cell_type": "markdown",
   "id": "4f585af8",
   "metadata": {},
   "source": [
    "##### Загрузка файла с информацией о подписках и тарифах"
   ]
  },
  {
   "cell_type": "code",
   "execution_count": 9,
   "id": "05e0d732",
   "metadata": {},
   "outputs": [
    {
     "data": {
      "text/html": [
       "<div>\n",
       "<style scoped>\n",
       "    .dataframe tbody tr th:only-of-type {\n",
       "        vertical-align: middle;\n",
       "    }\n",
       "\n",
       "    .dataframe tbody tr th {\n",
       "        vertical-align: top;\n",
       "    }\n",
       "\n",
       "    .dataframe thead th {\n",
       "        text-align: right;\n",
       "    }\n",
       "</style>\n",
       "<table border=\"1\" class=\"dataframe\">\n",
       "  <thead>\n",
       "    <tr style=\"text-align: right;\">\n",
       "      <th></th>\n",
       "      <th>subscription_type</th>\n",
       "      <th>minute_price</th>\n",
       "      <th>start_ride_price</th>\n",
       "      <th>subscription_fee</th>\n",
       "    </tr>\n",
       "  </thead>\n",
       "  <tbody>\n",
       "    <tr>\n",
       "      <th>0</th>\n",
       "      <td>free</td>\n",
       "      <td>8</td>\n",
       "      <td>50</td>\n",
       "      <td>0</td>\n",
       "    </tr>\n",
       "    <tr>\n",
       "      <th>1</th>\n",
       "      <td>ultra</td>\n",
       "      <td>6</td>\n",
       "      <td>0</td>\n",
       "      <td>199</td>\n",
       "    </tr>\n",
       "  </tbody>\n",
       "</table>\n",
       "</div>"
      ],
      "text/plain": [
       "  subscription_type  minute_price  start_ride_price  subscription_fee\n",
       "0              free             8                50                 0\n",
       "1             ultra             6                 0               199"
      ]
     },
     "execution_count": 9,
     "metadata": {},
     "output_type": "execute_result"
    }
   ],
   "source": [
    "try:\n",
    "    subscriptions = pd.read_csv('/datasets/subscriptions_go.csv')\n",
    "except:\n",
    "    subscriptions = pd.read_csv('https://code.s3.yandex.net/datasets/subscriptions_go.csv')\n",
    "\n",
    "subscriptions.head()"
   ]
  },
  {
   "cell_type": "code",
   "execution_count": 10,
   "id": "ffc11272",
   "metadata": {},
   "outputs": [
    {
     "name": "stdout",
     "output_type": "stream",
     "text": [
      "<class 'pandas.core.frame.DataFrame'>\n",
      "RangeIndex: 2 entries, 0 to 1\n",
      "Data columns (total 4 columns):\n",
      " #   Column             Non-Null Count  Dtype \n",
      "---  ------             --------------  ----- \n",
      " 0   subscription_type  2 non-null      object\n",
      " 1   minute_price       2 non-null      int64 \n",
      " 2   start_ride_price   2 non-null      int64 \n",
      " 3   subscription_fee   2 non-null      int64 \n",
      "dtypes: int64(3), object(1)\n",
      "memory usage: 192.0+ bytes\n"
     ]
    }
   ],
   "source": [
    "subscriptions.info()"
   ]
  },
  {
   "cell_type": "markdown",
   "id": "0d3594b3",
   "metadata": {},
   "source": [
    "**Вывод:**\n",
    "Первый датасет содержит данные о чуть более 1500 пользователях сервиса аренды. Во втором - более 18 тыс. строк о совершенных этими пользователями поездках. В третьем файле информация о подписках и тарифах, он содержит всего две строки. Пропуски в данных не обнаружены и практически все типы данных соответствуют ожидаемым. Исключением является информация о датах поездок, во втором датасете, тип которой необходимо будет преобразовать. Данные в столбцах с информацией о возрасте клиентов, длительностью  и дальностью поездок имеют распределение, близкое к нормальному. Аномальных значений и выбросов немного. Вместе с тем, есть много близких к нулевым значений в данных о дальности поездки, можно предположить, что это связано с отказом по какой-то причине от поездки сразу после активации самоката (как вариант - обнаружена неисправность)"
   ]
  },
  {
   "cell_type": "markdown",
   "id": "dcbf1ea9",
   "metadata": {},
   "source": [
    "#### Предобработка данных"
   ]
  },
  {
   "cell_type": "markdown",
   "id": "ac8822f2",
   "metadata": {},
   "source": [
    "##### Изменение типов данных"
   ]
  },
  {
   "cell_type": "code",
   "execution_count": 11,
   "id": "2f9dca31",
   "metadata": {},
   "outputs": [],
   "source": [
    "# Приведем тип данных столбца date к формату даты\n",
    "rides['date'] = pd.to_datetime(rides['date'], format='%Y-%m-%d')"
   ]
  },
  {
   "cell_type": "code",
   "execution_count": 12,
   "id": "c73ee4a5",
   "metadata": {},
   "outputs": [],
   "source": [
    "# Создадим новый столбец с номером месяца\n",
    "rides['month'] = rides['date'].dt.month"
   ]
  },
  {
   "cell_type": "code",
   "execution_count": 13,
   "id": "cc4e23cd",
   "metadata": {},
   "outputs": [
    {
     "data": {
      "text/html": [
       "<div>\n",
       "<style scoped>\n",
       "    .dataframe tbody tr th:only-of-type {\n",
       "        vertical-align: middle;\n",
       "    }\n",
       "\n",
       "    .dataframe tbody tr th {\n",
       "        vertical-align: top;\n",
       "    }\n",
       "\n",
       "    .dataframe thead th {\n",
       "        text-align: right;\n",
       "    }\n",
       "</style>\n",
       "<table border=\"1\" class=\"dataframe\">\n",
       "  <thead>\n",
       "    <tr style=\"text-align: right;\">\n",
       "      <th></th>\n",
       "      <th>user_id</th>\n",
       "      <th>distance</th>\n",
       "      <th>duration</th>\n",
       "      <th>date</th>\n",
       "      <th>month</th>\n",
       "    </tr>\n",
       "  </thead>\n",
       "  <tbody>\n",
       "    <tr>\n",
       "      <th>0</th>\n",
       "      <td>1</td>\n",
       "      <td>4,409.92</td>\n",
       "      <td>25.60</td>\n",
       "      <td>2021-01-01</td>\n",
       "      <td>1</td>\n",
       "    </tr>\n",
       "    <tr>\n",
       "      <th>1</th>\n",
       "      <td>1</td>\n",
       "      <td>2,617.59</td>\n",
       "      <td>15.82</td>\n",
       "      <td>2021-01-18</td>\n",
       "      <td>1</td>\n",
       "    </tr>\n",
       "    <tr>\n",
       "      <th>2</th>\n",
       "      <td>1</td>\n",
       "      <td>754.16</td>\n",
       "      <td>6.23</td>\n",
       "      <td>2021-04-20</td>\n",
       "      <td>4</td>\n",
       "    </tr>\n",
       "    <tr>\n",
       "      <th>3</th>\n",
       "      <td>1</td>\n",
       "      <td>2,694.78</td>\n",
       "      <td>18.51</td>\n",
       "      <td>2021-08-11</td>\n",
       "      <td>8</td>\n",
       "    </tr>\n",
       "    <tr>\n",
       "      <th>4</th>\n",
       "      <td>1</td>\n",
       "      <td>4,028.69</td>\n",
       "      <td>26.27</td>\n",
       "      <td>2021-08-28</td>\n",
       "      <td>8</td>\n",
       "    </tr>\n",
       "  </tbody>\n",
       "</table>\n",
       "</div>"
      ],
      "text/plain": [
       "   user_id  distance  duration       date  month\n",
       "0        1  4,409.92     25.60 2021-01-01      1\n",
       "1        1  2,617.59     15.82 2021-01-18      1\n",
       "2        1    754.16      6.23 2021-04-20      4\n",
       "3        1  2,694.78     18.51 2021-08-11      8\n",
       "4        1  4,028.69     26.27 2021-08-28      8"
      ]
     },
     "execution_count": 13,
     "metadata": {},
     "output_type": "execute_result"
    }
   ],
   "source": [
    "rides.head()"
   ]
  },
  {
   "cell_type": "code",
   "execution_count": 14,
   "id": "114da911",
   "metadata": {},
   "outputs": [
    {
     "name": "stdout",
     "output_type": "stream",
     "text": [
      "Начало периода: 2021-01-01 00:00:00\n",
      "Конец периода: 2021-12-30 00:00:00\n"
     ]
    }
   ],
   "source": [
    "# Посмотрим за какой период есть данные о поездках\n",
    "print('Начало периода:', rides['date'].min())\n",
    "print('Конец периода:', rides['date'].max())"
   ]
  },
  {
   "cell_type": "markdown",
   "id": "16e0ba4c",
   "metadata": {},
   "source": [
    "##### Проверка на дубликаты"
   ]
  },
  {
   "cell_type": "code",
   "execution_count": 15,
   "id": "2df49100",
   "metadata": {},
   "outputs": [
    {
     "data": {
      "text/plain": [
       "31"
      ]
     },
     "execution_count": 15,
     "metadata": {},
     "output_type": "execute_result"
    }
   ],
   "source": [
    "# Проверим датасеты на наличие явных дубликатов\n",
    "users.duplicated().sum()"
   ]
  },
  {
   "cell_type": "code",
   "execution_count": 16,
   "id": "a4c3870d",
   "metadata": {},
   "outputs": [
    {
     "data": {
      "text/plain": [
       "0"
      ]
     },
     "execution_count": 16,
     "metadata": {},
     "output_type": "execute_result"
    }
   ],
   "source": [
    "rides.duplicated().sum()"
   ]
  },
  {
   "cell_type": "code",
   "execution_count": 17,
   "id": "39dfc4e1",
   "metadata": {},
   "outputs": [],
   "source": [
    "# Удалим явные дубликаты \n",
    "users = users.drop_duplicates().reset_index(drop=True)"
   ]
  },
  {
   "cell_type": "code",
   "execution_count": 18,
   "id": "530888eb",
   "metadata": {},
   "outputs": [
    {
     "data": {
      "text/plain": [
       "0"
      ]
     },
     "execution_count": 18,
     "metadata": {},
     "output_type": "execute_result"
    }
   ],
   "source": [
    "#Проверим наличие неявных дубликатов\n",
    "users['user_id'].duplicated().sum()"
   ]
  },
  {
   "cell_type": "markdown",
   "id": "08383f4c",
   "metadata": {},
   "source": [
    "**Вывод:**\n",
    "В процессе предобработки данных мы привели тип данных в столбце **date** к формату даты. Также датасеты были проверены на наличие явных дубликатов, в результате чего такие были обнаружены и удалены в одном из них. Дубликатов с одинаковым ID найдено не было. Дубликаты в остальных столбцах искать не имеет смысла, поскольку имя, возраст и город проживания могут быть у разных людей одинаковыми.\n",
    "\n",
    "Данные о поездках имеются за период с 01.01.2021 по 30.12.2021"
   ]
  },
  {
   "cell_type": "markdown",
   "id": "a5930cc7",
   "metadata": {},
   "source": [
    "#### Исследовательский анализ данных"
   ]
  },
  {
   "cell_type": "markdown",
   "id": "cb356dcc",
   "metadata": {},
   "source": [
    "##### Частота встречаемости городов"
   ]
  },
  {
   "cell_type": "code",
   "execution_count": 19,
   "id": "20533f92",
   "metadata": {},
   "outputs": [],
   "source": [
    "# Переименуем столбцы для дальнейшей наглядности\n",
    "users = users.rename(columns={\n",
    "    'city':'Город',\n",
    "    'user_id':'Пользователи',\n",
    "    'age':'Возраст',\n",
    "    'subscription_type':'Подписка',\n",
    "    'name':'Имя'\n",
    "})\n",
    "\n",
    "rides = rides.rename(columns={\n",
    "    'distance':'Расстояние',\n",
    "    'duration':'Продолжительность',\n",
    "    'user_id':'Пользователи',\n",
    "    'date':'Дата',\n",
    "    'month':'Месяц'\n",
    "})\n",
    "\n",
    "subscriptions = subscriptions.rename(columns={\n",
    "    'subscription_type':'Подписка',\n",
    "    'minute_price':'Стоимость минуты',\n",
    "    'start_ride_price':'Стоимость старта',\n",
    "    'subscription_fee':'Ежемесячный платеж'\n",
    "})"
   ]
  },
  {
   "cell_type": "code",
   "execution_count": 20,
   "id": "489dd899",
   "metadata": {},
   "outputs": [
    {
     "data": {
      "image/png": "[encoded data removed]",
      "text/plain": [
       "<Figure size 720x360 with 1 Axes>"
      ]
     },
     "metadata": {
      "needs_background": "light"
     },
     "output_type": "display_data"
    },
    {
     "data": {
      "text/html": [
       "<div>\n",
       "<style scoped>\n",
       "    .dataframe tbody tr th:only-of-type {\n",
       "        vertical-align: middle;\n",
       "    }\n",
       "\n",
       "    .dataframe tbody tr th {\n",
       "        vertical-align: top;\n",
       "    }\n",
       "\n",
       "    .dataframe thead th {\n",
       "        text-align: right;\n",
       "    }\n",
       "</style>\n",
       "<table border=\"1\" class=\"dataframe\">\n",
       "  <thead>\n",
       "    <tr style=\"text-align: right;\">\n",
       "      <th></th>\n",
       "      <th>Пользователи</th>\n",
       "    </tr>\n",
       "    <tr>\n",
       "      <th>Город</th>\n",
       "      <th></th>\n",
       "    </tr>\n",
       "  </thead>\n",
       "  <tbody>\n",
       "    <tr>\n",
       "      <th>Пятигорск</th>\n",
       "      <td>219</td>\n",
       "    </tr>\n",
       "    <tr>\n",
       "      <th>Екатеринбург</th>\n",
       "      <td>204</td>\n",
       "    </tr>\n",
       "    <tr>\n",
       "      <th>Ростов-на-Дону</th>\n",
       "      <td>198</td>\n",
       "    </tr>\n",
       "    <tr>\n",
       "      <th>Краснодар</th>\n",
       "      <td>193</td>\n",
       "    </tr>\n",
       "    <tr>\n",
       "      <th>Сочи</th>\n",
       "      <td>189</td>\n",
       "    </tr>\n",
       "    <tr>\n",
       "      <th>Омск</th>\n",
       "      <td>183</td>\n",
       "    </tr>\n",
       "    <tr>\n",
       "      <th>Тюмень</th>\n",
       "      <td>180</td>\n",
       "    </tr>\n",
       "    <tr>\n",
       "      <th>Москва</th>\n",
       "      <td>168</td>\n",
       "    </tr>\n",
       "  </tbody>\n",
       "</table>\n",
       "</div>"
      ],
      "text/plain": [
       "                Пользователи\n",
       "Город                       \n",
       "Пятигорск                219\n",
       "Екатеринбург             204\n",
       "Ростов-на-Дону           198\n",
       "Краснодар                193\n",
       "Сочи                     189\n",
       "Омск                     183\n",
       "Тюмень                   180\n",
       "Москва                   168"
      ]
     },
     "execution_count": 20,
     "metadata": {},
     "output_type": "execute_result"
    }
   ],
   "source": [
    "#Создадим таблицу с распределением пользователей по городам\n",
    "city_pivot = users.pivot_table(\n",
    "    index=['Город'],\n",
    "    values=['Пользователи'],\n",
    "    aggfunc='count')\\\n",
    ".sort_values(by='Пользователи', ascending=False)\n",
    "\n",
    "# Построим барчарт по частоте встречаемости городов\n",
    "city_pivot.sort_values(by='Пользователи').plot(\n",
    "    kind='barh',\n",
    "    figsize = (10, 5),\n",
    "    grid = True,\n",
    "    title='Частота встречаемости городов',\n",
    "    ylabel='Количество пользователей'\n",
    ")\n",
    "plt.show()\n",
    "\n",
    "city_pivot"
   ]
  },
  {
   "cell_type": "markdown",
   "id": "42fade01",
   "metadata": {},
   "source": [
    "Больше всего пользователей находятся в г.Пятигорске, меньше - в Москве"
   ]
  },
  {
   "cell_type": "markdown",
   "id": "09d466e8",
   "metadata": {},
   "source": [
    "#####  Cоотношение пользователей с подпиской и без подписки"
   ]
  },
  {
   "cell_type": "code",
   "execution_count": 21,
   "id": "529d47cd",
   "metadata": {},
   "outputs": [
    {
     "data": {
      "image/png": "[encoded data removed]",
      "text/plain": [
       "<Figure size 432x432 with 1 Axes>"
      ]
     },
     "metadata": {},
     "output_type": "display_data"
    }
   ],
   "source": [
    "# Для визуализации соотношения построим круговую диаграмму\n",
    "users['Подписка'].value_counts()\\\n",
    "        .plot(y='count',\n",
    "              kind='pie',\n",
    "              autopct='%.1f',\n",
    "              figsize=(6, 6),\n",
    "              title='Cоотношение пользователей с подпиской (ultra) и без подписки (free)',\n",
    "              ylabel=''\n",
    "            );"
   ]
  },
  {
   "cell_type": "markdown",
   "id": "2da29a8e",
   "metadata": {},
   "source": [
    "Пользователей с подпиской на 8,8% иеньше, чем пользователей без подписки"
   ]
  },
  {
   "cell_type": "markdown",
   "id": "ef5123e0",
   "metadata": {},
   "source": [
    "##### Возраст пользователей"
   ]
  },
  {
   "cell_type": "code",
   "execution_count": 22,
   "id": "cefc2cc6",
   "metadata": {},
   "outputs": [
    {
     "data": {
      "image/png": "[encoded data removed]",
      "text/plain": [
       "<Figure size 720x576 with 2 Axes>"
      ]
     },
     "metadata": {
      "needs_background": "light"
     },
     "output_type": "display_data"
    },
    {
     "name": "stdout",
     "output_type": "stream",
     "text": [
      "Статистические данные по возрасту: \n",
      "\n",
      "count   1,534.00\n",
      "mean       24.90\n",
      "std         4.57\n",
      "min        12.00\n",
      "25%        22.00\n",
      "50%        25.00\n",
      "75%        28.00\n",
      "max        43.00\n",
      "Name: Возраст, dtype: float64\n"
     ]
    }
   ],
   "source": [
    "#Построим гистограмму и боксплот для возраста пользователей\n",
    "# создадим два подграфика\n",
    "f, (ax_box, ax_hist) = \\\n",
    "plt.subplots(nrows = 2, # из двух строк\n",
    "             ncols = 1, # и одного столбца\n",
    "             sharex = True, # оставим только нижние подписи к оси Х\n",
    "             gridspec_kw = {'height_ratios': (.15, .85)}, # зададим разную высоту строк\n",
    "             figsize = (10,8)) # зададим размер графика\n",
    "# в первом подграфике построим boxplot\n",
    "sns.boxplot(x = users['Возраст'],\n",
    "            ax = ax_box,\n",
    "            showmeans=True, # покажем среднее значение\n",
    "            meanprops={\"marker\": \"o\",\n",
    "                       \"markeredgecolor\": \"white\",\n",
    "                       \"markersize\": \"8\"})\n",
    "# во втором гистограмму\n",
    "sns.histplot(data = users['Возраст'], bins = 15, ax = ax_hist)\n",
    "\n",
    "# зададим заголовок и подписи к осям\n",
    "ax_box.set_title('Возраст пользователей', fontsize = 17)\n",
    "ax_hist.set_xlabel('Возраст', fontsize = 15)\n",
    "ax_hist.set_ylabel('Количество пользователей', fontsize = 15)\n",
    "\n",
    "plt.show()\n",
    "\n",
    "#Покажем статистические данные\n",
    "print('Статистические данные по возрасту:', '\\n')\n",
    "print(users['Возраст'].describe())"
   ]
  },
  {
   "cell_type": "markdown",
   "id": "8f9e2b18",
   "metadata": {},
   "source": [
    "Пользователи от 22 до 28 лет составляют 50% от общего количества. Среднее значение возраста и медиана практически одинаковы и равны 25 годам. Есть один выброс по  нижней границе боксплота и три выброса сверху."
   ]
  },
  {
   "cell_type": "markdown",
   "id": "38fa19ce",
   "metadata": {},
   "source": [
    "##### Расстояние, которое пользователи преодолевают за одну поездку"
   ]
  },
  {
   "cell_type": "code",
   "execution_count": 23,
   "id": "0956e860",
   "metadata": {},
   "outputs": [
    {
     "data": {
      "image/png": "[encoded data removed]",
      "text/plain": [
       "<Figure size 720x576 with 2 Axes>"
      ]
     },
     "metadata": {
      "needs_background": "light"
     },
     "output_type": "display_data"
    },
    {
     "name": "stdout",
     "output_type": "stream",
     "text": [
      "Статистические данные по расстоянию одной поездки: \n",
      "\n",
      "count   18,068.00\n",
      "mean     3,070.66\n",
      "std      1,116.83\n",
      "min          0.86\n",
      "25%      2,543.23\n",
      "50%      3,133.61\n",
      "75%      3,776.22\n",
      "max      7,211.01\n",
      "Name: Расстояние, dtype: float64\n"
     ]
    }
   ],
   "source": [
    "#Построим гистограмму и боксплот для расстояния поездок\n",
    "# создадим два подграфика\n",
    "f, (ax_box, ax_hist) = \\\n",
    "plt.subplots(nrows = 2, \n",
    "             ncols = 1, \n",
    "             sharex = True, \n",
    "             gridspec_kw = {'height_ratios': (.15, .85)},\n",
    "             figsize = (10,8)) \n",
    "# в первом подграфике построим boxplot\n",
    "sns.boxplot(x = rides['Расстояние'],\n",
    "            ax = ax_box,\n",
    "            showmeans=True, # покажем среднее значение\n",
    "            meanprops={\"marker\": \"o\",\n",
    "                       \"markeredgecolor\": \"white\",\n",
    "                       \"markersize\": \"8\"})\n",
    "# во втором гистограмму\n",
    "sns.histplot(data = rides['Расстояние'], bins = 20, ax = ax_hist)\n",
    "\n",
    "# зададим заголовок и подписи к осям\n",
    "ax_box.set_title('Расстояние за одну поездку', fontsize = 17)\n",
    "ax_hist.set_xlabel('Расстояние', fontsize = 15)\n",
    "ax_hist.set_ylabel('Поездки', fontsize = 15)\n",
    "\n",
    "plt.show()\n",
    "\n",
    "#Покажем статистические данные\n",
    "print('Статистические данные по расстоянию одной поездки:', '\\n')\n",
    "print(rides['Расстояние'].describe())"
   ]
  },
  {
   "cell_type": "code",
   "execution_count": 24,
   "id": "89fa7f47",
   "metadata": {},
   "outputs": [
    {
     "name": "stdout",
     "output_type": "stream",
     "text": [
      "Общее количество поездок: 18068\n",
      "Количество поездок за нижней границей: 910\n",
      "Количество поездок за верхней границей: 126\n"
     ]
    }
   ],
   "source": [
    "# Посмотрим какое количество поездок оказалось за усами боксплота\n",
    "q1 = rides['Расстояние'].quantile(0.25)\n",
    "q3 = rides['Расстояние'].quantile(0.75)\n",
    "iqr = q3-q1\n",
    "print('Общее количество поездок:', rides['Расстояние'].count())\n",
    "print('Количество поездок за нижней границей:',\n",
    "      rides.query('Расстояние < @q1-@iqr*1.5')['Расстояние'].count())\n",
    "print('Количество поездок за верхней границей:',\n",
    "      rides.query('Расстояние > @q3+@iqr*1.5')['Расстояние'].count())"
   ]
  },
  {
   "cell_type": "markdown",
   "id": "3b30a259",
   "metadata": {},
   "source": [
    "Расстоянние, которое в среднем проезжают пользователи за одну поездку, равняется 3070 метрам. Это значение близко к медиане, которая равна 3133 метра. Основная часть всех поездок укладывается в диапазон расстояний от 2,5 до 3,8 км. На графике размаха видно, что существуют выбросы по верхней и нижней границе усов. Так около 5% поездок находятся за нижним пределом и менее 1% - за верхним. Также наблюдается небольшой \"провал\" в поездках на 1500 м. Возможно, стоит более внимательно изучить очень короткие поездки, в каких городах их больше или, к примеру, посмотреть на зависимость их от подписки. Тогда можно будет предположить с чем это может быть связано"
   ]
  },
  {
   "cell_type": "markdown",
   "id": "e9a1a792",
   "metadata": {},
   "source": [
    "##### Продолжительность поездок"
   ]
  },
  {
   "cell_type": "code",
   "execution_count": 25,
   "id": "c854aa0c",
   "metadata": {},
   "outputs": [
    {
     "data": {
      "image/png": "[encoded data removed]",
      "text/plain": [
       "<Figure size 720x576 with 2 Axes>"
      ]
     },
     "metadata": {
      "needs_background": "light"
     },
     "output_type": "display_data"
    },
    {
     "name": "stdout",
     "output_type": "stream",
     "text": [
      "Статистические данные по времени одной поездки: \n",
      "\n",
      "count   18,068.00\n",
      "mean        17.81\n",
      "std          6.09\n",
      "min          0.50\n",
      "25%         13.60\n",
      "50%         17.68\n",
      "75%         21.72\n",
      "max         40.82\n",
      "Name: Продолжительность, dtype: float64\n"
     ]
    }
   ],
   "source": [
    "#Построим гистограмму и боксплот для длительности поездок\n",
    "# создадим два подграфика\n",
    "f, (ax_box, ax_hist) = \\\n",
    "plt.subplots(nrows = 2, \n",
    "             ncols = 1, \n",
    "             sharex = True, \n",
    "             gridspec_kw = {'height_ratios': (.15, .85)},\n",
    "             figsize = (10,8)) \n",
    "# в первом подграфике построим boxplot\n",
    "sns.boxplot(x = rides['Продолжительность'],\n",
    "            ax = ax_box,\n",
    "            showmeans=True, # покажем среднее значение\n",
    "            meanprops={\"marker\": \"o\",\n",
    "                       \"markeredgecolor\": \"white\",\n",
    "                       \"markersize\": \"8\"})\n",
    "# во втором гистограмму\n",
    "sns.histplot(data = rides['Продолжительность'], bins = 20, ax = ax_hist)\n",
    "\n",
    "# зададим заголовок и подписи к осям\n",
    "ax_box.set_title('Продолжительность одной поездки', fontsize = 17)\n",
    "ax_hist.set_xlabel('Продолжительность', fontsize = 15)\n",
    "ax_hist.set_ylabel('Поездки', fontsize = 15)\n",
    "\n",
    "plt.show()\n",
    "\n",
    "#Покажем статистические данные\n",
    "print('Статистические данные по времени одной поездки:', '\\n')\n",
    "print(rides['Продолжительность'].describe())"
   ]
  },
  {
   "cell_type": "code",
   "execution_count": 26,
   "id": "bcb76554",
   "metadata": {},
   "outputs": [
    {
     "name": "stdout",
     "output_type": "stream",
     "text": [
      "Общее количество поездок: 18068\n",
      "Количество поездок за верхней границей: 82\n"
     ]
    }
   ],
   "source": [
    "# Посмотрим какое количество поездок оказалось за верхней границей\n",
    "q1 = rides['Продолжительность'].quantile(0.25)\n",
    "q3 = rides['Продолжительность'].quantile(0.75)\n",
    "iqr = q3-q1\n",
    "\n",
    "print('Общее количество поездок:', rides['Продолжительность'].count())\n",
    "print('Количество поездок за верхней границей:',\n",
    "      rides.query('Продолжительность > @q3+@iqr*1.5')['Продолжительность'].count())"
   ]
  },
  {
   "cell_type": "markdown",
   "id": "3ca25707",
   "metadata": {},
   "source": [
    "Средняя продолжительность поездки составляет 17,81 минут, что очень близко к медианному значению. Более половины всех пользователей укладывают свои поездки по времени в диапазон от 13 до 22 минут. Есть один выброс за пределами нижней границы усов, также несколько выбросов за верхним пределом, их менее 0,5% от общего количества."
   ]
  },
  {
   "cell_type": "markdown",
   "id": "aadbcfb9",
   "metadata": {},
   "source": [
    "**Вывод:**\n",
    "По результатам исследовательского анализа можно сделать следующие выводы:\n",
    "\n",
    "- Больше всего пользователей сервиса находятся в г.Пятигорске, их в данном датасете 218 человек. Меньше всего представлена Москва, здесь данные только о 168 пользователях. Всего в данной базе есть информация по восьми городам.\n",
    "- Пользователей с подпиской на 8,8% иеньше, чем пользователей без подписки.\n",
    "- Средний возраст пользователя - 25 лет. В возрастную группу от 22 до 28 лет входит 50% всех клиентов. \n",
    "- Расстоянние, которое в среднем проезжают пользователи за одну поездку, равняется 3070 метрам. Это значение близко к медиане, которая равна 3133 метра. Основная часть всех поездок укладывается в диапазон расстояний от 2,5 до 3,8 км. - Средняя продолжительность поездки составляет 17,81 минут. Более половины всех пользователей укладывают свои поездки по времени в диапазон от 13 до 22 минут. "
   ]
  },
  {
   "cell_type": "markdown",
   "id": "fadb4b57",
   "metadata": {},
   "source": [
    "#### Шаг 4. Объединение данных"
   ]
  },
  {
   "cell_type": "markdown",
   "id": "958f6ab3",
   "metadata": {},
   "source": [
    "##### Объединяем данные о пользователях, поездках и подписках в один датафрейм."
   ]
  },
  {
   "cell_type": "code",
   "execution_count": 27,
   "id": "cfeb9b19",
   "metadata": {},
   "outputs": [
    {
     "data": {
      "text/plain": [
       "1534"
      ]
     },
     "execution_count": 27,
     "metadata": {},
     "output_type": "execute_result"
    }
   ],
   "source": [
    "temp = users.copy() # создаем копию датасета до преобразования\n",
    "\n",
    "len(temp)# посмотрим размер датасета до преобразования"
   ]
  },
  {
   "cell_type": "code",
   "execution_count": 28,
   "id": "013b99e9",
   "metadata": {},
   "outputs": [
    {
     "data": {
      "text/plain": [
       "18068"
      ]
     },
     "execution_count": 28,
     "metadata": {},
     "output_type": "execute_result"
    }
   ],
   "source": [
    "len(rides)# посмотрим размер датасета до преобразования"
   ]
  },
  {
   "cell_type": "code",
   "execution_count": 29,
   "id": "e044d930",
   "metadata": {},
   "outputs": [
    {
     "data": {
      "text/plain": [
       "2"
      ]
     },
     "execution_count": 29,
     "metadata": {},
     "output_type": "execute_result"
    }
   ],
   "source": [
    "len(subscriptions)# посмотрим размер датасета до преобразования"
   ]
  },
  {
   "cell_type": "code",
   "execution_count": 30,
   "id": "8784225f",
   "metadata": {
    "scrolled": true
   },
   "outputs": [
    {
     "data": {
      "text/html": [
       "<div>\n",
       "<style scoped>\n",
       "    .dataframe tbody tr th:only-of-type {\n",
       "        vertical-align: middle;\n",
       "    }\n",
       "\n",
       "    .dataframe tbody tr th {\n",
       "        vertical-align: top;\n",
       "    }\n",
       "\n",
       "    .dataframe thead th {\n",
       "        text-align: right;\n",
       "    }\n",
       "</style>\n",
       "<table border=\"1\" class=\"dataframe\">\n",
       "  <thead>\n",
       "    <tr style=\"text-align: right;\">\n",
       "      <th></th>\n",
       "      <th>Пользователи</th>\n",
       "      <th>Имя</th>\n",
       "      <th>Возраст</th>\n",
       "      <th>Город</th>\n",
       "      <th>Подписка</th>\n",
       "      <th>Расстояние</th>\n",
       "      <th>Продолжительность</th>\n",
       "      <th>Дата</th>\n",
       "      <th>Месяц</th>\n",
       "      <th>Стоимость минуты</th>\n",
       "      <th>Стоимость старта</th>\n",
       "      <th>Ежемесячный платеж</th>\n",
       "    </tr>\n",
       "  </thead>\n",
       "  <tbody>\n",
       "    <tr>\n",
       "      <th>0</th>\n",
       "      <td>1</td>\n",
       "      <td>Кира</td>\n",
       "      <td>22</td>\n",
       "      <td>Тюмень</td>\n",
       "      <td>ultra</td>\n",
       "      <td>4,409.92</td>\n",
       "      <td>25.60</td>\n",
       "      <td>2021-01-01</td>\n",
       "      <td>1</td>\n",
       "      <td>6</td>\n",
       "      <td>0</td>\n",
       "      <td>199</td>\n",
       "    </tr>\n",
       "    <tr>\n",
       "      <th>1</th>\n",
       "      <td>1</td>\n",
       "      <td>Кира</td>\n",
       "      <td>22</td>\n",
       "      <td>Тюмень</td>\n",
       "      <td>ultra</td>\n",
       "      <td>2,617.59</td>\n",
       "      <td>15.82</td>\n",
       "      <td>2021-01-18</td>\n",
       "      <td>1</td>\n",
       "      <td>6</td>\n",
       "      <td>0</td>\n",
       "      <td>199</td>\n",
       "    </tr>\n",
       "    <tr>\n",
       "      <th>2</th>\n",
       "      <td>1</td>\n",
       "      <td>Кира</td>\n",
       "      <td>22</td>\n",
       "      <td>Тюмень</td>\n",
       "      <td>ultra</td>\n",
       "      <td>754.16</td>\n",
       "      <td>6.23</td>\n",
       "      <td>2021-04-20</td>\n",
       "      <td>4</td>\n",
       "      <td>6</td>\n",
       "      <td>0</td>\n",
       "      <td>199</td>\n",
       "    </tr>\n",
       "    <tr>\n",
       "      <th>3</th>\n",
       "      <td>1</td>\n",
       "      <td>Кира</td>\n",
       "      <td>22</td>\n",
       "      <td>Тюмень</td>\n",
       "      <td>ultra</td>\n",
       "      <td>2,694.78</td>\n",
       "      <td>18.51</td>\n",
       "      <td>2021-08-11</td>\n",
       "      <td>8</td>\n",
       "      <td>6</td>\n",
       "      <td>0</td>\n",
       "      <td>199</td>\n",
       "    </tr>\n",
       "    <tr>\n",
       "      <th>4</th>\n",
       "      <td>1</td>\n",
       "      <td>Кира</td>\n",
       "      <td>22</td>\n",
       "      <td>Тюмень</td>\n",
       "      <td>ultra</td>\n",
       "      <td>4,028.69</td>\n",
       "      <td>26.27</td>\n",
       "      <td>2021-08-28</td>\n",
       "      <td>8</td>\n",
       "      <td>6</td>\n",
       "      <td>0</td>\n",
       "      <td>199</td>\n",
       "    </tr>\n",
       "  </tbody>\n",
       "</table>\n",
       "</div>"
      ],
      "text/plain": [
       "   Пользователи   Имя  Возраст   Город Подписка  Расстояние  \\\n",
       "0             1  Кира       22  Тюмень    ultra    4,409.92   \n",
       "1             1  Кира       22  Тюмень    ultra    2,617.59   \n",
       "2             1  Кира       22  Тюмень    ultra      754.16   \n",
       "3             1  Кира       22  Тюмень    ultra    2,694.78   \n",
       "4             1  Кира       22  Тюмень    ultra    4,028.69   \n",
       "\n",
       "   Продолжительность       Дата  Месяц  Стоимость минуты  Стоимость старта  \\\n",
       "0              25.60 2021-01-01      1                 6                 0   \n",
       "1              15.82 2021-01-18      1                 6                 0   \n",
       "2               6.23 2021-04-20      4                 6                 0   \n",
       "3              18.51 2021-08-11      8                 6                 0   \n",
       "4              26.27 2021-08-28      8                 6                 0   \n",
       "\n",
       "   Ежемесячный платеж  \n",
       "0                 199  \n",
       "1                 199  \n",
       "2                 199  \n",
       "3                 199  \n",
       "4                 199  "
      ]
     },
     "execution_count": 30,
     "metadata": {},
     "output_type": "execute_result"
    }
   ],
   "source": [
    "# Объединим сначала два датасета по столбцу с ID пользователя\n",
    "users = users.merge(rides, on='Пользователи', how='outer')\n",
    "\n",
    "# Затем объединим получившийся датасет с третьим по столбцу Подписка\n",
    "users = users.merge(subscriptions, on='Подписка', how='outer')\n",
    "\n",
    "users.head()"
   ]
  },
  {
   "cell_type": "code",
   "execution_count": 31,
   "id": "c72ec667",
   "metadata": {},
   "outputs": [
    {
     "name": "stdout",
     "output_type": "stream",
     "text": [
      "<class 'pandas.core.frame.DataFrame'>\n",
      "Int64Index: 18068 entries, 0 to 18067\n",
      "Data columns (total 12 columns):\n",
      " #   Column              Non-Null Count  Dtype         \n",
      "---  ------              --------------  -----         \n",
      " 0   Пользователи        18068 non-null  int64         \n",
      " 1   Имя                 18068 non-null  object        \n",
      " 2   Возраст             18068 non-null  int64         \n",
      " 3   Город               18068 non-null  object        \n",
      " 4   Подписка            18068 non-null  object        \n",
      " 5   Расстояние          18068 non-null  float64       \n",
      " 6   Продолжительность   18068 non-null  float64       \n",
      " 7   Дата                18068 non-null  datetime64[ns]\n",
      " 8   Месяц               18068 non-null  int64         \n",
      " 9   Стоимость минуты    18068 non-null  int64         \n",
      " 10  Стоимость старта    18068 non-null  int64         \n",
      " 11  Ежемесячный платеж  18068 non-null  int64         \n",
      "dtypes: datetime64[ns](1), float64(2), int64(6), object(3)\n",
      "memory usage: 1.8+ MB\n"
     ]
    }
   ],
   "source": [
    "users.info()"
   ]
  },
  {
   "cell_type": "code",
   "execution_count": 32,
   "id": "44b6a5a2",
   "metadata": {},
   "outputs": [
    {
     "data": {
      "text/plain": [
       "18068"
      ]
     },
     "execution_count": 32,
     "metadata": {},
     "output_type": "execute_result"
    }
   ],
   "source": [
    "len(users)# посмотрим размер датасета после объединения"
   ]
  },
  {
   "cell_type": "markdown",
   "id": "a777614d",
   "metadata": {},
   "source": [
    "##### Создаем ещё два датафрейма из датафрейма, созданного на этапе 4.1."
   ]
  },
  {
   "cell_type": "code",
   "execution_count": 33,
   "id": "53266a89",
   "metadata": {},
   "outputs": [],
   "source": [
    "# Создаем датафрейм с данными о пользователях без подписки\n",
    "users_free = users[users['Подписка'] == 'free']"
   ]
  },
  {
   "cell_type": "code",
   "execution_count": 34,
   "id": "9628baaa",
   "metadata": {},
   "outputs": [
    {
     "name": "stdout",
     "output_type": "stream",
     "text": [
      "<class 'pandas.core.frame.DataFrame'>\n",
      "Int64Index: 11568 entries, 6500 to 18067\n",
      "Data columns (total 12 columns):\n",
      " #   Column              Non-Null Count  Dtype         \n",
      "---  ------              --------------  -----         \n",
      " 0   Пользователи        11568 non-null  int64         \n",
      " 1   Имя                 11568 non-null  object        \n",
      " 2   Возраст             11568 non-null  int64         \n",
      " 3   Город               11568 non-null  object        \n",
      " 4   Подписка            11568 non-null  object        \n",
      " 5   Расстояние          11568 non-null  float64       \n",
      " 6   Продолжительность   11568 non-null  float64       \n",
      " 7   Дата                11568 non-null  datetime64[ns]\n",
      " 8   Месяц               11568 non-null  int64         \n",
      " 9   Стоимость минуты    11568 non-null  int64         \n",
      " 10  Стоимость старта    11568 non-null  int64         \n",
      " 11  Ежемесячный платеж  11568 non-null  int64         \n",
      "dtypes: datetime64[ns](1), float64(2), int64(6), object(3)\n",
      "memory usage: 1.1+ MB\n"
     ]
    }
   ],
   "source": [
    "users_free.info()"
   ]
  },
  {
   "cell_type": "code",
   "execution_count": 35,
   "id": "176b9843",
   "metadata": {},
   "outputs": [],
   "source": [
    "# Создаем датафрейм с данными о пользователях с подпиской\n",
    "users_ultra = users[users['Подписка'] == 'ultra']"
   ]
  },
  {
   "cell_type": "code",
   "execution_count": 36,
   "id": "1cbfddf6",
   "metadata": {},
   "outputs": [
    {
     "name": "stdout",
     "output_type": "stream",
     "text": [
      "<class 'pandas.core.frame.DataFrame'>\n",
      "Int64Index: 6500 entries, 0 to 6499\n",
      "Data columns (total 12 columns):\n",
      " #   Column              Non-Null Count  Dtype         \n",
      "---  ------              --------------  -----         \n",
      " 0   Пользователи        6500 non-null   int64         \n",
      " 1   Имя                 6500 non-null   object        \n",
      " 2   Возраст             6500 non-null   int64         \n",
      " 3   Город               6500 non-null   object        \n",
      " 4   Подписка            6500 non-null   object        \n",
      " 5   Расстояние          6500 non-null   float64       \n",
      " 6   Продолжительность   6500 non-null   float64       \n",
      " 7   Дата                6500 non-null   datetime64[ns]\n",
      " 8   Месяц               6500 non-null   int64         \n",
      " 9   Стоимость минуты    6500 non-null   int64         \n",
      " 10  Стоимость старта    6500 non-null   int64         \n",
      " 11  Ежемесячный платеж  6500 non-null   int64         \n",
      "dtypes: datetime64[ns](1), float64(2), int64(6), object(3)\n",
      "memory usage: 660.2+ KB\n"
     ]
    }
   ],
   "source": [
    "users_ultra.info()"
   ]
  },
  {
   "cell_type": "markdown",
   "id": "5751a230",
   "metadata": {},
   "source": [
    "##### Визуализируем информацию о расстоянии и времени поездок для пользователей обеих категорий"
   ]
  },
  {
   "cell_type": "code",
   "execution_count": 37,
   "id": "ce8a1d8a",
   "metadata": {},
   "outputs": [
    {
     "data": {
      "image/png": "[encoded data removed]",
      "text/plain": [
       "<Figure size 720x576 with 2 Axes>"
      ]
     },
     "metadata": {
      "needs_background": "light"
     },
     "output_type": "display_data"
    },
    {
     "name": "stdout",
     "output_type": "stream",
     "text": [
      "Статистические данные по расстоянию поездок пользователей без подписки: \n",
      "\n",
      "count   11,568.00\n",
      "mean     3,045.50\n",
      "std      1,246.17\n",
      "min          0.86\n",
      "25%      2,366.56\n",
      "50%      3,114.65\n",
      "75%      3,905.70\n",
      "max      7,211.01\n",
      "Name: Расстояние, dtype: float64\n"
     ]
    }
   ],
   "source": [
    "#Построим гистограмму и боксплот для расстояния поездок\n",
    "#пользователей  без подписки\n",
    "# создадим два подграфика\n",
    "f, (ax_box, ax_hist) = \\\n",
    "plt.subplots(nrows = 2, # из двух строк\n",
    "             ncols = 1, # и одного столбца\n",
    "             sharex = True, # оставим только нижние подписи к оси Х\n",
    "             gridspec_kw = {'height_ratios': (.15, .85)}, # зададим разную высоту строк\n",
    "             figsize = (10,8)) # зададим размер графика\n",
    "# в первом подграфике построим boxplot\n",
    "sns.boxplot(x = users_free['Расстояние'],\n",
    "            ax = ax_box,\n",
    "            showmeans=True, # покажем среднее значение\n",
    "            meanprops={\"marker\": \"o\",\n",
    "                       \"markeredgecolor\": \"white\",\n",
    "                       \"markersize\": \"8\"})\n",
    "# во втором гистограмму\n",
    "sns.histplot(data = users_free['Расстояние'], bins = 20, ax = ax_hist)\n",
    " \n",
    "# зададим заголовок и подписи к осям\n",
    "ax_box.set_title('Расстояние поездок пользователей без подписки', fontsize = 17)\n",
    "ax_hist.set_xlabel('Расстояние, м', fontsize = 15)\n",
    "ax_hist.set_ylabel('Количество поездок', fontsize = 15)\n",
    "\n",
    "plt.show()\n",
    "\n",
    "#Покажем статистические данные\n",
    "print('Статистические данные по расстоянию поездок пользователей без подписки:', '\\n')\n",
    "print(users_free['Расстояние'].describe())"
   ]
  },
  {
   "cell_type": "code",
   "execution_count": 38,
   "id": "050ef717",
   "metadata": {},
   "outputs": [
    {
     "data": {
      "image/png": "[encoded data removed]",
      "text/plain": [
       "<Figure size 720x576 with 2 Axes>"
      ]
     },
     "metadata": {
      "needs_background": "light"
     },
     "output_type": "display_data"
    },
    {
     "name": "stdout",
     "output_type": "stream",
     "text": [
      "Статистические данные по расстоянию поездок пользователей с подпиской: \n",
      "\n",
      "count   6,500.00\n",
      "mean    3,115.45\n",
      "std       836.90\n",
      "min       244.21\n",
      "25%     2,785.44\n",
      "50%     3,148.64\n",
      "75%     3,560.57\n",
      "max     5,699.77\n",
      "Name: Расстояние, dtype: float64\n"
     ]
    }
   ],
   "source": [
    "#Построим гистограмму и боксплот для расстояния поездок\n",
    "#пользователей  с подпиской\n",
    "# создадим два подграфика\n",
    "f, (ax_box, ax_hist) = plt.subplots(nrows = 2, \n",
    "                                    ncols = 1, \n",
    "                                    sharex = True, \n",
    "                                    gridspec_kw = {'height_ratios': (.15, .85)}, \n",
    "                                    figsize = (10,8)) \n",
    "# в первом подграфике построим boxplot\n",
    "sns.boxplot(x = users_ultra['Расстояние'],\n",
    "            ax = ax_box,\n",
    "            showmeans=True,\n",
    "            meanprops={\"marker\": \"o\",\n",
    "                       \"markeredgecolor\": \"white\",\n",
    "                       \"markersize\": \"8\"})\n",
    "# во втором гистограмму\n",
    "sns.histplot(data = users_ultra['Расстояние'], bins = 20, ax = ax_hist)\n",
    " \n",
    "# зададим заголовок и подписи к осям\n",
    "ax_box.set_title('Расстояние поездок пользователей с подпиской', fontsize = 17)\n",
    "ax_hist.set_xlabel('Расстояние, м', fontsize = 15)\n",
    "ax_hist.set_ylabel('Количество поездок', fontsize = 15)\n",
    "\n",
    "plt.show()\n",
    "\n",
    "#Покажем статистические данные\n",
    "print('Статистические данные по расстоянию поездок пользователей с подпиской:', '\\n')\n",
    "print(users_ultra['Расстояние'].describe())"
   ]
  },
  {
   "cell_type": "code",
   "execution_count": 69,
   "id": "f834bdc6",
   "metadata": {},
   "outputs": [
    {
     "data": {
      "image/png": "[encoded data removed]",
      "text/plain": [
       "<Figure size 720x576 with 3 Axes>"
      ]
     },
     "metadata": {
      "needs_background": "light"
     },
     "output_type": "display_data"
    },
    {
     "name": "stdout",
     "output_type": "stream",
     "text": [
      "Статистические данные по длительности поездок пользователей с подпиской \n",
      "\n",
      "count   6,500.00\n",
      "mean       18.54\n",
      "std         5.57\n",
      "min         3.76\n",
      "25%        14.52\n",
      "50%        18.18\n",
      "75%        21.88\n",
      "max        40.82\n",
      "Name: Продолжительность, dtype: float64\n"
     ]
    }
   ],
   "source": [
    "#Построим гистограмму и боксплот для длительности поездок\n",
    "#пользователей  с подпиской и без\n",
    "# создадим два подграфика\n",
    "f, (ax_box, ax_box_2, ax_hist) = plt.subplots(nrows = 3, \n",
    "                                    ncols = 1, \n",
    "                                    sharex = True, \n",
    "                                    gridspec_kw = {'height_ratios': (.15, .15, .85)}, \n",
    "                                    figsize = (10,8)) \n",
    "# в первом подграфике построим boxplot\n",
    "sns.boxplot(x = users_ultra['Продолжительность'],\n",
    "            ax = ax_box,\n",
    "            showmeans=True,\n",
    "            meanprops={\"marker\": \"o\",\n",
    "                       \"markeredgecolor\": \"white\",\n",
    "                       \"markersize\": \"8\"},\n",
    "            color='#94AF9F')\n",
    "\n",
    "sns.boxplot(x = users_free['Продолжительность'],\n",
    "            ax = ax_box_2,\n",
    "            showmeans=True,\n",
    "            meanprops={\"marker\": \"o\",\n",
    "                       \"markeredgecolor\": \"white\",\n",
    "                       \"markersize\": \"8\"},\n",
    "            color='#D5B4B4')\n",
    "\n",
    "# во втором гистограмму\n",
    "sns.histplot(data = users_free['Продолжительность'], bins = 20, ax = ax_hist, color='#D5B4B4', alpha=.5, label='без подписки')\n",
    "sns.histplot(data = users_ultra['Продолжительность'], bins = 20, ax = ax_hist, color='#94AF9F', alpha=.5, label='с подпиской')\n",
    "ax_hist.legend()\n",
    " \n",
    "# зададим заголовок и подписи к осям\n",
    "ax_box.set_title('Продолжительность поездок пользователей с подпиской', fontsize = 12)\n",
    "ax_box.set_xlabel('')\n",
    "ax_box_2.set_title('Продолжительность поездок пользователей без подписки', fontsize = 12)\n",
    "ax_box_2.set_xlabel('')\n",
    "ax_hist.set_xlabel('Время, мин', fontsize = 11)\n",
    "ax_hist.set_ylabel('Количество поездок', fontsize = 11)\n",
    "\n",
    "plt.show()\n",
    "\n",
    "print('Статистические данные по длительности поездок пользователей с подпиской', '\\n')\n",
    "print(users_ultra['Продолжительность'].describe())"
   ]
  },
  {
   "cell_type": "markdown",
   "id": "dcee933c",
   "metadata": {},
   "source": [
    "**Вывод:**\n",
    "\n",
    "  На данном этапе мы собрали все данные в один датафрейм, а затем сделали еще два отдельных датафрейма: для пользователей с подпиской и без подписки. В результате этого мы смогли визуализировать такие показатели как дальность и продолжительность поездок для каждой категории пользователей отдельно.\n",
    "  \n",
    "  Следует отметить, что в исследуемом датасете пользователей без подписки всего на 8,8% больше, чем с подпиской, однако, за представленный период первые совершили почти в два раза больше поездок, чем вторые. При этом, средние значения и медианы для обоих групп схожи и находятся в радиусе +/- 50м от отметки в 3100 м. По продолжительности поездок показатели для обоих групп тоже схожи. Разница между средними и медианными значениями в пределах 1 минуты. Для пользователей без подписки среднее время составляет 17,39 мин, для пользователей с подпиской - 18,54 мин."
   ]
  },
  {
   "cell_type": "markdown",
   "id": "ff608d02",
   "metadata": {},
   "source": [
    "#### Подсчёт выручки"
   ]
  },
  {
   "cell_type": "markdown",
   "id": "849bb1cd",
   "metadata": {},
   "source": [
    " ##### Создадим датафрейм с агрегированными данными о поездках на основе датафрейма с объединёнными данными из шага 4. Найдем суммарное расстояние, количество поездок и суммарное время для каждого пользователя за каждый месяц."
   ]
  },
  {
   "cell_type": "code",
   "execution_count": 41,
   "id": "2a43acc4",
   "metadata": {},
   "outputs": [
    {
     "data": {
      "text/html": [
       "<div>\n",
       "<style scoped>\n",
       "    .dataframe tbody tr th:only-of-type {\n",
       "        vertical-align: middle;\n",
       "    }\n",
       "\n",
       "    .dataframe tbody tr th {\n",
       "        vertical-align: top;\n",
       "    }\n",
       "\n",
       "    .dataframe thead th {\n",
       "        text-align: right;\n",
       "    }\n",
       "</style>\n",
       "<table border=\"1\" class=\"dataframe\">\n",
       "  <thead>\n",
       "    <tr style=\"text-align: right;\">\n",
       "      <th></th>\n",
       "      <th>Пользователи</th>\n",
       "      <th>Месяц</th>\n",
       "      <th>Подписка</th>\n",
       "      <th>Кол-во поездок</th>\n",
       "      <th>Продолжительность</th>\n",
       "      <th>Расстояние</th>\n",
       "    </tr>\n",
       "  </thead>\n",
       "  <tbody>\n",
       "    <tr>\n",
       "      <th>0</th>\n",
       "      <td>1</td>\n",
       "      <td>1</td>\n",
       "      <td>ultra</td>\n",
       "      <td>2</td>\n",
       "      <td>42.00</td>\n",
       "      <td>7,027.51</td>\n",
       "    </tr>\n",
       "    <tr>\n",
       "      <th>1</th>\n",
       "      <td>1</td>\n",
       "      <td>4</td>\n",
       "      <td>ultra</td>\n",
       "      <td>1</td>\n",
       "      <td>7.00</td>\n",
       "      <td>754.16</td>\n",
       "    </tr>\n",
       "    <tr>\n",
       "      <th>2</th>\n",
       "      <td>1</td>\n",
       "      <td>8</td>\n",
       "      <td>ultra</td>\n",
       "      <td>2</td>\n",
       "      <td>46.00</td>\n",
       "      <td>6,723.47</td>\n",
       "    </tr>\n",
       "    <tr>\n",
       "      <th>3</th>\n",
       "      <td>1</td>\n",
       "      <td>10</td>\n",
       "      <td>ultra</td>\n",
       "      <td>2</td>\n",
       "      <td>32.00</td>\n",
       "      <td>5,809.91</td>\n",
       "    </tr>\n",
       "    <tr>\n",
       "      <th>4</th>\n",
       "      <td>1</td>\n",
       "      <td>11</td>\n",
       "      <td>ultra</td>\n",
       "      <td>3</td>\n",
       "      <td>56.00</td>\n",
       "      <td>7,003.50</td>\n",
       "    </tr>\n",
       "    <tr>\n",
       "      <th>5</th>\n",
       "      <td>1</td>\n",
       "      <td>12</td>\n",
       "      <td>ultra</td>\n",
       "      <td>2</td>\n",
       "      <td>28.00</td>\n",
       "      <td>6,751.63</td>\n",
       "    </tr>\n",
       "    <tr>\n",
       "      <th>6</th>\n",
       "      <td>2</td>\n",
       "      <td>3</td>\n",
       "      <td>ultra</td>\n",
       "      <td>3</td>\n",
       "      <td>63.00</td>\n",
       "      <td>10,187.72</td>\n",
       "    </tr>\n",
       "    <tr>\n",
       "      <th>7</th>\n",
       "      <td>2</td>\n",
       "      <td>4</td>\n",
       "      <td>ultra</td>\n",
       "      <td>2</td>\n",
       "      <td>40.00</td>\n",
       "      <td>6,164.38</td>\n",
       "    </tr>\n",
       "    <tr>\n",
       "      <th>8</th>\n",
       "      <td>2</td>\n",
       "      <td>6</td>\n",
       "      <td>ultra</td>\n",
       "      <td>1</td>\n",
       "      <td>14.00</td>\n",
       "      <td>3,255.34</td>\n",
       "    </tr>\n",
       "    <tr>\n",
       "      <th>9</th>\n",
       "      <td>2</td>\n",
       "      <td>7</td>\n",
       "      <td>ultra</td>\n",
       "      <td>2</td>\n",
       "      <td>48.00</td>\n",
       "      <td>6,780.72</td>\n",
       "    </tr>\n",
       "  </tbody>\n",
       "</table>\n",
       "</div>"
      ],
      "text/plain": [
       "   Пользователи  Месяц Подписка  Кол-во поездок  Продолжительность  Расстояние\n",
       "0             1      1    ultra               2              42.00    7,027.51\n",
       "1             1      4    ultra               1               7.00      754.16\n",
       "2             1      8    ultra               2              46.00    6,723.47\n",
       "3             1     10    ultra               2              32.00    5,809.91\n",
       "4             1     11    ultra               3              56.00    7,003.50\n",
       "5             1     12    ultra               2              28.00    6,751.63\n",
       "6             2      3    ultra               3              63.00   10,187.72\n",
       "7             2      4    ultra               2              40.00    6,164.38\n",
       "8             2      6    ultra               1              14.00    3,255.34\n",
       "9             2      7    ultra               2              48.00    6,780.72"
      ]
     },
     "execution_count": 41,
     "metadata": {},
     "output_type": "execute_result"
    }
   ],
   "source": [
    "# Округлим значения продолжительности поездок до объединения\n",
    "users['Продолжительность'] = np.ceil(users['Продолжительность'])\n",
    "\n",
    "# Создадим датафрейм с использованием сводной таблицы\n",
    "users_agg = users.pivot_table(\n",
    "    index=['Пользователи', 'Месяц', 'Подписка'],\n",
    "    values=['Расстояние', 'Продолжительность', 'Имя'],\n",
    "    aggfunc={'Расстояние':'sum', 'Продолжительность':'sum', 'Имя':'count'})\\\n",
    "    .reset_index()\n",
    "\n",
    "# Переименуем столбцы\n",
    "users_agg = users_agg.rename(columns={'Имя':'Кол-во поездок'})\n",
    "\n",
    "users_agg.head(10)"
   ]
  },
  {
   "cell_type": "markdown",
   "id": "266ed56a",
   "metadata": {},
   "source": [
    " ##### Добавим столбец с помесячной выручкой, которую принёс каждый пользователь. "
   ]
  },
  {
   "cell_type": "code",
   "execution_count": 42,
   "id": "65abb68b",
   "metadata": {},
   "outputs": [
    {
     "data": {
      "text/html": [
       "<div>\n",
       "<style scoped>\n",
       "    .dataframe tbody tr th:only-of-type {\n",
       "        vertical-align: middle;\n",
       "    }\n",
       "\n",
       "    .dataframe tbody tr th {\n",
       "        vertical-align: top;\n",
       "    }\n",
       "\n",
       "    .dataframe thead th {\n",
       "        text-align: right;\n",
       "    }\n",
       "</style>\n",
       "<table border=\"1\" class=\"dataframe\">\n",
       "  <thead>\n",
       "    <tr style=\"text-align: right;\">\n",
       "      <th></th>\n",
       "      <th>Пользователи</th>\n",
       "      <th>Месяц</th>\n",
       "      <th>Подписка</th>\n",
       "      <th>Кол-во поездок</th>\n",
       "      <th>Продолжительность</th>\n",
       "      <th>Расстояние</th>\n",
       "      <th>Стоимость минуты</th>\n",
       "      <th>Стоимость старта</th>\n",
       "      <th>Ежемесячный платеж</th>\n",
       "      <th>Выручка</th>\n",
       "    </tr>\n",
       "  </thead>\n",
       "  <tbody>\n",
       "    <tr>\n",
       "      <th>0</th>\n",
       "      <td>1</td>\n",
       "      <td>1</td>\n",
       "      <td>ultra</td>\n",
       "      <td>2</td>\n",
       "      <td>42.00</td>\n",
       "      <td>7,027.51</td>\n",
       "      <td>6</td>\n",
       "      <td>0</td>\n",
       "      <td>199</td>\n",
       "      <td>451.00</td>\n",
       "    </tr>\n",
       "    <tr>\n",
       "      <th>1</th>\n",
       "      <td>1</td>\n",
       "      <td>4</td>\n",
       "      <td>ultra</td>\n",
       "      <td>1</td>\n",
       "      <td>7.00</td>\n",
       "      <td>754.16</td>\n",
       "      <td>6</td>\n",
       "      <td>0</td>\n",
       "      <td>199</td>\n",
       "      <td>241.00</td>\n",
       "    </tr>\n",
       "    <tr>\n",
       "      <th>2</th>\n",
       "      <td>1</td>\n",
       "      <td>8</td>\n",
       "      <td>ultra</td>\n",
       "      <td>2</td>\n",
       "      <td>46.00</td>\n",
       "      <td>6,723.47</td>\n",
       "      <td>6</td>\n",
       "      <td>0</td>\n",
       "      <td>199</td>\n",
       "      <td>475.00</td>\n",
       "    </tr>\n",
       "    <tr>\n",
       "      <th>3</th>\n",
       "      <td>1</td>\n",
       "      <td>10</td>\n",
       "      <td>ultra</td>\n",
       "      <td>2</td>\n",
       "      <td>32.00</td>\n",
       "      <td>5,809.91</td>\n",
       "      <td>6</td>\n",
       "      <td>0</td>\n",
       "      <td>199</td>\n",
       "      <td>391.00</td>\n",
       "    </tr>\n",
       "    <tr>\n",
       "      <th>4</th>\n",
       "      <td>1</td>\n",
       "      <td>11</td>\n",
       "      <td>ultra</td>\n",
       "      <td>3</td>\n",
       "      <td>56.00</td>\n",
       "      <td>7,003.50</td>\n",
       "      <td>6</td>\n",
       "      <td>0</td>\n",
       "      <td>199</td>\n",
       "      <td>535.00</td>\n",
       "    </tr>\n",
       "    <tr>\n",
       "      <th>5</th>\n",
       "      <td>1</td>\n",
       "      <td>12</td>\n",
       "      <td>ultra</td>\n",
       "      <td>2</td>\n",
       "      <td>28.00</td>\n",
       "      <td>6,751.63</td>\n",
       "      <td>6</td>\n",
       "      <td>0</td>\n",
       "      <td>199</td>\n",
       "      <td>367.00</td>\n",
       "    </tr>\n",
       "    <tr>\n",
       "      <th>6</th>\n",
       "      <td>2</td>\n",
       "      <td>3</td>\n",
       "      <td>ultra</td>\n",
       "      <td>3</td>\n",
       "      <td>63.00</td>\n",
       "      <td>10,187.72</td>\n",
       "      <td>6</td>\n",
       "      <td>0</td>\n",
       "      <td>199</td>\n",
       "      <td>577.00</td>\n",
       "    </tr>\n",
       "    <tr>\n",
       "      <th>7</th>\n",
       "      <td>2</td>\n",
       "      <td>4</td>\n",
       "      <td>ultra</td>\n",
       "      <td>2</td>\n",
       "      <td>40.00</td>\n",
       "      <td>6,164.38</td>\n",
       "      <td>6</td>\n",
       "      <td>0</td>\n",
       "      <td>199</td>\n",
       "      <td>439.00</td>\n",
       "    </tr>\n",
       "    <tr>\n",
       "      <th>8</th>\n",
       "      <td>2</td>\n",
       "      <td>6</td>\n",
       "      <td>ultra</td>\n",
       "      <td>1</td>\n",
       "      <td>14.00</td>\n",
       "      <td>3,255.34</td>\n",
       "      <td>6</td>\n",
       "      <td>0</td>\n",
       "      <td>199</td>\n",
       "      <td>283.00</td>\n",
       "    </tr>\n",
       "    <tr>\n",
       "      <th>9</th>\n",
       "      <td>2</td>\n",
       "      <td>7</td>\n",
       "      <td>ultra</td>\n",
       "      <td>2</td>\n",
       "      <td>48.00</td>\n",
       "      <td>6,780.72</td>\n",
       "      <td>6</td>\n",
       "      <td>0</td>\n",
       "      <td>199</td>\n",
       "      <td>487.00</td>\n",
       "    </tr>\n",
       "  </tbody>\n",
       "</table>\n",
       "</div>"
      ],
      "text/plain": [
       "   Пользователи  Месяц Подписка  Кол-во поездок  Продолжительность  \\\n",
       "0             1      1    ultra               2              42.00   \n",
       "1             1      4    ultra               1               7.00   \n",
       "2             1      8    ultra               2              46.00   \n",
       "3             1     10    ultra               2              32.00   \n",
       "4             1     11    ultra               3              56.00   \n",
       "5             1     12    ultra               2              28.00   \n",
       "6             2      3    ultra               3              63.00   \n",
       "7             2      4    ultra               2              40.00   \n",
       "8             2      6    ultra               1              14.00   \n",
       "9             2      7    ultra               2              48.00   \n",
       "\n",
       "   Расстояние  Стоимость минуты  Стоимость старта  Ежемесячный платеж  Выручка  \n",
       "0    7,027.51                 6                 0                 199   451.00  \n",
       "1      754.16                 6                 0                 199   241.00  \n",
       "2    6,723.47                 6                 0                 199   475.00  \n",
       "3    5,809.91                 6                 0                 199   391.00  \n",
       "4    7,003.50                 6                 0                 199   535.00  \n",
       "5    6,751.63                 6                 0                 199   367.00  \n",
       "6   10,187.72                 6                 0                 199   577.00  \n",
       "7    6,164.38                 6                 0                 199   439.00  \n",
       "8    3,255.34                 6                 0                 199   283.00  \n",
       "9    6,780.72                 6                 0                 199   487.00  "
      ]
     },
     "execution_count": 42,
     "metadata": {},
     "output_type": "execute_result"
    }
   ],
   "source": [
    "# Сначал объединим новый датафрейм с датафреймом о подписках\n",
    "users_agg = users_agg.merge(subscriptions, on='Подписка', how='outer')\n",
    "\n",
    "# Теперь добавим нужный столбец\n",
    "users_agg['Выручка'] = (users_agg['Стоимость старта'] *\\\n",
    "                        users_agg['Кол-во поездок'] +\\\n",
    "                        users_agg['Продолжительность'] *\\\n",
    "                        users_agg['Стоимость минуты'] +\\\n",
    "                        users_agg['Ежемесячный платеж'])\n",
    "\n",
    "users_agg.head(10)"
   ]
  },
  {
   "cell_type": "markdown",
   "id": "d9074ab1",
   "metadata": {},
   "source": [
    " **Вывод:**\n",
    "\n",
    "Для создания датафрейма с агрегированными данными о поездках мы использовали сводные таблицы и применили разные функции к отдельным столбцам.\n",
    "Для подсчета выручки, которую принес каждый пользователь, мы объединили созданный датафрейм с датафреймом о подписках, затем добавили в него столбец с расчетом выручки."
   ]
  },
  {
   "cell_type": "markdown",
   "id": "254d5620",
   "metadata": {},
   "source": [
    "#### Проверка гипотез"
   ]
  },
  {
   "cell_type": "markdown",
   "id": "dd6fdc16",
   "metadata": {},
   "source": [
    "##### Гипотеза 1: Пользователи с подпиской тратят больше времени на поездки, чем пользователи без подписки"
   ]
  },
  {
   "cell_type": "markdown",
   "id": "0aac1a97",
   "metadata": {},
   "source": [
    "Для проверки данной гипотезы будем использовать исходные данные о продолжительности каждой сессии — отдельно для подписчиков и тех, у кого нет подписки.\n",
    "\n",
    "- Н0 - продолжительность сессии у пользователей с подпиской такая же, как и у пользователей без подписки\n",
    "- Н1 - продолжительность сессии у пользователей с подпиской больше,  чем у пользователей без подписки"
   ]
  },
  {
   "cell_type": "code",
   "execution_count": 43,
   "id": "7ef82b3a",
   "metadata": {},
   "outputs": [
    {
     "name": "stdout",
     "output_type": "stream",
     "text": [
      "Средняя продолжительность поездок пользователей с подпиской: 18.54\n",
      "Средняя продолжительность поездок пользователей без подписки: 17.39\n",
      "p-значение: 5.6757813771289775e-37\n",
      "Отвергаем нулевую гипотезу\n"
     ]
    }
   ],
   "source": [
    "# Задаем уровень статистической значимости\n",
    "alpha = 0.05 \n",
    "\n",
    "# Применим ttest для сравнения средних двух генеральных совокупностей\n",
    "results_g1 = st.ttest_ind(\n",
    "    users_ultra['Продолжительность'], \n",
    "    users_free['Продолжительность'],\n",
    "    equal_var=False, # совокупности разные по размеру и дисперсии могут быть разные\n",
    "    alternative='greater')\n",
    "\n",
    "print('Средняя продолжительность поездок пользователей с подпиской:',\n",
    "      users_ultra['Продолжительность'].mean().round(2))\n",
    "print('Средняя продолжительность поездок пользователей без подписки:',\n",
    "      users_free['Продолжительность'].mean().round(2))\n",
    "print('p-значение:', results_g1.pvalue)\n",
    "\n",
    "if results_g1.pvalue < alpha:\n",
    "    print('Отвергаем нулевую гипотезу')\n",
    "else:\n",
    "    print('Не получилось отвергнуть нулевую гипотезу')"
   ]
  },
  {
   "cell_type": "markdown",
   "id": "053f3529",
   "metadata": {},
   "source": [
    "**Вывод:**\n",
    "Гипотеза о том, что пользователи с подпиской тратят больше времени на поездки, чем пользователи без подписки - **подтверждается**."
   ]
  },
  {
   "cell_type": "markdown",
   "id": "7442f6e6",
   "metadata": {},
   "source": [
    "##### Гипотеза 2: Расстояние, которое проезжают пользователи с подпиской за одну поездку, не превышает 3130 метров"
   ]
  },
  {
   "cell_type": "markdown",
   "id": "4ea21322",
   "metadata": {},
   "source": [
    "Для проверки данной гипотезы будем использовать исходные данные о расстоянии каждой поездки пользователей с подпиской.\n",
    "\n",
    "- Н0 - расстояние, которое проезжают пользователи с подпиской за одну поездку равно 3130 метров\n",
    "- Н1 - расстояние, которое проезжают пользователи с подпиской за одну поездку больше 3130 метров"
   ]
  },
  {
   "cell_type": "code",
   "execution_count": 44,
   "id": "1a527b8b",
   "metadata": {},
   "outputs": [
    {
     "name": "stdout",
     "output_type": "stream",
     "text": [
      "p-значение: 0.9195368847849785\n",
      "Не получилось отвергнуть нулевую гипотезу\n"
     ]
    }
   ],
   "source": [
    "# Оптимальное расстояние одной поездки\n",
    "distance = 3130 \n",
    "\n",
    "alpha = 0.05 # уровень статистической значимости\n",
    "\n",
    "# Применим ttest правосторонний\n",
    "results_g2 = st.ttest_1samp(\n",
    "    users_ultra['Расстояние'], \n",
    "    distance,\n",
    "    alternative='greater')\n",
    "\n",
    "print('p-значение:', results_g2.pvalue)\n",
    "\n",
    "if results_g2.pvalue < alpha:\n",
    "    print('Отвергаем нулевую гипотезу')\n",
    "else:\n",
    "    print('Не получилось отвергнуть нулевую гипотезу')"
   ]
  },
  {
   "cell_type": "markdown",
   "id": "8f7262fb",
   "metadata": {},
   "source": [
    "**Вывод:**\n",
    "Гипотеза о том, что расстояние, которое проезжают пользователи с подпиской за одну поездку не превышает 3130 метров - **подтверждается**."
   ]
  },
  {
   "cell_type": "markdown",
   "id": "488b762e",
   "metadata": {},
   "source": [
    "##### Гипотеза 3: Среднемесячная выручка от пользователей с подпиской по выше, чем  от пользователей без подписки. "
   ]
  },
  {
   "cell_type": "markdown",
   "id": "ecc74e41",
   "metadata": {},
   "source": [
    "Для проверки данной гипотезы будем сравнивать среднемесячные показатели выручки для подписчиков и для тех, у кого нет подписки.\n",
    "\n",
    "- Н0 - среднемесячная выручка у пользователей с подпиской такая же, как и у пользователей без подписки\n",
    "- Н1 - среднемесячная выручка у пользователей с подпиской больше,  чем у пользователей без подписки"
   ]
  },
  {
   "cell_type": "code",
   "execution_count": 45,
   "id": "145435e3",
   "metadata": {},
   "outputs": [
    {
     "name": "stdout",
     "output_type": "stream",
     "text": [
      "Среднемесячная выручка пользователей с подпиской: 362.79\n",
      "Среднемесячна выручка пользователей без подписки: 328.64\n",
      "p-значение: 8.874140893976874e-40\n",
      "Отвергаем нулевую гипотезу\n"
     ]
    }
   ],
   "source": [
    "users_agg_ultra = users_agg[users_agg['Подписка'] == 'ultra']\n",
    "users_agg_free = users_agg[users_agg['Подписка'] == 'free']\n",
    "\n",
    "# Задаем уровень статистической значимости\n",
    "alpha = 0.05 \n",
    "\n",
    "# Применим ttest для сравнения средних двух генеральных совокупностей\n",
    "results_g3 = st.ttest_ind(\n",
    "    users_agg_ultra['Выручка'], \n",
    "    users_agg_free['Выручка'],\n",
    "    equal_var=False, # совокупности разные по размеру и дисперсии могут быть разные\n",
    "    alternative='greater')\n",
    "\n",
    "print('Среднемесячная выручка пользователей с подпиской:',\n",
    "      users_agg_ultra['Выручка'].mean().round(2))\n",
    "print('Среднемесячна выручка пользователей без подписки:',\n",
    "      users_agg_free['Выручка'].mean().round(2))\n",
    "print('p-значение:', results_g3.pvalue)\n",
    "\n",
    "if results_g3.pvalue < alpha:\n",
    "    print('Отвергаем нулевую гипотезу')\n",
    "else:\n",
    "    print('Не получилось отвергнуть нулевую гипотезу')"
   ]
  },
  {
   "cell_type": "markdown",
   "id": "d2391311",
   "metadata": {},
   "source": [
    "**Вывод:**\n",
    "Гипотеза о том, что среднемесячная выручка от пользователей с подпиской выше, чем от пользователей без подписки - **подтверждается**."
   ]
  },
  {
   "cell_type": "markdown",
   "id": "9be65652",
   "metadata": {},
   "source": [
    "##### Теоретический вопрос."
   ]
  },
  {
   "cell_type": "markdown",
   "id": "aadf041e",
   "metadata": {},
   "source": [
    "Представьте такую ситуацию: техническая команда сервиса обновила сервера, с которыми взаимодействует мобильное приложение. Она надеется, что из-за этого количество обращений в техподдержку значимо снизилось. Некоторый файл содержит для каждого пользователя данные о количестве обращений до обновления и после него. Какой тест вам понадобился бы для проверки этой гипотезы?"
   ]
  },
  {
   "cell_type": "markdown",
   "id": "29e3b768",
   "metadata": {},
   "source": [
    "**Ответ:**\n",
    "Выборки в этом случае будут зависимыми, т.к. некоторая переменная (в нашем случае это количество обращений в службу поддержки) измеряется дважды для одних и тех же объектов. Поэтому, чтобы проверить гипотезу о равенстве средних двух генеральных совокупностей для зависимых выборок, мы применим метод **scipy.stats.ttest_rel()**. Ему передадим два параметра: наборы данных о количестве обращений до обновления и после него."
   ]
  },
  {
   "cell_type": "markdown",
   "id": "a8966c1e",
   "metadata": {},
   "source": [
    "**Вывод:**\n",
    "В ходе проверки подтвердились следующие гипотезы:\n",
    "- пользователи с подпиской тратят больше времени на поездки, чем пользователи без подписки\n",
    "- расстояние, которое проезжают пользователи с подпиской за одну поездку не превышает 3130 метров\n",
    "- среднемесячная выручка от пользователей с подпиской выше, чем от пользователей без подписки\n",
    "\n",
    "Из этого можно сделать вывод, что увеличение числа пользователей с подпиской может помочь бизнесу вырасти. Поэтому проведение различных акций, способствующих этому, выглядит оправданным действием"
   ]
  },
  {
   "cell_type": "markdown",
   "id": "010e39c9",
   "metadata": {},
   "source": [
    "#### Распределения"
   ]
  },
  {
   "cell_type": "markdown",
   "id": "3bec1889",
   "metadata": {},
   "source": [
    "##### Задача 1.\n",
    "Отделу маркетинга GoFast поставили задачу: нужно провести акцию с раздачей промокодов на один бесплатный месяц подписки, в рамках которой как минимум \n",
    "100 существующих клиентов должны продлить эту подписку. То есть по завершении периода действия подписки пользователь может либо отказаться от неё, либо продлить, совершив соотвествующий платёж. \n",
    "Эта акция уже проводилась ранее и по итогу выяснилось, что после бесплатного пробного периода подписку продлевают 10% пользователей. Выясните, какое минимальное количество промокодов нужно разослать, чтобы вероятность не выполнить план была примерно 5%. Подберите параметры распределения, описывающего эту ситуацию, постройте график распределения и сформулируйте ответ на вопрос о количестве промокодов."
   ]
  },
  {
   "cell_type": "code",
   "execution_count": 46,
   "id": "05a1a97a",
   "metadata": {},
   "outputs": [
    {
     "data": {
      "image/png": "[encoded data removed]",
      "text/plain": [
       "<Figure size 432x288 with 1 Axes>"
      ]
     },
     "metadata": {
      "needs_background": "light"
     },
     "output_type": "display_data"
    }
   ],
   "source": [
    "n = 1000 # количество попыток\n",
    "p = 0.1 # вероятность успеха\n",
    "\n",
    "distr = []\n",
    "\n",
    "for k in range(0, n + 1):\n",
    "    choose = factorial(n) / (factorial(k) * factorial(n - k))\n",
    "    prob = choose * p**k * (1 - p)**(n - k) \n",
    "    distr.append(prob)\n",
    "    \n",
    "plt.bar(range(0, n + 1), distr)\n",
    "plt.title('График распределения')\n",
    "plt.xlabel('Количество попыток')\n",
    "plt.ylabel('Вероятность');"
   ]
  },
  {
   "cell_type": "code",
   "execution_count": 47,
   "id": "87022e27",
   "metadata": {},
   "outputs": [
    {
     "name": "stdout",
     "output_type": "stream",
     "text": [
      "0.05\n"
     ]
    }
   ],
   "source": [
    "# количество попыток\n",
    "n = 1170\n",
    "# вероятность успеха\n",
    "p = 0.1\n",
    "# математическое ожидание\n",
    "mu = n * p\n",
    "# стандартное отклонение\n",
    "sigma = sqrt(n * p * (1 - p))\n",
    "\n",
    "# задаём нормальное распределение \n",
    "distr = st.norm(mu, sigma) \n",
    "\n",
    "# считаем вероятность получить значение, равное 100 или меньше \n",
    "result = distr.cdf(100).round(2)\n",
    "\n",
    "print(result)"
   ]
  },
  {
   "cell_type": "markdown",
   "id": "055d344d",
   "metadata": {},
   "source": [
    "**Вывод:**\n",
    "Мы имеем дело с биноминальным распределением. Из построенного графика видно, что при количестве попыток (выданных промокодах) равном 1000 и вероятности 0.1 (10%) вероятность получить 100 подписок  около 50%. Для того, чтобы эту вероятность увеличить, нужно выдать больше промокодов. Для нашей задачи нужно найти такое количество выданных промокодов, чтобы вероятность получить 100 подписчиков была не ниже 95%. С помощью метода **cdf** мы определили, что нам необходимо выдать не менее **1170** промокодов, тогда мы добьемся нужного результата."
   ]
  },
  {
   "cell_type": "markdown",
   "id": "8d0d32d2",
   "metadata": {},
   "source": [
    "##### Задача 2.\n",
    " Отдел маркетинга рассылает клиентам push-уведомления в мобильном приложении. Клиенты могут открыть его или не открывать. Известно, что уведомления открывают около 40% получивших клиентов. Отдел планирует разослать 1 млн уведомлений. С помощью аппроксимации постройте примерный график распределения и оцените вероятность того, что уведомление откроют не более 399,5 тыс. пользователей."
   ]
  },
  {
   "cell_type": "code",
   "execution_count": 48,
   "id": "8d3b6650",
   "metadata": {},
   "outputs": [
    {
     "data": {
      "image/png": "[encoded data removed]",
      "text/plain": [
       "<Figure size 432x288 with 1 Axes>"
      ]
     },
     "metadata": {
      "needs_background": "light"
     },
     "output_type": "display_data"
    },
    {
     "name": "stdout",
     "output_type": "stream",
     "text": [
      "Условие апроксимации выполняется\n"
     ]
    }
   ],
   "source": [
    "# Выясним,  выполняется ли условие апроксимации\n",
    "\n",
    "# зададим функцию, которая выдаёт <num> чисел,\n",
    "# равномерно распределённых от <start> до <stop>\n",
    "# (понадобится для визуализации нормального распределения)\n",
    "def linspace(start, stop, num):\n",
    "    step = (stop - start) / (num - 1)\n",
    "    result = []\n",
    "    for i in range(num):\n",
    "        result.append(start + step * i)\n",
    "    return result\n",
    " \n",
    "# задаём параметры биномиального распределения\n",
    "n = 1000000\n",
    "p = 0.4\n",
    "\n",
    "# границы промежутка, в котором будем строить аппроксимацию -\n",
    "# от n*p минус 4 ст.отклонения бином.распределения\n",
    "# до n*p плюс 4 ст.отклонения бином.распределения\n",
    "# (там, где вероятности значений почти не равны нулю)\n",
    "left = int(n * p - 4 * sqrt(n * p * (1 - p)))\n",
    "right = int(n * p + 4 * sqrt(n * p * (1 - p)))\n",
    " \n",
    "# зададим набор значений биномиальной величины на выбранном промежутке:\n",
    "# все неотрицательные целые числа от left до right\n",
    "x = list(range(max(0, left), right))\n",
    "# рисуем график биномиального распределения\n",
    "ax = plt.subplot()\n",
    "# используем синие о-образные маркеры и размер маркера 2\n",
    "ax.plot(x, binom.pmf(x, n, p), 'bo', ms=2,\n",
    "      label='вероятности биномиального распределения')\n",
    "\n",
    "# зададим параметры нормального распределения равными\n",
    "# мат.ожиданию и отклонению биномиального распределения\n",
    "mu = n * p\n",
    "sigma = sqrt(n * p * (1 - p))\n",
    " \n",
    "# рисуем график нормального распределения:\n",
    "# получим список из 100 чисел от left до right\n",
    "x = linspace(left, right, 100)\n",
    "# используем красную линию ширины 6 и прозрачности 0.5\n",
    "ax.plot(x, norm.pdf(x, mu, sigma), 'r-', lw=6, alpha=0.5,\n",
    "        label='плотность вероятности нормального распределения')\n",
    " \n",
    "# настраиваем оптимальное расположение легенды и выводим график\n",
    "ax.legend(loc='best')\n",
    "plt.title('Графики нормального и биноминального распределения')\n",
    "plt.xlabel('Количество попыток')\n",
    "plt.ylabel('Вероятность')\n",
    "plt.show()\n",
    "\n",
    "# выводим, выполняется ли наше условие аппроксимации:\n",
    "# лежит ли mu ± 3 sigma в промежутке от 0 до n:\n",
    "if (mu - (3 * sigma) >= 0) and ((mu + (3 * sigma) <= n)):\n",
    "    print('Условие апроксимации выполняется')\n",
    "else:\n",
    "    print('Условие апроксимации не выполняется')"
   ]
  },
  {
   "cell_type": "code",
   "execution_count": 49,
   "id": "e7e90196",
   "metadata": {},
   "outputs": [
    {
     "name": "stdout",
     "output_type": "stream",
     "text": [
      "0.15371708296369768\n"
     ]
    }
   ],
   "source": [
    "# Апроксимируем биноминальное распределение нормальным и рассчитаем вероятность\n",
    "\n",
    "# задаём параметры биномиального распределения\n",
    "n = 1000000\n",
    "p = 0.4\n",
    "\n",
    "# мат.ожидание и стандартное отклонение\n",
    "mu = n * p\n",
    "sigma = sqrt(n * p * (1 - p))\n",
    "\n",
    "# задаём нормальное распределение\n",
    "distr = st.norm(mu, sigma) \n",
    "\n",
    "# считаем вероятность хвоста слева от 399,5 тысяч\n",
    "result = distr.cdf(399500)\n",
    "print(result)"
   ]
  },
  {
   "cell_type": "markdown",
   "id": "37522341",
   "metadata": {},
   "source": [
    "**Вывод:**\n",
    "\n",
    "В данной задаче мы сначала проверили условию апроксимации (лежит ли промежуток (mu +- 3sigma) в пределах, где биноминальное распределение определено. На графике видно, что его форма симметрична  имеет нормальное распределение. Затем, апроксимировали биноминальное распределение нормальным и на шли вероятность выполнения нашего условия. Ответ задачи: при рассылке 1 млн. уведомлений, вероятность что их откроют не более 399,5 тыс. пользователей равна 15,4%"
   ]
  },
  {
   "cell_type": "markdown",
   "id": "49586d1b",
   "metadata": {},
   "source": [
    "#### Общий вывод"
   ]
  },
  {
   "cell_type": "markdown",
   "id": "aa7b50f2",
   "metadata": {},
   "source": [
    "В ходе проекта по исследованию данных сервиса аренды самокатов установлено следующее:\n",
    "\n",
    "- Данные, предоставленные для анализа, содержат сведения о  чуть более 1500 пользователях сервиса аренды и более 18 тыс. совершенных этими пользователями поездках. Пропусков в данных обнаружено не было. Но нашлось несколько явных дубликатов, которые были удалены.\n",
    "- Больше всего пользователей сервиса находятся в г.Пятигорске, их в данном датасете 218 человек. Меньше всего представлена Москва, здесь данные только о 168 пользователях. Всего в данной базе есть информация по восьми городам.\n",
    "- Пользователей с подпиской на 8,8% иеньше, чем пользователей без подписки.\n",
    "- Средний возраст пользователя - 25 лет. В возрастную группу от 22 до 28 лет входит 50% всех клиентов. \n",
    "- Расстоянние, которое в среднем проезжают пользователи за одну поездку, равняется 3070 метрам. Это значение близко к медиане, которая равна 3133 метра. Основная часть всех поездок укладывается в диапазон расстояний от 2,5 до 3,8 км. - Средняя продолжительность поездки составляет 17,81 минут. Более половины всех пользователей укладывают свои поездки по времени в диапазон от 13 до 22 минут.\n",
    "- В ходе исследования мы сделали два отдельных датафрейма: для пользователей с подпиской и без подписки. В результате этого мы смогли визуализировать такие показатели как дальность и продолжительность поездок для каждой категории пользователей отдельно. Также мы подсчитали выручку, которую принесли пользователи двух категорий.\n",
    "- Заметим, что за представленный период пользователи без подписки совершили почти в два раза больше поездок, чем пользователи с подпиской. При этом, средние значения и медианы для обоих групп схожи и находятся в радиусе +/- 50м от отметки в 3100 м. По продолжительности поездок показатели для обоих групп тоже схожи. Разница между средними и медианными значениями в пределах 1 минуты. Для пользователей без подписки среднее время составляет 17,39 мин, для пользователей с подпиской - 18,54 мин.\n",
    "- При схожести средних показателей, разница все же существует. На основании этого были выдвинуты и проверены несколько гипотез. По их результатам установлено, что:\n",
    "  - пользователи с подпиской тратят больше времени на поездки, чем пользователи без подписки\n",
    "  - расстояние, которое проезжают пользователи с подпиской за одну поездку не превышает 3130 метров\n",
    "  - среднемесячная выручка от пользователей с подпиской выше, чем от пользователей без подписки\n",
    "\n",
    "**Из этого можно сделать вывод, что увеличение числа пользователей с подпиской может помочь бизнесу вырасти. Поэтому проведение различных акций, способствующих этому, выглядит оправданным действием**"
   ]
  }
 ],
 "metadata": {
  "ExecuteTimeLog": [
   {
    "duration": 57,
    "start_time": "2023-05-30T19:04:42.804Z"
   },
   {
    "duration": 56,
    "start_time": "2023-05-30T19:04:50.904Z"
   },
   {
    "duration": 61,
    "start_time": "2023-05-30T19:07:34.305Z"
   },
   {
    "duration": 55,
    "start_time": "2023-05-30T19:08:19.313Z"
   },
   {
    "duration": 67,
    "start_time": "2023-05-30T19:08:25.341Z"
   },
   {
    "duration": 42,
    "start_time": "2023-05-30T19:20:36.800Z"
   },
   {
    "duration": 478,
    "start_time": "2023-05-30T19:31:17.684Z"
   },
   {
    "duration": 3,
    "start_time": "2023-05-30T19:33:50.126Z"
   },
   {
    "duration": 107,
    "start_time": "2023-05-30T19:34:39.710Z"
   },
   {
    "duration": 38,
    "start_time": "2023-05-30T19:37:38.010Z"
   },
   {
    "duration": 25,
    "start_time": "2023-05-30T19:38:03.172Z"
   },
   {
    "duration": 101,
    "start_time": "2023-05-30T19:40:19.510Z"
   },
   {
    "duration": 16,
    "start_time": "2023-05-30T19:41:27.312Z"
   },
   {
    "duration": 78,
    "start_time": "2023-05-30T19:43:30.720Z"
   },
   {
    "duration": 14,
    "start_time": "2023-05-30T19:43:58.273Z"
   },
   {
    "duration": 15,
    "start_time": "2023-05-30T19:57:05.773Z"
   },
   {
    "duration": 9,
    "start_time": "2023-05-30T19:57:26.701Z"
   },
   {
    "duration": 9,
    "start_time": "2023-05-30T20:00:11.982Z"
   },
   {
    "duration": 11,
    "start_time": "2023-05-30T20:00:27.719Z"
   },
   {
    "duration": 5,
    "start_time": "2023-05-30T20:06:21.307Z"
   },
   {
    "duration": 8,
    "start_time": "2023-05-30T20:06:41.804Z"
   },
   {
    "duration": 5,
    "start_time": "2023-05-30T20:10:18.055Z"
   },
   {
    "duration": 74,
    "start_time": "2023-05-30T20:12:37.915Z"
   },
   {
    "duration": 7,
    "start_time": "2023-05-30T20:13:28.977Z"
   },
   {
    "duration": 11,
    "start_time": "2023-05-30T20:15:08.541Z"
   },
   {
    "duration": 5,
    "start_time": "2023-05-30T20:15:23.777Z"
   },
   {
    "duration": 5,
    "start_time": "2023-05-30T20:17:12.993Z"
   },
   {
    "duration": 5,
    "start_time": "2023-05-30T20:22:07.701Z"
   },
   {
    "duration": 5,
    "start_time": "2023-05-30T20:22:20.941Z"
   },
   {
    "duration": 9,
    "start_time": "2023-05-30T20:25:18.742Z"
   },
   {
    "duration": 741,
    "start_time": "2023-05-30T20:29:02.720Z"
   },
   {
    "duration": 698,
    "start_time": "2023-05-30T20:29:24.249Z"
   },
   {
    "duration": 6,
    "start_time": "2023-05-30T20:29:48.755Z"
   },
   {
    "duration": 5,
    "start_time": "2023-05-30T20:30:56.286Z"
   },
   {
    "duration": 4,
    "start_time": "2023-05-30T20:31:04.953Z"
   },
   {
    "duration": 6,
    "start_time": "2023-05-30T20:31:29.394Z"
   },
   {
    "duration": 4,
    "start_time": "2023-05-30T20:32:47.710Z"
   },
   {
    "duration": 719,
    "start_time": "2023-05-30T20:54:20.039Z"
   },
   {
    "duration": 236,
    "start_time": "2023-05-30T20:55:13.643Z"
   },
   {
    "duration": 206,
    "start_time": "2023-05-30T20:56:00.435Z"
   },
   {
    "duration": 259,
    "start_time": "2023-05-30T20:56:16.337Z"
   },
   {
    "duration": 219,
    "start_time": "2023-05-30T20:56:31.443Z"
   },
   {
    "duration": 202,
    "start_time": "2023-05-30T20:57:40.015Z"
   },
   {
    "duration": 202,
    "start_time": "2023-05-30T20:58:46.745Z"
   },
   {
    "duration": 395,
    "start_time": "2023-05-31T15:15:30.484Z"
   },
   {
    "duration": 97,
    "start_time": "2023-05-31T15:15:30.881Z"
   },
   {
    "duration": 9,
    "start_time": "2023-05-31T15:15:30.980Z"
   },
   {
    "duration": 661,
    "start_time": "2023-05-31T15:15:30.992Z"
   },
   {
    "duration": 77,
    "start_time": "2023-05-31T15:15:31.655Z"
   },
   {
    "duration": 12,
    "start_time": "2023-05-31T15:15:31.734Z"
   },
   {
    "duration": 284,
    "start_time": "2023-05-31T15:15:31.747Z"
   },
   {
    "duration": 197,
    "start_time": "2023-05-31T15:15:32.032Z"
   },
   {
    "duration": 70,
    "start_time": "2023-05-31T15:15:32.230Z"
   },
   {
    "duration": 9,
    "start_time": "2023-05-31T15:15:32.303Z"
   },
   {
    "duration": 41,
    "start_time": "2023-05-31T15:15:32.313Z"
   },
   {
    "duration": 17,
    "start_time": "2023-05-31T15:15:32.355Z"
   },
   {
    "duration": 31,
    "start_time": "2023-05-31T15:15:32.374Z"
   },
   {
    "duration": 11,
    "start_time": "2023-05-31T15:15:32.407Z"
   },
   {
    "duration": 30,
    "start_time": "2023-05-31T15:15:32.419Z"
   },
   {
    "duration": 14,
    "start_time": "2023-05-31T15:15:32.450Z"
   },
   {
    "duration": 32,
    "start_time": "2023-05-31T15:15:32.465Z"
   },
   {
    "duration": 6,
    "start_time": "2023-05-31T15:50:40.288Z"
   },
   {
    "duration": 13,
    "start_time": "2023-05-31T16:05:28.291Z"
   },
   {
    "duration": 14,
    "start_time": "2023-05-31T16:06:42.302Z"
   },
   {
    "duration": 84,
    "start_time": "2023-05-31T16:07:05.182Z"
   },
   {
    "duration": 13,
    "start_time": "2023-05-31T16:07:41.142Z"
   },
   {
    "duration": 12,
    "start_time": "2023-05-31T16:08:12.533Z"
   },
   {
    "duration": 12,
    "start_time": "2023-05-31T16:08:18.869Z"
   },
   {
    "duration": 11,
    "start_time": "2023-05-31T16:13:11.729Z"
   },
   {
    "duration": 3,
    "start_time": "2023-05-31T16:16:46.861Z"
   },
   {
    "duration": 43,
    "start_time": "2023-05-31T16:16:46.867Z"
   },
   {
    "duration": 12,
    "start_time": "2023-05-31T16:16:46.912Z"
   },
   {
    "duration": 218,
    "start_time": "2023-05-31T16:16:46.925Z"
   },
   {
    "duration": 28,
    "start_time": "2023-05-31T16:16:47.145Z"
   },
   {
    "duration": 14,
    "start_time": "2023-05-31T16:16:47.174Z"
   },
   {
    "duration": 230,
    "start_time": "2023-05-31T16:16:47.189Z"
   },
   {
    "duration": 196,
    "start_time": "2023-05-31T16:16:47.420Z"
   },
   {
    "duration": 19,
    "start_time": "2023-05-31T16:16:47.618Z"
   },
   {
    "duration": 8,
    "start_time": "2023-05-31T16:16:47.639Z"
   },
   {
    "duration": 10,
    "start_time": "2023-05-31T16:16:47.649Z"
   },
   {
    "duration": 9,
    "start_time": "2023-05-31T16:16:47.660Z"
   },
   {
    "duration": 15,
    "start_time": "2023-05-31T16:16:47.670Z"
   },
   {
    "duration": 6,
    "start_time": "2023-05-31T16:16:47.687Z"
   },
   {
    "duration": 13,
    "start_time": "2023-05-31T16:16:47.694Z"
   },
   {
    "duration": 9,
    "start_time": "2023-05-31T16:16:47.709Z"
   },
   {
    "duration": 5,
    "start_time": "2023-05-31T16:16:47.719Z"
   },
   {
    "duration": 4,
    "start_time": "2023-05-31T16:16:47.726Z"
   },
   {
    "duration": 21,
    "start_time": "2023-05-31T16:16:47.732Z"
   },
   {
    "duration": 3,
    "start_time": "2023-05-31T16:19:00.968Z"
   },
   {
    "duration": 59,
    "start_time": "2023-05-31T16:19:04.718Z"
   },
   {
    "duration": 11,
    "start_time": "2023-05-31T16:19:28.329Z"
   },
   {
    "duration": 170,
    "start_time": "2023-05-31T16:23:05.281Z"
   },
   {
    "duration": 154,
    "start_time": "2023-05-31T16:24:31.122Z"
   },
   {
    "duration": 3,
    "start_time": "2023-05-31T16:25:49.772Z"
   },
   {
    "duration": 36,
    "start_time": "2023-05-31T16:25:49.776Z"
   },
   {
    "duration": 10,
    "start_time": "2023-05-31T16:25:49.813Z"
   },
   {
    "duration": 200,
    "start_time": "2023-05-31T16:25:49.824Z"
   },
   {
    "duration": 30,
    "start_time": "2023-05-31T16:25:50.025Z"
   },
   {
    "duration": 9,
    "start_time": "2023-05-31T16:25:50.057Z"
   },
   {
    "duration": 193,
    "start_time": "2023-05-31T16:25:50.067Z"
   },
   {
    "duration": 192,
    "start_time": "2023-05-31T16:25:50.261Z"
   },
   {
    "duration": 20,
    "start_time": "2023-05-31T16:25:50.456Z"
   },
   {
    "duration": 10,
    "start_time": "2023-05-31T16:25:50.478Z"
   },
   {
    "duration": 16,
    "start_time": "2023-05-31T16:25:50.489Z"
   },
   {
    "duration": 16,
    "start_time": "2023-05-31T16:25:50.507Z"
   },
   {
    "duration": 24,
    "start_time": "2023-05-31T16:25:50.524Z"
   },
   {
    "duration": 26,
    "start_time": "2023-05-31T16:25:50.549Z"
   },
   {
    "duration": 25,
    "start_time": "2023-05-31T16:25:50.577Z"
   },
   {
    "duration": 16,
    "start_time": "2023-05-31T16:25:50.603Z"
   },
   {
    "duration": 36,
    "start_time": "2023-05-31T16:25:50.621Z"
   },
   {
    "duration": 13,
    "start_time": "2023-05-31T16:25:50.658Z"
   },
   {
    "duration": 188,
    "start_time": "2023-05-31T16:25:50.672Z"
   },
   {
    "duration": 16,
    "start_time": "2023-05-31T16:54:45.482Z"
   },
   {
    "duration": 236,
    "start_time": "2023-05-31T16:54:46.779Z"
   },
   {
    "duration": 115,
    "start_time": "2023-05-31T16:56:32.696Z"
   },
   {
    "duration": 84,
    "start_time": "2023-05-31T16:57:00.445Z"
   },
   {
    "duration": 134,
    "start_time": "2023-05-31T16:57:30.201Z"
   },
   {
    "duration": 78,
    "start_time": "2023-05-31T16:58:11.525Z"
   },
   {
    "duration": 120,
    "start_time": "2023-05-31T17:03:04.346Z"
   },
   {
    "duration": 165,
    "start_time": "2023-05-31T17:04:42.600Z"
   },
   {
    "duration": 129,
    "start_time": "2023-05-31T17:05:13.295Z"
   },
   {
    "duration": 130,
    "start_time": "2023-05-31T17:17:52.907Z"
   },
   {
    "duration": 100,
    "start_time": "2023-05-31T17:18:13.402Z"
   },
   {
    "duration": 101,
    "start_time": "2023-05-31T17:19:38.576Z"
   },
   {
    "duration": 107,
    "start_time": "2023-05-31T17:19:56.003Z"
   },
   {
    "duration": 1022,
    "start_time": "2023-05-31T17:29:13.641Z"
   },
   {
    "duration": 9,
    "start_time": "2023-05-31T17:29:39.738Z"
   },
   {
    "duration": 74,
    "start_time": "2023-05-31T17:37:56.875Z"
   },
   {
    "duration": 95,
    "start_time": "2023-05-31T17:38:05.420Z"
   },
   {
    "duration": 8,
    "start_time": "2023-05-31T17:58:28.417Z"
   },
   {
    "duration": 2,
    "start_time": "2023-05-31T17:58:34.065Z"
   },
   {
    "duration": 77,
    "start_time": "2023-05-31T17:58:34.069Z"
   },
   {
    "duration": 9,
    "start_time": "2023-05-31T17:58:34.148Z"
   },
   {
    "duration": 224,
    "start_time": "2023-05-31T17:58:34.158Z"
   },
   {
    "duration": 55,
    "start_time": "2023-05-31T17:58:34.384Z"
   },
   {
    "duration": 9,
    "start_time": "2023-05-31T17:58:34.440Z"
   },
   {
    "duration": 270,
    "start_time": "2023-05-31T17:58:34.450Z"
   },
   {
    "duration": 218,
    "start_time": "2023-05-31T17:58:34.721Z"
   },
   {
    "duration": 20,
    "start_time": "2023-05-31T17:58:34.941Z"
   },
   {
    "duration": 16,
    "start_time": "2023-05-31T17:58:34.963Z"
   },
   {
    "duration": 16,
    "start_time": "2023-05-31T17:58:34.982Z"
   },
   {
    "duration": 44,
    "start_time": "2023-05-31T17:58:35.001Z"
   },
   {
    "duration": 71,
    "start_time": "2023-05-31T17:58:35.046Z"
   },
   {
    "duration": 36,
    "start_time": "2023-05-31T17:58:35.119Z"
   },
   {
    "duration": 37,
    "start_time": "2023-05-31T17:58:35.156Z"
   },
   {
    "duration": 38,
    "start_time": "2023-05-31T17:58:35.195Z"
   },
   {
    "duration": 38,
    "start_time": "2023-05-31T17:58:35.234Z"
   },
   {
    "duration": 6,
    "start_time": "2023-05-31T17:58:35.273Z"
   },
   {
    "duration": 200,
    "start_time": "2023-05-31T17:58:35.280Z"
   },
   {
    "duration": 88,
    "start_time": "2023-05-31T17:58:35.481Z"
   },
   {
    "duration": 98,
    "start_time": "2023-05-31T17:58:35.571Z"
   },
   {
    "duration": 107,
    "start_time": "2023-05-31T17:58:35.670Z"
   },
   {
    "duration": 1279,
    "start_time": "2023-05-31T18:00:58.572Z"
   },
   {
    "duration": 158,
    "start_time": "2023-05-31T18:01:41.260Z"
   },
   {
    "duration": 16,
    "start_time": "2023-05-31T18:25:55.604Z"
   },
   {
    "duration": 15,
    "start_time": "2023-05-31T18:26:24.533Z"
   },
   {
    "duration": 13,
    "start_time": "2023-05-31T18:26:56.149Z"
   },
   {
    "duration": 9,
    "start_time": "2023-05-31T18:27:33.929Z"
   },
   {
    "duration": 52,
    "start_time": "2023-05-31T18:30:32.161Z"
   },
   {
    "duration": 9,
    "start_time": "2023-05-31T18:30:59.359Z"
   },
   {
    "duration": 12,
    "start_time": "2023-05-31T18:31:23.384Z"
   },
   {
    "duration": 11,
    "start_time": "2023-05-31T18:32:16.199Z"
   },
   {
    "duration": 10,
    "start_time": "2023-05-31T18:33:45.618Z"
   },
   {
    "duration": 4,
    "start_time": "2023-05-31T18:37:17.696Z"
   },
   {
    "duration": 16,
    "start_time": "2023-05-31T18:37:24.710Z"
   },
   {
    "duration": 7,
    "start_time": "2023-05-31T18:38:03.133Z"
   },
   {
    "duration": 12,
    "start_time": "2023-05-31T18:38:30.814Z"
   },
   {
    "duration": 6,
    "start_time": "2023-05-31T18:38:39.589Z"
   },
   {
    "duration": 6,
    "start_time": "2023-05-31T18:38:44.181Z"
   },
   {
    "duration": 8,
    "start_time": "2023-05-31T18:38:49.637Z"
   },
   {
    "duration": 7,
    "start_time": "2023-05-31T18:38:55.782Z"
   },
   {
    "duration": 114,
    "start_time": "2023-05-31T19:01:50.363Z"
   },
   {
    "duration": 18,
    "start_time": "2023-05-31T19:08:59.584Z"
   },
   {
    "duration": 3,
    "start_time": "2023-05-31T20:32:46.557Z"
   },
   {
    "duration": 44,
    "start_time": "2023-05-31T20:32:46.561Z"
   },
   {
    "duration": 9,
    "start_time": "2023-05-31T20:32:46.607Z"
   },
   {
    "duration": 200,
    "start_time": "2023-05-31T20:32:46.617Z"
   },
   {
    "duration": 29,
    "start_time": "2023-05-31T20:32:46.818Z"
   },
   {
    "duration": 11,
    "start_time": "2023-05-31T20:32:46.848Z"
   },
   {
    "duration": 269,
    "start_time": "2023-05-31T20:32:46.861Z"
   },
   {
    "duration": 281,
    "start_time": "2023-05-31T20:32:47.132Z"
   },
   {
    "duration": 21,
    "start_time": "2023-05-31T20:32:47.414Z"
   },
   {
    "duration": 9,
    "start_time": "2023-05-31T20:32:47.436Z"
   },
   {
    "duration": 13,
    "start_time": "2023-05-31T20:32:47.448Z"
   },
   {
    "duration": 7,
    "start_time": "2023-05-31T20:32:47.463Z"
   },
   {
    "duration": 18,
    "start_time": "2023-05-31T20:32:47.471Z"
   },
   {
    "duration": 14,
    "start_time": "2023-05-31T20:32:47.490Z"
   },
   {
    "duration": 16,
    "start_time": "2023-05-31T20:32:47.505Z"
   },
   {
    "duration": 11,
    "start_time": "2023-05-31T20:32:47.523Z"
   },
   {
    "duration": 6,
    "start_time": "2023-05-31T20:32:47.535Z"
   },
   {
    "duration": 9,
    "start_time": "2023-05-31T20:32:47.542Z"
   },
   {
    "duration": 160,
    "start_time": "2023-05-31T20:32:47.553Z"
   },
   {
    "duration": 87,
    "start_time": "2023-05-31T20:32:47.714Z"
   },
   {
    "duration": 102,
    "start_time": "2023-05-31T20:32:47.803Z"
   },
   {
    "duration": 119,
    "start_time": "2023-05-31T20:32:47.906Z"
   },
   {
    "duration": 12,
    "start_time": "2023-05-31T20:32:48.027Z"
   },
   {
    "duration": 111,
    "start_time": "2023-05-31T20:32:48.040Z"
   },
   {
    "duration": 9,
    "start_time": "2023-05-31T20:32:48.152Z"
   },
   {
    "duration": 33,
    "start_time": "2023-05-31T20:32:48.162Z"
   },
   {
    "duration": 51,
    "start_time": "2023-05-31T20:33:54.244Z"
   },
   {
    "duration": 470,
    "start_time": "2023-05-31T20:36:37.061Z"
   },
   {
    "duration": 60,
    "start_time": "2023-05-31T20:38:40.262Z"
   },
   {
    "duration": 656,
    "start_time": "2023-05-31T20:39:16.613Z"
   },
   {
    "duration": 90,
    "start_time": "2023-05-31T20:39:17.272Z"
   },
   {
    "duration": 11,
    "start_time": "2023-05-31T20:39:17.364Z"
   },
   {
    "duration": 229,
    "start_time": "2023-05-31T20:39:17.377Z"
   },
   {
    "duration": 73,
    "start_time": "2023-05-31T20:39:17.607Z"
   },
   {
    "duration": 11,
    "start_time": "2023-05-31T20:39:17.682Z"
   },
   {
    "duration": 206,
    "start_time": "2023-05-31T20:39:17.694Z"
   },
   {
    "duration": 188,
    "start_time": "2023-05-31T20:39:17.902Z"
   },
   {
    "duration": 58,
    "start_time": "2023-05-31T20:39:18.092Z"
   },
   {
    "duration": 9,
    "start_time": "2023-05-31T20:39:18.153Z"
   },
   {
    "duration": 11,
    "start_time": "2023-05-31T20:39:18.163Z"
   },
   {
    "duration": 7,
    "start_time": "2023-05-31T20:39:18.175Z"
   },
   {
    "duration": 10,
    "start_time": "2023-05-31T20:39:18.183Z"
   },
   {
    "duration": 7,
    "start_time": "2023-05-31T20:39:18.194Z"
   },
   {
    "duration": 7,
    "start_time": "2023-05-31T20:39:18.202Z"
   },
   {
    "duration": 4,
    "start_time": "2023-05-31T20:39:18.211Z"
   },
   {
    "duration": 4,
    "start_time": "2023-05-31T20:39:18.216Z"
   },
   {
    "duration": 4,
    "start_time": "2023-05-31T20:39:18.222Z"
   },
   {
    "duration": 195,
    "start_time": "2023-05-31T20:39:18.227Z"
   },
   {
    "duration": 126,
    "start_time": "2023-05-31T20:39:18.424Z"
   },
   {
    "duration": 97,
    "start_time": "2023-05-31T20:39:18.551Z"
   },
   {
    "duration": 110,
    "start_time": "2023-05-31T20:39:18.651Z"
   },
   {
    "duration": 25,
    "start_time": "2023-05-31T20:39:18.763Z"
   },
   {
    "duration": 115,
    "start_time": "2023-05-31T20:39:18.789Z"
   },
   {
    "duration": 11,
    "start_time": "2023-05-31T20:39:18.906Z"
   },
   {
    "duration": 25,
    "start_time": "2023-05-31T20:39:18.918Z"
   },
   {
    "duration": 18,
    "start_time": "2023-05-31T20:40:18.305Z"
   },
   {
    "duration": 13,
    "start_time": "2023-05-31T20:40:44.344Z"
   },
   {
    "duration": 37,
    "start_time": "2023-05-31T20:51:05.760Z"
   },
   {
    "duration": 17,
    "start_time": "2023-05-31T20:51:18.247Z"
   },
   {
    "duration": 146,
    "start_time": "2023-05-31T21:02:30.686Z"
   },
   {
    "duration": 111,
    "start_time": "2023-05-31T21:02:35.220Z"
   },
   {
    "duration": 2162,
    "start_time": "2023-05-31T21:03:11.761Z"
   },
   {
    "duration": 10,
    "start_time": "2023-05-31T21:03:13.924Z"
   },
   {
    "duration": 3,
    "start_time": "2023-05-31T21:03:31.524Z"
   },
   {
    "duration": 142,
    "start_time": "2023-05-31T21:03:31.529Z"
   },
   {
    "duration": 187,
    "start_time": "2023-05-31T21:03:31.673Z"
   },
   {
    "duration": 223,
    "start_time": "2023-05-31T21:03:31.861Z"
   },
   {
    "duration": 27,
    "start_time": "2023-05-31T21:03:32.086Z"
   },
   {
    "duration": 12,
    "start_time": "2023-05-31T21:03:32.115Z"
   },
   {
    "duration": 191,
    "start_time": "2023-05-31T21:03:32.129Z"
   },
   {
    "duration": 247,
    "start_time": "2023-05-31T21:03:32.322Z"
   },
   {
    "duration": 22,
    "start_time": "2023-05-31T21:03:32.571Z"
   },
   {
    "duration": 13,
    "start_time": "2023-05-31T21:03:32.595Z"
   },
   {
    "duration": 27,
    "start_time": "2023-05-31T21:03:32.609Z"
   },
   {
    "duration": 16,
    "start_time": "2023-05-31T21:03:32.637Z"
   },
   {
    "duration": 10,
    "start_time": "2023-05-31T21:03:32.655Z"
   },
   {
    "duration": 18,
    "start_time": "2023-05-31T21:03:32.668Z"
   },
   {
    "duration": 12,
    "start_time": "2023-05-31T21:03:32.687Z"
   },
   {
    "duration": 5,
    "start_time": "2023-05-31T21:03:32.700Z"
   },
   {
    "duration": 6,
    "start_time": "2023-05-31T21:03:32.706Z"
   },
   {
    "duration": 7,
    "start_time": "2023-05-31T21:03:32.713Z"
   },
   {
    "duration": 169,
    "start_time": "2023-05-31T21:03:32.721Z"
   },
   {
    "duration": 74,
    "start_time": "2023-05-31T21:03:32.892Z"
   },
   {
    "duration": 97,
    "start_time": "2023-05-31T21:03:32.968Z"
   },
   {
    "duration": 105,
    "start_time": "2023-05-31T21:03:33.067Z"
   },
   {
    "duration": 18,
    "start_time": "2023-05-31T21:03:33.174Z"
   },
   {
    "duration": 167,
    "start_time": "2023-05-31T21:03:33.194Z"
   },
   {
    "duration": 9,
    "start_time": "2023-05-31T21:03:33.362Z"
   },
   {
    "duration": 20,
    "start_time": "2023-05-31T21:03:33.372Z"
   },
   {
    "duration": 11,
    "start_time": "2023-05-31T21:03:33.393Z"
   },
   {
    "duration": 3,
    "start_time": "2023-05-31T21:06:23.401Z"
   },
   {
    "duration": 81,
    "start_time": "2023-05-31T21:06:23.406Z"
   },
   {
    "duration": 11,
    "start_time": "2023-05-31T21:06:23.489Z"
   },
   {
    "duration": 254,
    "start_time": "2023-05-31T21:06:23.502Z"
   },
   {
    "duration": 28,
    "start_time": "2023-05-31T21:06:23.757Z"
   },
   {
    "duration": 9,
    "start_time": "2023-05-31T21:06:23.787Z"
   },
   {
    "duration": 197,
    "start_time": "2023-05-31T21:06:23.797Z"
   },
   {
    "duration": 191,
    "start_time": "2023-05-31T21:06:23.995Z"
   },
   {
    "duration": 24,
    "start_time": "2023-05-31T21:06:24.188Z"
   },
   {
    "duration": 10,
    "start_time": "2023-05-31T21:06:24.214Z"
   },
   {
    "duration": 10,
    "start_time": "2023-05-31T21:06:24.225Z"
   },
   {
    "duration": 8,
    "start_time": "2023-05-31T21:06:24.237Z"
   },
   {
    "duration": 25,
    "start_time": "2023-05-31T21:06:24.247Z"
   },
   {
    "duration": 22,
    "start_time": "2023-05-31T21:06:24.273Z"
   },
   {
    "duration": 15,
    "start_time": "2023-05-31T21:06:24.296Z"
   },
   {
    "duration": 11,
    "start_time": "2023-05-31T21:06:24.313Z"
   },
   {
    "duration": 10,
    "start_time": "2023-05-31T21:06:24.326Z"
   },
   {
    "duration": 55,
    "start_time": "2023-05-31T21:06:24.338Z"
   },
   {
    "duration": 0,
    "start_time": "2023-05-31T21:06:24.395Z"
   },
   {
    "duration": 0,
    "start_time": "2023-05-31T21:06:24.396Z"
   },
   {
    "duration": 0,
    "start_time": "2023-05-31T21:06:24.398Z"
   },
   {
    "duration": 0,
    "start_time": "2023-05-31T21:06:24.399Z"
   },
   {
    "duration": 0,
    "start_time": "2023-05-31T21:06:24.401Z"
   },
   {
    "duration": 0,
    "start_time": "2023-05-31T21:06:24.402Z"
   },
   {
    "duration": 0,
    "start_time": "2023-05-31T21:06:24.404Z"
   },
   {
    "duration": 0,
    "start_time": "2023-05-31T21:06:24.405Z"
   },
   {
    "duration": 0,
    "start_time": "2023-05-31T21:06:24.406Z"
   },
   {
    "duration": 6,
    "start_time": "2023-05-31T21:07:08.718Z"
   },
   {
    "duration": 166,
    "start_time": "2023-05-31T21:07:12.607Z"
   },
   {
    "duration": 80,
    "start_time": "2023-05-31T21:07:15.622Z"
   },
   {
    "duration": 86,
    "start_time": "2023-05-31T21:07:18.954Z"
   },
   {
    "duration": 95,
    "start_time": "2023-05-31T21:07:21.110Z"
   },
   {
    "duration": 11,
    "start_time": "2023-05-31T21:07:21.942Z"
   },
   {
    "duration": 105,
    "start_time": "2023-05-31T21:07:24.285Z"
   },
   {
    "duration": 8,
    "start_time": "2023-05-31T21:07:25.086Z"
   },
   {
    "duration": 15,
    "start_time": "2023-05-31T21:07:31.244Z"
   },
   {
    "duration": 11,
    "start_time": "2023-05-31T21:07:32.696Z"
   },
   {
    "duration": 3,
    "start_time": "2023-05-31T21:20:08.280Z"
   },
   {
    "duration": 80,
    "start_time": "2023-05-31T21:20:08.287Z"
   },
   {
    "duration": 13,
    "start_time": "2023-05-31T21:20:08.369Z"
   },
   {
    "duration": 290,
    "start_time": "2023-05-31T21:20:08.385Z"
   },
   {
    "duration": 40,
    "start_time": "2023-05-31T21:20:08.676Z"
   },
   {
    "duration": 13,
    "start_time": "2023-05-31T21:20:08.718Z"
   },
   {
    "duration": 202,
    "start_time": "2023-05-31T21:20:08.732Z"
   },
   {
    "duration": 246,
    "start_time": "2023-05-31T21:20:08.936Z"
   },
   {
    "duration": 29,
    "start_time": "2023-05-31T21:20:09.185Z"
   },
   {
    "duration": 14,
    "start_time": "2023-05-31T21:20:09.215Z"
   },
   {
    "duration": 23,
    "start_time": "2023-05-31T21:20:09.231Z"
   },
   {
    "duration": 5,
    "start_time": "2023-05-31T21:20:09.256Z"
   },
   {
    "duration": 39,
    "start_time": "2023-05-31T21:20:09.263Z"
   },
   {
    "duration": 5,
    "start_time": "2023-05-31T21:20:09.305Z"
   },
   {
    "duration": 19,
    "start_time": "2023-05-31T21:20:09.311Z"
   },
   {
    "duration": 5,
    "start_time": "2023-05-31T21:20:09.332Z"
   },
   {
    "duration": 21,
    "start_time": "2023-05-31T21:20:09.339Z"
   },
   {
    "duration": 58,
    "start_time": "2023-05-31T21:20:09.361Z"
   },
   {
    "duration": 199,
    "start_time": "2023-05-31T21:20:09.421Z"
   },
   {
    "duration": 101,
    "start_time": "2023-05-31T21:20:09.621Z"
   },
   {
    "duration": 106,
    "start_time": "2023-05-31T21:20:09.724Z"
   },
   {
    "duration": 125,
    "start_time": "2023-05-31T21:20:09.832Z"
   },
   {
    "duration": 13,
    "start_time": "2023-05-31T21:20:09.959Z"
   },
   {
    "duration": 138,
    "start_time": "2023-05-31T21:20:09.986Z"
   },
   {
    "duration": 9,
    "start_time": "2023-05-31T21:20:10.126Z"
   },
   {
    "duration": 23,
    "start_time": "2023-05-31T21:20:10.137Z"
   },
   {
    "duration": 38,
    "start_time": "2023-05-31T21:20:10.164Z"
   },
   {
    "duration": 48,
    "start_time": "2023-05-31T21:20:10.204Z"
   },
   {
    "duration": 14,
    "start_time": "2023-05-31T21:20:45.468Z"
   },
   {
    "duration": 3,
    "start_time": "2023-05-31T21:23:02.201Z"
   },
   {
    "duration": 72,
    "start_time": "2023-05-31T21:23:02.206Z"
   },
   {
    "duration": 44,
    "start_time": "2023-05-31T21:23:02.280Z"
   },
   {
    "duration": 254,
    "start_time": "2023-05-31T21:23:02.325Z"
   },
   {
    "duration": 40,
    "start_time": "2023-05-31T21:23:02.584Z"
   },
   {
    "duration": 17,
    "start_time": "2023-05-31T21:23:02.625Z"
   },
   {
    "duration": 210,
    "start_time": "2023-05-31T21:23:02.644Z"
   },
   {
    "duration": 218,
    "start_time": "2023-05-31T21:23:02.856Z"
   },
   {
    "duration": 32,
    "start_time": "2023-05-31T21:23:03.075Z"
   },
   {
    "duration": 9,
    "start_time": "2023-05-31T21:23:03.108Z"
   },
   {
    "duration": 13,
    "start_time": "2023-05-31T21:23:03.121Z"
   },
   {
    "duration": 8,
    "start_time": "2023-05-31T21:23:03.136Z"
   },
   {
    "duration": 15,
    "start_time": "2023-05-31T21:23:03.146Z"
   },
   {
    "duration": 7,
    "start_time": "2023-05-31T21:23:03.163Z"
   },
   {
    "duration": 10,
    "start_time": "2023-05-31T21:23:03.171Z"
   },
   {
    "duration": 23,
    "start_time": "2023-05-31T21:23:03.182Z"
   },
   {
    "duration": 4,
    "start_time": "2023-05-31T21:23:03.207Z"
   },
   {
    "duration": 6,
    "start_time": "2023-05-31T21:23:03.212Z"
   },
   {
    "duration": 191,
    "start_time": "2023-05-31T21:23:03.219Z"
   },
   {
    "duration": 95,
    "start_time": "2023-05-31T21:23:03.411Z"
   },
   {
    "duration": 146,
    "start_time": "2023-05-31T21:23:03.508Z"
   },
   {
    "duration": 120,
    "start_time": "2023-05-31T21:23:03.656Z"
   },
   {
    "duration": 19,
    "start_time": "2023-05-31T21:23:03.778Z"
   },
   {
    "duration": 131,
    "start_time": "2023-05-31T21:23:03.803Z"
   },
   {
    "duration": 9,
    "start_time": "2023-05-31T21:23:03.936Z"
   },
   {
    "duration": 27,
    "start_time": "2023-05-31T21:23:03.947Z"
   },
   {
    "duration": 38,
    "start_time": "2023-05-31T21:23:03.975Z"
   },
   {
    "duration": 828,
    "start_time": "2023-06-01T16:58:43.953Z"
   },
   {
    "duration": 123,
    "start_time": "2023-06-01T16:58:44.783Z"
   },
   {
    "duration": 12,
    "start_time": "2023-06-01T16:58:44.907Z"
   },
   {
    "duration": 348,
    "start_time": "2023-06-01T16:58:44.921Z"
   },
   {
    "duration": 91,
    "start_time": "2023-06-01T16:58:45.274Z"
   },
   {
    "duration": 15,
    "start_time": "2023-06-01T16:58:45.370Z"
   },
   {
    "duration": 263,
    "start_time": "2023-06-01T16:58:45.387Z"
   },
   {
    "duration": 228,
    "start_time": "2023-06-01T16:58:45.655Z"
   },
   {
    "duration": 100,
    "start_time": "2023-06-01T16:58:45.884Z"
   },
   {
    "duration": 11,
    "start_time": "2023-06-01T16:58:45.986Z"
   },
   {
    "duration": 67,
    "start_time": "2023-06-01T16:58:45.999Z"
   },
   {
    "duration": 33,
    "start_time": "2023-06-01T16:58:46.068Z"
   },
   {
    "duration": 13,
    "start_time": "2023-06-01T16:58:46.103Z"
   },
   {
    "duration": 66,
    "start_time": "2023-06-01T16:58:46.118Z"
   },
   {
    "duration": 107,
    "start_time": "2023-06-01T16:58:46.185Z"
   },
   {
    "duration": 6,
    "start_time": "2023-06-01T16:58:46.294Z"
   },
   {
    "duration": 15,
    "start_time": "2023-06-01T16:58:46.301Z"
   },
   {
    "duration": 48,
    "start_time": "2023-06-01T16:58:46.318Z"
   },
   {
    "duration": 237,
    "start_time": "2023-06-01T16:58:46.368Z"
   },
   {
    "duration": 111,
    "start_time": "2023-06-01T16:58:46.607Z"
   },
   {
    "duration": 119,
    "start_time": "2023-06-01T16:58:46.719Z"
   },
   {
    "duration": 155,
    "start_time": "2023-06-01T16:58:46.839Z"
   },
   {
    "duration": 16,
    "start_time": "2023-06-01T16:58:46.995Z"
   },
   {
    "duration": 171,
    "start_time": "2023-06-01T16:58:47.012Z"
   },
   {
    "duration": 10,
    "start_time": "2023-06-01T16:58:47.185Z"
   },
   {
    "duration": 54,
    "start_time": "2023-06-01T16:58:47.197Z"
   },
   {
    "duration": 20,
    "start_time": "2023-06-01T16:58:47.254Z"
   },
   {
    "duration": 12,
    "start_time": "2023-06-01T17:05:08.465Z"
   },
   {
    "duration": 14,
    "start_time": "2023-06-01T17:05:41.782Z"
   },
   {
    "duration": 13,
    "start_time": "2023-06-01T17:06:03.003Z"
   },
   {
    "duration": 6,
    "start_time": "2023-06-01T17:07:42.894Z"
   },
   {
    "duration": 36,
    "start_time": "2023-06-01T17:08:02.324Z"
   },
   {
    "duration": 93,
    "start_time": "2023-06-01T17:21:38.557Z"
   },
   {
    "duration": 222,
    "start_time": "2023-06-01T17:22:14.555Z"
   },
   {
    "duration": 294,
    "start_time": "2023-06-01T17:22:52.962Z"
   },
   {
    "duration": 202,
    "start_time": "2023-06-01T17:27:24.682Z"
   },
   {
    "duration": 207,
    "start_time": "2023-06-01T17:27:55.047Z"
   },
   {
    "duration": 272,
    "start_time": "2023-06-01T17:29:19.557Z"
   },
   {
    "duration": 396,
    "start_time": "2023-06-01T17:31:26.702Z"
   },
   {
    "duration": 315,
    "start_time": "2023-06-01T17:31:53.486Z"
   },
   {
    "duration": 266,
    "start_time": "2023-06-01T17:33:21.276Z"
   },
   {
    "duration": 277,
    "start_time": "2023-06-01T17:37:47.298Z"
   },
   {
    "duration": 179,
    "start_time": "2023-06-01T17:49:23.673Z"
   },
   {
    "duration": 508,
    "start_time": "2023-06-01T17:50:32.568Z"
   },
   {
    "duration": 31,
    "start_time": "2023-06-01T17:50:33.078Z"
   },
   {
    "duration": 10,
    "start_time": "2023-06-01T17:50:33.111Z"
   },
   {
    "duration": 234,
    "start_time": "2023-06-01T17:50:33.122Z"
   },
   {
    "duration": 29,
    "start_time": "2023-06-01T17:50:33.358Z"
   },
   {
    "duration": 11,
    "start_time": "2023-06-01T17:50:33.388Z"
   },
   {
    "duration": 255,
    "start_time": "2023-06-01T17:50:33.400Z"
   },
   {
    "duration": 249,
    "start_time": "2023-06-01T17:50:33.657Z"
   },
   {
    "duration": 22,
    "start_time": "2023-06-01T17:50:33.908Z"
   },
   {
    "duration": 38,
    "start_time": "2023-06-01T17:50:33.933Z"
   },
   {
    "duration": 24,
    "start_time": "2023-06-01T17:50:33.973Z"
   },
   {
    "duration": 48,
    "start_time": "2023-06-01T17:50:33.999Z"
   },
   {
    "duration": 42,
    "start_time": "2023-06-01T17:50:34.049Z"
   },
   {
    "duration": 73,
    "start_time": "2023-06-01T17:50:34.093Z"
   },
   {
    "duration": 51,
    "start_time": "2023-06-01T17:50:34.168Z"
   },
   {
    "duration": 39,
    "start_time": "2023-06-01T17:50:34.221Z"
   },
   {
    "duration": 23,
    "start_time": "2023-06-01T17:50:34.262Z"
   },
   {
    "duration": 39,
    "start_time": "2023-06-01T17:50:34.287Z"
   },
   {
    "duration": 236,
    "start_time": "2023-06-01T17:50:34.327Z"
   },
   {
    "duration": 100,
    "start_time": "2023-06-01T17:50:34.564Z"
   },
   {
    "duration": 115,
    "start_time": "2023-06-01T17:50:34.665Z"
   },
   {
    "duration": 226,
    "start_time": "2023-06-01T17:50:34.781Z"
   },
   {
    "duration": 28,
    "start_time": "2023-06-01T17:50:35.009Z"
   },
   {
    "duration": 182,
    "start_time": "2023-06-01T17:50:35.040Z"
   },
   {
    "duration": 20,
    "start_time": "2023-06-01T17:50:35.224Z"
   },
   {
    "duration": 80,
    "start_time": "2023-06-01T17:50:35.246Z"
   },
   {
    "duration": 26,
    "start_time": "2023-06-01T17:50:35.328Z"
   },
   {
    "duration": 22,
    "start_time": "2023-06-01T17:50:35.357Z"
   },
   {
    "duration": 37,
    "start_time": "2023-06-01T17:50:35.381Z"
   },
   {
    "duration": 24,
    "start_time": "2023-06-01T17:50:35.420Z"
   },
   {
    "duration": 25,
    "start_time": "2023-06-01T17:50:35.446Z"
   },
   {
    "duration": 281,
    "start_time": "2023-06-01T17:50:35.472Z"
   },
   {
    "duration": 248,
    "start_time": "2023-06-01T17:50:35.755Z"
   },
   {
    "duration": 293,
    "start_time": "2023-06-01T17:50:36.005Z"
   },
   {
    "duration": 265,
    "start_time": "2023-06-01T17:50:53.070Z"
   },
   {
    "duration": 310,
    "start_time": "2023-06-01T17:52:20.250Z"
   },
   {
    "duration": 364,
    "start_time": "2023-06-01T17:52:36.085Z"
   },
   {
    "duration": 290,
    "start_time": "2023-06-01T17:53:46.992Z"
   },
   {
    "duration": 247,
    "start_time": "2023-06-01T17:55:50.347Z"
   },
   {
    "duration": 285,
    "start_time": "2023-06-01T17:57:37.924Z"
   },
   {
    "duration": 266,
    "start_time": "2023-06-01T17:58:11.084Z"
   },
   {
    "duration": 260,
    "start_time": "2023-06-01T17:59:11.499Z"
   },
   {
    "duration": 242,
    "start_time": "2023-06-01T17:59:32.465Z"
   },
   {
    "duration": 57,
    "start_time": "2023-06-01T18:01:17.306Z"
   },
   {
    "duration": 260,
    "start_time": "2023-06-01T18:03:56.276Z"
   },
   {
    "duration": 233,
    "start_time": "2023-06-01T18:07:24.252Z"
   },
   {
    "duration": 237,
    "start_time": "2023-06-01T18:09:05.174Z"
   },
   {
    "duration": 337,
    "start_time": "2023-06-01T18:14:52.242Z"
   },
   {
    "duration": 333,
    "start_time": "2023-06-01T18:16:44.807Z"
   },
   {
    "duration": 250,
    "start_time": "2023-06-01T18:17:46.380Z"
   },
   {
    "duration": 264,
    "start_time": "2023-06-01T18:18:02.941Z"
   },
   {
    "duration": 244,
    "start_time": "2023-06-01T18:18:59.196Z"
   },
   {
    "duration": 288,
    "start_time": "2023-06-01T18:19:40.062Z"
   },
   {
    "duration": 14,
    "start_time": "2023-06-01T18:22:05.783Z"
   },
   {
    "duration": 338,
    "start_time": "2023-06-01T18:22:44.527Z"
   },
   {
    "duration": 247,
    "start_time": "2023-06-01T18:28:03.123Z"
   },
   {
    "duration": 496,
    "start_time": "2023-06-01T18:30:23.855Z"
   },
   {
    "duration": 267,
    "start_time": "2023-06-01T18:30:51.164Z"
   },
   {
    "duration": 351,
    "start_time": "2023-06-01T18:31:06.302Z"
   },
   {
    "duration": 286,
    "start_time": "2023-06-01T18:31:31.038Z"
   },
   {
    "duration": 349,
    "start_time": "2023-06-01T18:31:42.285Z"
   },
   {
    "duration": 266,
    "start_time": "2023-06-01T18:32:05.865Z"
   },
   {
    "duration": 285,
    "start_time": "2023-06-01T18:32:20.759Z"
   },
   {
    "duration": 253,
    "start_time": "2023-06-01T18:32:33.399Z"
   },
   {
    "duration": 272,
    "start_time": "2023-06-01T18:32:46.133Z"
   },
   {
    "duration": 288,
    "start_time": "2023-06-01T18:32:54.331Z"
   },
   {
    "duration": 369,
    "start_time": "2023-06-01T18:34:19.961Z"
   },
   {
    "duration": 407,
    "start_time": "2023-06-01T18:34:55.456Z"
   },
   {
    "duration": 347,
    "start_time": "2023-06-01T18:35:28.449Z"
   },
   {
    "duration": 759,
    "start_time": "2023-06-01T18:39:19.336Z"
   },
   {
    "duration": 3,
    "start_time": "2023-06-01T18:39:28.384Z"
   },
   {
    "duration": 58,
    "start_time": "2023-06-01T18:39:28.390Z"
   },
   {
    "duration": 14,
    "start_time": "2023-06-01T18:39:28.450Z"
   },
   {
    "duration": 247,
    "start_time": "2023-06-01T18:39:28.466Z"
   },
   {
    "duration": 0,
    "start_time": "2023-06-01T18:39:28.716Z"
   },
   {
    "duration": 0,
    "start_time": "2023-06-01T18:39:28.717Z"
   },
   {
    "duration": 0,
    "start_time": "2023-06-01T18:39:28.724Z"
   },
   {
    "duration": 0,
    "start_time": "2023-06-01T18:39:28.725Z"
   },
   {
    "duration": 0,
    "start_time": "2023-06-01T18:39:28.726Z"
   },
   {
    "duration": 0,
    "start_time": "2023-06-01T18:39:28.728Z"
   },
   {
    "duration": 0,
    "start_time": "2023-06-01T18:39:28.731Z"
   },
   {
    "duration": 0,
    "start_time": "2023-06-01T18:39:28.732Z"
   },
   {
    "duration": 0,
    "start_time": "2023-06-01T18:39:28.733Z"
   },
   {
    "duration": 0,
    "start_time": "2023-06-01T18:39:28.734Z"
   },
   {
    "duration": 1,
    "start_time": "2023-06-01T18:39:28.735Z"
   },
   {
    "duration": 0,
    "start_time": "2023-06-01T18:39:28.737Z"
   },
   {
    "duration": 0,
    "start_time": "2023-06-01T18:39:28.738Z"
   },
   {
    "duration": 0,
    "start_time": "2023-06-01T18:39:28.739Z"
   },
   {
    "duration": 0,
    "start_time": "2023-06-01T18:39:28.740Z"
   },
   {
    "duration": 0,
    "start_time": "2023-06-01T18:39:28.742Z"
   },
   {
    "duration": 0,
    "start_time": "2023-06-01T18:39:28.743Z"
   },
   {
    "duration": 0,
    "start_time": "2023-06-01T18:39:28.744Z"
   },
   {
    "duration": 0,
    "start_time": "2023-06-01T18:39:28.745Z"
   },
   {
    "duration": 0,
    "start_time": "2023-06-01T18:39:28.746Z"
   },
   {
    "duration": 0,
    "start_time": "2023-06-01T18:39:28.748Z"
   },
   {
    "duration": 0,
    "start_time": "2023-06-01T18:39:28.749Z"
   },
   {
    "duration": 0,
    "start_time": "2023-06-01T18:39:28.750Z"
   },
   {
    "duration": 0,
    "start_time": "2023-06-01T18:39:28.752Z"
   },
   {
    "duration": 0,
    "start_time": "2023-06-01T18:39:28.753Z"
   },
   {
    "duration": 0,
    "start_time": "2023-06-01T18:39:28.755Z"
   },
   {
    "duration": 0,
    "start_time": "2023-06-01T18:39:28.756Z"
   },
   {
    "duration": 0,
    "start_time": "2023-06-01T18:39:28.757Z"
   },
   {
    "duration": 0,
    "start_time": "2023-06-01T18:39:28.759Z"
   },
   {
    "duration": 0,
    "start_time": "2023-06-01T18:39:28.760Z"
   },
   {
    "duration": 0,
    "start_time": "2023-06-01T18:39:28.762Z"
   },
   {
    "duration": 199,
    "start_time": "2023-06-01T18:42:00.072Z"
   },
   {
    "duration": 345,
    "start_time": "2023-06-01T18:42:19.948Z"
   },
   {
    "duration": 44,
    "start_time": "2023-06-01T18:42:51.251Z"
   },
   {
    "duration": 13,
    "start_time": "2023-06-01T18:42:58.516Z"
   },
   {
    "duration": 201,
    "start_time": "2023-06-01T18:43:00.508Z"
   },
   {
    "duration": 215,
    "start_time": "2023-06-01T18:43:01.476Z"
   },
   {
    "duration": 200,
    "start_time": "2023-06-01T18:47:08.745Z"
   },
   {
    "duration": 240,
    "start_time": "2023-06-01T18:47:39.907Z"
   },
   {
    "duration": 221,
    "start_time": "2023-06-01T18:48:32.018Z"
   },
   {
    "duration": 235,
    "start_time": "2023-06-01T18:49:42.552Z"
   },
   {
    "duration": 129,
    "start_time": "2023-06-01T18:51:05.777Z"
   },
   {
    "duration": 147,
    "start_time": "2023-06-01T18:51:21.625Z"
   },
   {
    "duration": 213,
    "start_time": "2023-06-01T18:52:23.952Z"
   },
   {
    "duration": 176,
    "start_time": "2023-06-01T18:52:44.073Z"
   },
   {
    "duration": 152,
    "start_time": "2023-06-01T18:52:53.339Z"
   },
   {
    "duration": 169,
    "start_time": "2023-06-01T18:53:33.562Z"
   },
   {
    "duration": 3,
    "start_time": "2023-06-01T18:53:41.842Z"
   },
   {
    "duration": 45,
    "start_time": "2023-06-01T18:53:41.847Z"
   },
   {
    "duration": 13,
    "start_time": "2023-06-01T18:53:41.895Z"
   },
   {
    "duration": 234,
    "start_time": "2023-06-01T18:53:41.909Z"
   },
   {
    "duration": 33,
    "start_time": "2023-06-01T18:53:42.145Z"
   },
   {
    "duration": 13,
    "start_time": "2023-06-01T18:53:42.180Z"
   },
   {
    "duration": 188,
    "start_time": "2023-06-01T18:53:42.195Z"
   },
   {
    "duration": 165,
    "start_time": "2023-06-01T18:53:42.385Z"
   },
   {
    "duration": 19,
    "start_time": "2023-06-01T18:53:42.552Z"
   },
   {
    "duration": 11,
    "start_time": "2023-06-01T18:53:42.573Z"
   },
   {
    "duration": 12,
    "start_time": "2023-06-01T18:53:42.585Z"
   },
   {
    "duration": 12,
    "start_time": "2023-06-01T18:53:42.599Z"
   },
   {
    "duration": 44,
    "start_time": "2023-06-01T18:53:42.612Z"
   },
   {
    "duration": 9,
    "start_time": "2023-06-01T18:53:42.660Z"
   },
   {
    "duration": 29,
    "start_time": "2023-06-01T18:53:42.670Z"
   },
   {
    "duration": 11,
    "start_time": "2023-06-01T18:53:42.701Z"
   },
   {
    "duration": 6,
    "start_time": "2023-06-01T18:53:42.713Z"
   },
   {
    "duration": 29,
    "start_time": "2023-06-01T18:53:42.721Z"
   },
   {
    "duration": 188,
    "start_time": "2023-06-01T18:53:42.752Z"
   },
   {
    "duration": 178,
    "start_time": "2023-06-01T18:53:42.943Z"
   },
   {
    "duration": 104,
    "start_time": "2023-06-01T18:53:43.132Z"
   },
   {
    "duration": 0,
    "start_time": "2023-06-01T18:53:43.238Z"
   },
   {
    "duration": 0,
    "start_time": "2023-06-01T18:53:43.239Z"
   },
   {
    "duration": 0,
    "start_time": "2023-06-01T18:53:43.241Z"
   },
   {
    "duration": 0,
    "start_time": "2023-06-01T18:53:43.244Z"
   },
   {
    "duration": 0,
    "start_time": "2023-06-01T18:53:43.246Z"
   },
   {
    "duration": 0,
    "start_time": "2023-06-01T18:53:43.247Z"
   },
   {
    "duration": 0,
    "start_time": "2023-06-01T18:53:43.261Z"
   },
   {
    "duration": 0,
    "start_time": "2023-06-01T18:53:43.262Z"
   },
   {
    "duration": 0,
    "start_time": "2023-06-01T18:53:43.264Z"
   },
   {
    "duration": 0,
    "start_time": "2023-06-01T18:53:43.265Z"
   },
   {
    "duration": 0,
    "start_time": "2023-06-01T18:53:43.266Z"
   },
   {
    "duration": 0,
    "start_time": "2023-06-01T18:53:43.267Z"
   },
   {
    "duration": 0,
    "start_time": "2023-06-01T18:53:43.269Z"
   },
   {
    "duration": 0,
    "start_time": "2023-06-01T18:53:43.270Z"
   },
   {
    "duration": 3,
    "start_time": "2023-06-01T18:54:31.864Z"
   },
   {
    "duration": 45,
    "start_time": "2023-06-01T18:54:31.870Z"
   },
   {
    "duration": 19,
    "start_time": "2023-06-01T18:54:31.917Z"
   },
   {
    "duration": 186,
    "start_time": "2023-06-01T18:54:31.945Z"
   },
   {
    "duration": 34,
    "start_time": "2023-06-01T18:54:32.133Z"
   },
   {
    "duration": 18,
    "start_time": "2023-06-01T18:54:32.169Z"
   },
   {
    "duration": 190,
    "start_time": "2023-06-01T18:54:32.190Z"
   },
   {
    "duration": 181,
    "start_time": "2023-06-01T18:54:32.381Z"
   },
   {
    "duration": 20,
    "start_time": "2023-06-01T18:54:32.564Z"
   },
   {
    "duration": 10,
    "start_time": "2023-06-01T18:54:32.586Z"
   },
   {
    "duration": 10,
    "start_time": "2023-06-01T18:54:32.598Z"
   },
   {
    "duration": 15,
    "start_time": "2023-06-01T18:54:32.625Z"
   },
   {
    "duration": 49,
    "start_time": "2023-06-01T18:54:32.643Z"
   },
   {
    "duration": 16,
    "start_time": "2023-06-01T18:54:32.693Z"
   },
   {
    "duration": 12,
    "start_time": "2023-06-01T18:54:32.710Z"
   },
   {
    "duration": 27,
    "start_time": "2023-06-01T18:54:32.726Z"
   },
   {
    "duration": 26,
    "start_time": "2023-06-01T18:54:32.755Z"
   },
   {
    "duration": 39,
    "start_time": "2023-06-01T18:54:32.783Z"
   },
   {
    "duration": 210,
    "start_time": "2023-06-01T18:54:32.823Z"
   },
   {
    "duration": 103,
    "start_time": "2023-06-01T18:54:33.039Z"
   },
   {
    "duration": 101,
    "start_time": "2023-06-01T18:54:33.143Z"
   },
   {
    "duration": 0,
    "start_time": "2023-06-01T18:54:33.246Z"
   },
   {
    "duration": 0,
    "start_time": "2023-06-01T18:54:33.247Z"
   },
   {
    "duration": 0,
    "start_time": "2023-06-01T18:54:33.249Z"
   },
   {
    "duration": 0,
    "start_time": "2023-06-01T18:54:33.250Z"
   },
   {
    "duration": 0,
    "start_time": "2023-06-01T18:54:33.251Z"
   },
   {
    "duration": 0,
    "start_time": "2023-06-01T18:54:33.252Z"
   },
   {
    "duration": 0,
    "start_time": "2023-06-01T18:54:33.253Z"
   },
   {
    "duration": 0,
    "start_time": "2023-06-01T18:54:33.254Z"
   },
   {
    "duration": 0,
    "start_time": "2023-06-01T18:54:33.255Z"
   },
   {
    "duration": 0,
    "start_time": "2023-06-01T18:54:33.256Z"
   },
   {
    "duration": 0,
    "start_time": "2023-06-01T18:54:33.257Z"
   },
   {
    "duration": 0,
    "start_time": "2023-06-01T18:54:33.258Z"
   },
   {
    "duration": 0,
    "start_time": "2023-06-01T18:54:33.259Z"
   },
   {
    "duration": 0,
    "start_time": "2023-06-01T18:54:33.261Z"
   },
   {
    "duration": 91,
    "start_time": "2023-06-01T18:59:27.926Z"
   },
   {
    "duration": 100,
    "start_time": "2023-06-01T18:59:46.445Z"
   },
   {
    "duration": 115,
    "start_time": "2023-06-01T19:00:01.439Z"
   },
   {
    "duration": 12,
    "start_time": "2023-06-01T19:00:07.294Z"
   },
   {
    "duration": 119,
    "start_time": "2023-06-01T19:00:12.720Z"
   },
   {
    "duration": 194,
    "start_time": "2023-06-01T19:00:52.111Z"
   },
   {
    "duration": 14,
    "start_time": "2023-06-01T19:00:55.914Z"
   },
   {
    "duration": 23,
    "start_time": "2023-06-01T19:01:00.189Z"
   },
   {
    "duration": 16,
    "start_time": "2023-06-01T19:01:01.109Z"
   },
   {
    "duration": 7,
    "start_time": "2023-06-01T19:01:02.944Z"
   },
   {
    "duration": 20,
    "start_time": "2023-06-01T19:01:03.450Z"
   },
   {
    "duration": 5,
    "start_time": "2023-06-01T19:01:03.978Z"
   },
   {
    "duration": 12,
    "start_time": "2023-06-01T19:01:07.142Z"
   },
   {
    "duration": 260,
    "start_time": "2023-06-01T19:01:10.750Z"
   },
   {
    "duration": 242,
    "start_time": "2023-06-01T19:01:14.163Z"
   },
   {
    "duration": 268,
    "start_time": "2023-06-01T19:01:17.391Z"
   },
   {
    "duration": 293,
    "start_time": "2023-06-01T19:01:18.386Z"
   },
   {
    "duration": 143,
    "start_time": "2023-06-01T19:02:10.983Z"
   },
   {
    "duration": 116,
    "start_time": "2023-06-01T19:02:20.457Z"
   },
   {
    "duration": 3,
    "start_time": "2023-06-01T19:04:05.515Z"
   },
   {
    "duration": 52,
    "start_time": "2023-06-01T19:04:05.521Z"
   },
   {
    "duration": 10,
    "start_time": "2023-06-01T19:04:05.575Z"
   },
   {
    "duration": 189,
    "start_time": "2023-06-01T19:04:05.586Z"
   },
   {
    "duration": 30,
    "start_time": "2023-06-01T19:04:05.776Z"
   },
   {
    "duration": 9,
    "start_time": "2023-06-01T19:04:05.808Z"
   },
   {
    "duration": 181,
    "start_time": "2023-06-01T19:04:05.828Z"
   },
   {
    "duration": 164,
    "start_time": "2023-06-01T19:04:06.010Z"
   },
   {
    "duration": 19,
    "start_time": "2023-06-01T19:04:06.176Z"
   },
   {
    "duration": 39,
    "start_time": "2023-06-01T19:04:06.196Z"
   },
   {
    "duration": 39,
    "start_time": "2023-06-01T19:04:06.236Z"
   },
   {
    "duration": 17,
    "start_time": "2023-06-01T19:04:06.277Z"
   },
   {
    "duration": 22,
    "start_time": "2023-06-01T19:04:06.295Z"
   },
   {
    "duration": 36,
    "start_time": "2023-06-01T19:04:06.318Z"
   },
   {
    "duration": 33,
    "start_time": "2023-06-01T19:04:06.357Z"
   },
   {
    "duration": 18,
    "start_time": "2023-06-01T19:04:06.392Z"
   },
   {
    "duration": 40,
    "start_time": "2023-06-01T19:04:06.412Z"
   },
   {
    "duration": 93,
    "start_time": "2023-06-01T19:04:06.453Z"
   },
   {
    "duration": 201,
    "start_time": "2023-06-01T19:04:06.548Z"
   },
   {
    "duration": 95,
    "start_time": "2023-06-01T19:04:06.751Z"
   },
   {
    "duration": 99,
    "start_time": "2023-06-01T19:04:06.848Z"
   },
   {
    "duration": 0,
    "start_time": "2023-06-01T19:04:06.949Z"
   },
   {
    "duration": 0,
    "start_time": "2023-06-01T19:04:06.950Z"
   },
   {
    "duration": 0,
    "start_time": "2023-06-01T19:04:06.951Z"
   },
   {
    "duration": 0,
    "start_time": "2023-06-01T19:04:06.952Z"
   },
   {
    "duration": 0,
    "start_time": "2023-06-01T19:04:06.953Z"
   },
   {
    "duration": 0,
    "start_time": "2023-06-01T19:04:06.955Z"
   },
   {
    "duration": 0,
    "start_time": "2023-06-01T19:04:06.956Z"
   },
   {
    "duration": 0,
    "start_time": "2023-06-01T19:04:06.958Z"
   },
   {
    "duration": 0,
    "start_time": "2023-06-01T19:04:06.959Z"
   },
   {
    "duration": 0,
    "start_time": "2023-06-01T19:04:06.960Z"
   },
   {
    "duration": 0,
    "start_time": "2023-06-01T19:04:06.962Z"
   },
   {
    "duration": 0,
    "start_time": "2023-06-01T19:04:06.963Z"
   },
   {
    "duration": 0,
    "start_time": "2023-06-01T19:04:06.964Z"
   },
   {
    "duration": 0,
    "start_time": "2023-06-01T19:04:06.966Z"
   },
   {
    "duration": 98,
    "start_time": "2023-06-01T19:06:09.543Z"
   },
   {
    "duration": 104,
    "start_time": "2023-06-01T19:06:28.439Z"
   },
   {
    "duration": 4,
    "start_time": "2023-06-01T19:06:41.654Z"
   },
   {
    "duration": 45,
    "start_time": "2023-06-01T19:06:41.660Z"
   },
   {
    "duration": 12,
    "start_time": "2023-06-01T19:06:41.707Z"
   },
   {
    "duration": 201,
    "start_time": "2023-06-01T19:06:41.722Z"
   },
   {
    "duration": 35,
    "start_time": "2023-06-01T19:06:41.924Z"
   },
   {
    "duration": 12,
    "start_time": "2023-06-01T19:06:41.960Z"
   },
   {
    "duration": 180,
    "start_time": "2023-06-01T19:06:41.973Z"
   },
   {
    "duration": 184,
    "start_time": "2023-06-01T19:06:42.155Z"
   },
   {
    "duration": 22,
    "start_time": "2023-06-01T19:06:42.341Z"
   },
   {
    "duration": 13,
    "start_time": "2023-06-01T19:06:42.366Z"
   },
   {
    "duration": 13,
    "start_time": "2023-06-01T19:06:42.381Z"
   },
   {
    "duration": 12,
    "start_time": "2023-06-01T19:06:42.396Z"
   },
   {
    "duration": 18,
    "start_time": "2023-06-01T19:06:42.410Z"
   },
   {
    "duration": 9,
    "start_time": "2023-06-01T19:06:42.436Z"
   },
   {
    "duration": 8,
    "start_time": "2023-06-01T19:06:42.447Z"
   },
   {
    "duration": 7,
    "start_time": "2023-06-01T19:06:42.456Z"
   },
   {
    "duration": 6,
    "start_time": "2023-06-01T19:06:42.465Z"
   },
   {
    "duration": 18,
    "start_time": "2023-06-01T19:06:42.473Z"
   },
   {
    "duration": 186,
    "start_time": "2023-06-01T19:06:42.492Z"
   },
   {
    "duration": 117,
    "start_time": "2023-06-01T19:06:42.679Z"
   },
   {
    "duration": 104,
    "start_time": "2023-06-01T19:06:42.797Z"
   },
   {
    "duration": 113,
    "start_time": "2023-06-01T19:06:42.903Z"
   },
   {
    "duration": 25,
    "start_time": "2023-06-01T19:06:43.017Z"
   },
   {
    "duration": 204,
    "start_time": "2023-06-01T19:06:43.044Z"
   },
   {
    "duration": 9,
    "start_time": "2023-06-01T19:06:43.250Z"
   },
   {
    "duration": 28,
    "start_time": "2023-06-01T19:06:43.261Z"
   },
   {
    "duration": 12,
    "start_time": "2023-06-01T19:06:43.291Z"
   },
   {
    "duration": 13,
    "start_time": "2023-06-01T19:06:43.325Z"
   },
   {
    "duration": 19,
    "start_time": "2023-06-01T19:06:43.342Z"
   },
   {
    "duration": 5,
    "start_time": "2023-06-01T19:06:43.363Z"
   },
   {
    "duration": 13,
    "start_time": "2023-06-01T19:06:43.370Z"
   },
   {
    "duration": 279,
    "start_time": "2023-06-01T19:06:43.385Z"
   },
   {
    "duration": 252,
    "start_time": "2023-06-01T19:06:43.666Z"
   },
   {
    "duration": 269,
    "start_time": "2023-06-01T19:06:43.920Z"
   },
   {
    "duration": 281,
    "start_time": "2023-06-01T19:06:44.191Z"
   },
   {
    "duration": 1146,
    "start_time": "2023-06-01T19:08:28.642Z"
   },
   {
    "duration": 41,
    "start_time": "2023-06-01T19:08:29.790Z"
   },
   {
    "duration": 12,
    "start_time": "2023-06-01T19:08:29.836Z"
   },
   {
    "duration": 186,
    "start_time": "2023-06-01T19:08:29.849Z"
   },
   {
    "duration": 37,
    "start_time": "2023-06-01T19:08:30.037Z"
   },
   {
    "duration": 10,
    "start_time": "2023-06-01T19:08:30.075Z"
   },
   {
    "duration": 188,
    "start_time": "2023-06-01T19:08:30.086Z"
   },
   {
    "duration": 167,
    "start_time": "2023-06-01T19:08:30.276Z"
   },
   {
    "duration": 19,
    "start_time": "2023-06-01T19:08:30.446Z"
   },
   {
    "duration": 29,
    "start_time": "2023-06-01T19:08:30.466Z"
   },
   {
    "duration": 50,
    "start_time": "2023-06-01T19:08:30.497Z"
   },
   {
    "duration": 35,
    "start_time": "2023-06-01T19:08:30.549Z"
   },
   {
    "duration": 29,
    "start_time": "2023-06-01T19:08:30.586Z"
   },
   {
    "duration": 51,
    "start_time": "2023-06-01T19:08:30.617Z"
   },
   {
    "duration": 34,
    "start_time": "2023-06-01T19:08:30.670Z"
   },
   {
    "duration": 39,
    "start_time": "2023-06-01T19:08:30.705Z"
   },
   {
    "duration": 34,
    "start_time": "2023-06-01T19:08:30.745Z"
   },
   {
    "duration": 34,
    "start_time": "2023-06-01T19:08:30.782Z"
   },
   {
    "duration": 302,
    "start_time": "2023-06-01T19:08:30.818Z"
   },
   {
    "duration": 103,
    "start_time": "2023-06-01T19:08:31.127Z"
   },
   {
    "duration": 99,
    "start_time": "2023-06-01T19:08:31.236Z"
   },
   {
    "duration": 110,
    "start_time": "2023-06-01T19:08:31.336Z"
   },
   {
    "duration": 12,
    "start_time": "2023-06-01T19:08:31.448Z"
   },
   {
    "duration": 153,
    "start_time": "2023-06-01T19:08:31.462Z"
   },
   {
    "duration": 15,
    "start_time": "2023-06-01T19:08:31.625Z"
   },
   {
    "duration": 44,
    "start_time": "2023-06-01T19:08:31.642Z"
   },
   {
    "duration": 62,
    "start_time": "2023-06-01T19:08:31.689Z"
   },
   {
    "duration": 34,
    "start_time": "2023-06-01T19:08:31.752Z"
   },
   {
    "duration": 53,
    "start_time": "2023-06-01T19:08:31.787Z"
   },
   {
    "duration": 47,
    "start_time": "2023-06-01T19:08:31.841Z"
   },
   {
    "duration": 42,
    "start_time": "2023-06-01T19:08:31.889Z"
   },
   {
    "duration": 286,
    "start_time": "2023-06-01T19:08:31.932Z"
   },
   {
    "duration": 286,
    "start_time": "2023-06-01T19:08:32.219Z"
   },
   {
    "duration": 259,
    "start_time": "2023-06-01T19:08:32.507Z"
   },
   {
    "duration": 288,
    "start_time": "2023-06-01T19:08:32.768Z"
   },
   {
    "duration": 145,
    "start_time": "2023-06-01T19:08:49.404Z"
   },
   {
    "duration": 104,
    "start_time": "2023-06-01T19:09:00.020Z"
   },
   {
    "duration": 100,
    "start_time": "2023-06-01T19:09:06.145Z"
   },
   {
    "duration": 257,
    "start_time": "2023-06-01T19:16:33.288Z"
   },
   {
    "duration": 227,
    "start_time": "2023-06-01T19:18:18.773Z"
   },
   {
    "duration": 263,
    "start_time": "2023-06-01T19:18:53.073Z"
   },
   {
    "duration": 253,
    "start_time": "2023-06-01T19:20:13.640Z"
   },
   {
    "duration": 359,
    "start_time": "2023-06-01T19:20:42.087Z"
   },
   {
    "duration": 279,
    "start_time": "2023-06-01T19:21:28.679Z"
   },
   {
    "duration": 270,
    "start_time": "2023-06-01T19:22:10.338Z"
   },
   {
    "duration": 48,
    "start_time": "2023-06-01T20:01:27.234Z"
   },
   {
    "duration": 29,
    "start_time": "2023-06-01T20:01:49.154Z"
   },
   {
    "duration": 23,
    "start_time": "2023-06-01T20:03:03.172Z"
   },
   {
    "duration": 30,
    "start_time": "2023-06-01T20:05:13.506Z"
   },
   {
    "duration": 24,
    "start_time": "2023-06-01T20:07:38.766Z"
   },
   {
    "duration": 38,
    "start_time": "2023-06-01T20:07:51.015Z"
   },
   {
    "duration": 28,
    "start_time": "2023-06-01T20:09:02.256Z"
   },
   {
    "duration": 28,
    "start_time": "2023-06-01T20:10:34.412Z"
   },
   {
    "duration": 30,
    "start_time": "2023-06-01T20:14:10.805Z"
   },
   {
    "duration": 30,
    "start_time": "2023-06-01T20:14:44.198Z"
   },
   {
    "duration": 325,
    "start_time": "2023-06-01T20:21:52.185Z"
   },
   {
    "duration": 27,
    "start_time": "2023-06-01T20:22:19.224Z"
   },
   {
    "duration": 30,
    "start_time": "2023-06-01T20:23:45.490Z"
   },
   {
    "duration": 36,
    "start_time": "2023-06-01T20:24:30.332Z"
   },
   {
    "duration": 35,
    "start_time": "2023-06-01T20:26:14.756Z"
   },
   {
    "duration": 28,
    "start_time": "2023-06-01T20:27:48.445Z"
   },
   {
    "duration": 26,
    "start_time": "2023-06-01T20:50:26.462Z"
   },
   {
    "duration": 48,
    "start_time": "2023-06-01T20:54:23.600Z"
   },
   {
    "duration": 80,
    "start_time": "2023-06-01T20:55:14.968Z"
   },
   {
    "duration": 61,
    "start_time": "2023-06-01T20:55:29.224Z"
   },
   {
    "duration": 30,
    "start_time": "2023-06-01T20:56:54.298Z"
   },
   {
    "duration": 66,
    "start_time": "2023-06-01T21:00:24.787Z"
   },
   {
    "duration": 27,
    "start_time": "2023-06-01T21:00:34.355Z"
   },
   {
    "duration": 18,
    "start_time": "2023-06-01T21:06:31.047Z"
   },
   {
    "duration": 15,
    "start_time": "2023-06-01T21:06:46.080Z"
   },
   {
    "duration": 16,
    "start_time": "2023-06-01T21:07:24.231Z"
   },
   {
    "duration": 3,
    "start_time": "2023-06-01T21:07:33.115Z"
   },
   {
    "duration": 50,
    "start_time": "2023-06-01T21:07:33.120Z"
   },
   {
    "duration": 10,
    "start_time": "2023-06-01T21:07:33.172Z"
   },
   {
    "duration": 180,
    "start_time": "2023-06-01T21:07:33.184Z"
   },
   {
    "duration": 30,
    "start_time": "2023-06-01T21:07:33.366Z"
   },
   {
    "duration": 11,
    "start_time": "2023-06-01T21:07:33.398Z"
   },
   {
    "duration": 159,
    "start_time": "2023-06-01T21:07:33.410Z"
   },
   {
    "duration": 153,
    "start_time": "2023-06-01T21:07:33.571Z"
   },
   {
    "duration": 19,
    "start_time": "2023-06-01T21:07:33.726Z"
   },
   {
    "duration": 9,
    "start_time": "2023-06-01T21:07:33.747Z"
   },
   {
    "duration": 26,
    "start_time": "2023-06-01T21:07:33.758Z"
   },
   {
    "duration": 29,
    "start_time": "2023-06-01T21:07:33.785Z"
   },
   {
    "duration": 32,
    "start_time": "2023-06-01T21:07:33.815Z"
   },
   {
    "duration": 17,
    "start_time": "2023-06-01T21:07:33.848Z"
   },
   {
    "duration": 57,
    "start_time": "2023-06-01T21:07:33.866Z"
   },
   {
    "duration": 20,
    "start_time": "2023-06-01T21:07:33.925Z"
   },
   {
    "duration": 23,
    "start_time": "2023-06-01T21:07:33.946Z"
   },
   {
    "duration": 19,
    "start_time": "2023-06-01T21:07:33.971Z"
   },
   {
    "duration": 167,
    "start_time": "2023-06-01T21:07:33.991Z"
   },
   {
    "duration": 87,
    "start_time": "2023-06-01T21:07:34.160Z"
   },
   {
    "duration": 99,
    "start_time": "2023-06-01T21:07:34.249Z"
   },
   {
    "duration": 107,
    "start_time": "2023-06-01T21:07:34.349Z"
   },
   {
    "duration": 11,
    "start_time": "2023-06-01T21:07:34.457Z"
   },
   {
    "duration": 194,
    "start_time": "2023-06-01T21:07:34.470Z"
   },
   {
    "duration": 8,
    "start_time": "2023-06-01T21:07:34.665Z"
   },
   {
    "duration": 28,
    "start_time": "2023-06-01T21:07:34.674Z"
   },
   {
    "duration": 30,
    "start_time": "2023-06-01T21:07:34.704Z"
   },
   {
    "duration": 22,
    "start_time": "2023-06-01T21:07:34.736Z"
   },
   {
    "duration": 54,
    "start_time": "2023-06-01T21:07:34.762Z"
   },
   {
    "duration": 16,
    "start_time": "2023-06-01T21:07:34.818Z"
   },
   {
    "duration": 31,
    "start_time": "2023-06-01T21:07:34.836Z"
   },
   {
    "duration": 222,
    "start_time": "2023-06-01T21:07:34.869Z"
   },
   {
    "duration": 248,
    "start_time": "2023-06-01T21:07:35.092Z"
   },
   {
    "duration": 254,
    "start_time": "2023-06-01T21:07:35.342Z"
   },
   {
    "duration": 284,
    "start_time": "2023-06-01T21:07:35.598Z"
   },
   {
    "duration": 41,
    "start_time": "2023-06-01T21:07:35.884Z"
   },
   {
    "duration": 13,
    "start_time": "2023-06-01T21:07:35.927Z"
   },
   {
    "duration": 14,
    "start_time": "2023-06-01T21:08:09.673Z"
   },
   {
    "duration": 3,
    "start_time": "2023-06-01T21:08:20.738Z"
   },
   {
    "duration": 36,
    "start_time": "2023-06-01T21:08:20.743Z"
   },
   {
    "duration": 9,
    "start_time": "2023-06-01T21:08:20.780Z"
   },
   {
    "duration": 156,
    "start_time": "2023-06-01T21:08:20.791Z"
   },
   {
    "duration": 31,
    "start_time": "2023-06-01T21:08:20.949Z"
   },
   {
    "duration": 15,
    "start_time": "2023-06-01T21:08:20.982Z"
   },
   {
    "duration": 178,
    "start_time": "2023-06-01T21:08:20.999Z"
   },
   {
    "duration": 160,
    "start_time": "2023-06-01T21:08:21.179Z"
   },
   {
    "duration": 19,
    "start_time": "2023-06-01T21:08:21.341Z"
   },
   {
    "duration": 9,
    "start_time": "2023-06-01T21:08:21.361Z"
   },
   {
    "duration": 7,
    "start_time": "2023-06-01T21:08:21.371Z"
   },
   {
    "duration": 8,
    "start_time": "2023-06-01T21:08:21.379Z"
   },
   {
    "duration": 9,
    "start_time": "2023-06-01T21:08:21.389Z"
   },
   {
    "duration": 12,
    "start_time": "2023-06-01T21:08:21.400Z"
   },
   {
    "duration": 18,
    "start_time": "2023-06-01T21:08:21.413Z"
   },
   {
    "duration": 13,
    "start_time": "2023-06-01T21:08:21.432Z"
   },
   {
    "duration": 13,
    "start_time": "2023-06-01T21:08:21.447Z"
   },
   {
    "duration": 8,
    "start_time": "2023-06-01T21:08:21.462Z"
   },
   {
    "duration": 169,
    "start_time": "2023-06-01T21:08:21.471Z"
   },
   {
    "duration": 89,
    "start_time": "2023-06-01T21:08:21.642Z"
   },
   {
    "duration": 183,
    "start_time": "2023-06-01T21:08:21.733Z"
   },
   {
    "duration": 111,
    "start_time": "2023-06-01T21:08:21.918Z"
   },
   {
    "duration": 12,
    "start_time": "2023-06-01T21:08:22.030Z"
   },
   {
    "duration": 128,
    "start_time": "2023-06-01T21:08:22.043Z"
   },
   {
    "duration": 9,
    "start_time": "2023-06-01T21:08:22.172Z"
   },
   {
    "duration": 31,
    "start_time": "2023-06-01T21:08:22.183Z"
   },
   {
    "duration": 13,
    "start_time": "2023-06-01T21:08:22.215Z"
   },
   {
    "duration": 6,
    "start_time": "2023-06-01T21:08:22.229Z"
   },
   {
    "duration": 11,
    "start_time": "2023-06-01T21:08:22.236Z"
   },
   {
    "duration": 5,
    "start_time": "2023-06-01T21:08:22.248Z"
   },
   {
    "duration": 13,
    "start_time": "2023-06-01T21:08:22.254Z"
   },
   {
    "duration": 265,
    "start_time": "2023-06-01T21:08:22.269Z"
   },
   {
    "duration": 230,
    "start_time": "2023-06-01T21:08:22.535Z"
   },
   {
    "duration": 259,
    "start_time": "2023-06-01T21:08:22.767Z"
   },
   {
    "duration": 266,
    "start_time": "2023-06-01T21:08:23.028Z"
   },
   {
    "duration": 35,
    "start_time": "2023-06-01T21:08:23.295Z"
   },
   {
    "duration": 25,
    "start_time": "2023-06-01T21:08:23.331Z"
   },
   {
    "duration": 3,
    "start_time": "2023-06-01T21:08:47.093Z"
   },
   {
    "duration": 37,
    "start_time": "2023-06-01T21:08:47.098Z"
   },
   {
    "duration": 11,
    "start_time": "2023-06-01T21:08:47.137Z"
   },
   {
    "duration": 208,
    "start_time": "2023-06-01T21:08:47.150Z"
   },
   {
    "duration": 30,
    "start_time": "2023-06-01T21:08:47.361Z"
   },
   {
    "duration": 12,
    "start_time": "2023-06-01T21:08:47.393Z"
   },
   {
    "duration": 162,
    "start_time": "2023-06-01T21:08:47.406Z"
   },
   {
    "duration": 254,
    "start_time": "2023-06-01T21:08:47.570Z"
   },
   {
    "duration": 19,
    "start_time": "2023-06-01T21:08:47.826Z"
   },
   {
    "duration": 9,
    "start_time": "2023-06-01T21:08:47.847Z"
   },
   {
    "duration": 8,
    "start_time": "2023-06-01T21:08:47.858Z"
   },
   {
    "duration": 5,
    "start_time": "2023-06-01T21:08:47.867Z"
   },
   {
    "duration": 8,
    "start_time": "2023-06-01T21:08:47.874Z"
   },
   {
    "duration": 11,
    "start_time": "2023-06-01T21:08:47.883Z"
   },
   {
    "duration": 30,
    "start_time": "2023-06-01T21:08:47.895Z"
   },
   {
    "duration": 6,
    "start_time": "2023-06-01T21:08:47.927Z"
   },
   {
    "duration": 7,
    "start_time": "2023-06-01T21:08:47.935Z"
   },
   {
    "duration": 6,
    "start_time": "2023-06-01T21:08:47.943Z"
   },
   {
    "duration": 182,
    "start_time": "2023-06-01T21:08:47.950Z"
   },
   {
    "duration": 93,
    "start_time": "2023-06-01T21:08:48.133Z"
   },
   {
    "duration": 98,
    "start_time": "2023-06-01T21:08:48.228Z"
   },
   {
    "duration": 114,
    "start_time": "2023-06-01T21:08:48.328Z"
   },
   {
    "duration": 12,
    "start_time": "2023-06-01T21:08:48.443Z"
   },
   {
    "duration": 118,
    "start_time": "2023-06-01T21:08:48.456Z"
   },
   {
    "duration": 9,
    "start_time": "2023-06-01T21:08:48.576Z"
   },
   {
    "duration": 40,
    "start_time": "2023-06-01T21:08:48.586Z"
   },
   {
    "duration": 13,
    "start_time": "2023-06-01T21:08:48.627Z"
   },
   {
    "duration": 9,
    "start_time": "2023-06-01T21:08:48.641Z"
   },
   {
    "duration": 11,
    "start_time": "2023-06-01T21:08:48.653Z"
   },
   {
    "duration": 4,
    "start_time": "2023-06-01T21:08:48.666Z"
   },
   {
    "duration": 15,
    "start_time": "2023-06-01T21:08:48.671Z"
   },
   {
    "duration": 246,
    "start_time": "2023-06-01T21:08:48.688Z"
   },
   {
    "duration": 219,
    "start_time": "2023-06-01T21:08:48.935Z"
   },
   {
    "duration": 244,
    "start_time": "2023-06-01T21:08:49.155Z"
   },
   {
    "duration": 266,
    "start_time": "2023-06-01T21:08:49.400Z"
   },
   {
    "duration": 28,
    "start_time": "2023-06-01T21:08:49.668Z"
   },
   {
    "duration": 29,
    "start_time": "2023-06-01T21:08:49.698Z"
   },
   {
    "duration": 14,
    "start_time": "2023-06-01T21:09:24.793Z"
   },
   {
    "duration": 14,
    "start_time": "2023-06-01T21:16:18.175Z"
   },
   {
    "duration": 4,
    "start_time": "2023-06-01T21:16:58.051Z"
   },
   {
    "duration": 76,
    "start_time": "2023-06-01T21:16:58.057Z"
   },
   {
    "duration": 11,
    "start_time": "2023-06-01T21:16:58.135Z"
   },
   {
    "duration": 283,
    "start_time": "2023-06-01T21:16:58.147Z"
   },
   {
    "duration": 30,
    "start_time": "2023-06-01T21:16:58.431Z"
   },
   {
    "duration": 11,
    "start_time": "2023-06-01T21:16:58.463Z"
   },
   {
    "duration": 183,
    "start_time": "2023-06-01T21:16:58.475Z"
   },
   {
    "duration": 169,
    "start_time": "2023-06-01T21:16:58.660Z"
   },
   {
    "duration": 20,
    "start_time": "2023-06-01T21:16:58.832Z"
   },
   {
    "duration": 10,
    "start_time": "2023-06-01T21:16:58.853Z"
   },
   {
    "duration": 34,
    "start_time": "2023-06-01T21:16:58.865Z"
   },
   {
    "duration": 22,
    "start_time": "2023-06-01T21:16:58.900Z"
   },
   {
    "duration": 22,
    "start_time": "2023-06-01T21:16:58.923Z"
   },
   {
    "duration": 40,
    "start_time": "2023-06-01T21:16:58.947Z"
   },
   {
    "duration": 24,
    "start_time": "2023-06-01T21:16:58.989Z"
   },
   {
    "duration": 13,
    "start_time": "2023-06-01T21:16:59.015Z"
   },
   {
    "duration": 20,
    "start_time": "2023-06-01T21:16:59.030Z"
   },
   {
    "duration": 22,
    "start_time": "2023-06-01T21:16:59.051Z"
   },
   {
    "duration": 178,
    "start_time": "2023-06-01T21:16:59.074Z"
   },
   {
    "duration": 97,
    "start_time": "2023-06-01T21:16:59.253Z"
   },
   {
    "duration": 100,
    "start_time": "2023-06-01T21:16:59.351Z"
   },
   {
    "duration": 116,
    "start_time": "2023-06-01T21:16:59.452Z"
   },
   {
    "duration": 13,
    "start_time": "2023-06-01T21:16:59.569Z"
   },
   {
    "duration": 129,
    "start_time": "2023-06-01T21:16:59.584Z"
   },
   {
    "duration": 17,
    "start_time": "2023-06-01T21:16:59.715Z"
   },
   {
    "duration": 23,
    "start_time": "2023-06-01T21:16:59.733Z"
   },
   {
    "duration": 14,
    "start_time": "2023-06-01T21:16:59.757Z"
   },
   {
    "duration": 7,
    "start_time": "2023-06-01T21:16:59.773Z"
   },
   {
    "duration": 13,
    "start_time": "2023-06-01T21:16:59.781Z"
   },
   {
    "duration": 6,
    "start_time": "2023-06-01T21:16:59.825Z"
   },
   {
    "duration": 14,
    "start_time": "2023-06-01T21:16:59.833Z"
   },
   {
    "duration": 275,
    "start_time": "2023-06-01T21:16:59.849Z"
   },
   {
    "duration": 249,
    "start_time": "2023-06-01T21:17:00.126Z"
   },
   {
    "duration": 363,
    "start_time": "2023-06-01T21:17:00.376Z"
   },
   {
    "duration": 302,
    "start_time": "2023-06-01T21:17:00.741Z"
   },
   {
    "duration": 41,
    "start_time": "2023-06-01T21:17:01.045Z"
   },
   {
    "duration": 39,
    "start_time": "2023-06-01T21:17:01.088Z"
   },
   {
    "duration": 15,
    "start_time": "2023-06-01T21:18:02.136Z"
   },
   {
    "duration": 14,
    "start_time": "2023-06-01T21:23:18.875Z"
   },
   {
    "duration": 3,
    "start_time": "2023-06-01T21:23:24.439Z"
   },
   {
    "duration": 34,
    "start_time": "2023-06-01T21:23:24.444Z"
   },
   {
    "duration": 9,
    "start_time": "2023-06-01T21:23:24.479Z"
   },
   {
    "duration": 152,
    "start_time": "2023-06-01T21:23:24.489Z"
   },
   {
    "duration": 30,
    "start_time": "2023-06-01T21:23:24.642Z"
   },
   {
    "duration": 20,
    "start_time": "2023-06-01T21:23:24.674Z"
   },
   {
    "duration": 198,
    "start_time": "2023-06-01T21:23:24.696Z"
   },
   {
    "duration": 152,
    "start_time": "2023-06-01T21:23:24.896Z"
   },
   {
    "duration": 19,
    "start_time": "2023-06-01T21:23:25.049Z"
   },
   {
    "duration": 12,
    "start_time": "2023-06-01T21:23:25.070Z"
   },
   {
    "duration": 20,
    "start_time": "2023-06-01T21:23:25.085Z"
   },
   {
    "duration": 35,
    "start_time": "2023-06-01T21:23:25.106Z"
   },
   {
    "duration": 23,
    "start_time": "2023-06-01T21:23:25.143Z"
   },
   {
    "duration": 23,
    "start_time": "2023-06-01T21:23:25.168Z"
   },
   {
    "duration": 27,
    "start_time": "2023-06-01T21:23:25.192Z"
   },
   {
    "duration": 13,
    "start_time": "2023-06-01T21:23:25.220Z"
   },
   {
    "duration": 13,
    "start_time": "2023-06-01T21:23:25.235Z"
   },
   {
    "duration": 15,
    "start_time": "2023-06-01T21:23:25.250Z"
   },
   {
    "duration": 180,
    "start_time": "2023-06-01T21:23:25.267Z"
   },
   {
    "duration": 95,
    "start_time": "2023-06-01T21:23:25.449Z"
   },
   {
    "duration": 111,
    "start_time": "2023-06-01T21:23:25.546Z"
   },
   {
    "duration": 121,
    "start_time": "2023-06-01T21:23:25.659Z"
   },
   {
    "duration": 12,
    "start_time": "2023-06-01T21:23:25.781Z"
   },
   {
    "duration": 133,
    "start_time": "2023-06-01T21:23:25.794Z"
   },
   {
    "duration": 10,
    "start_time": "2023-06-01T21:23:25.928Z"
   },
   {
    "duration": 21,
    "start_time": "2023-06-01T21:23:25.939Z"
   },
   {
    "duration": 13,
    "start_time": "2023-06-01T21:23:25.962Z"
   },
   {
    "duration": 6,
    "start_time": "2023-06-01T21:23:25.976Z"
   },
   {
    "duration": 40,
    "start_time": "2023-06-01T21:23:25.985Z"
   },
   {
    "duration": 5,
    "start_time": "2023-06-01T21:23:26.027Z"
   },
   {
    "duration": 12,
    "start_time": "2023-06-01T21:23:26.034Z"
   },
   {
    "duration": 344,
    "start_time": "2023-06-01T21:23:26.048Z"
   },
   {
    "duration": 231,
    "start_time": "2023-06-01T21:23:26.393Z"
   },
   {
    "duration": 249,
    "start_time": "2023-06-01T21:23:26.626Z"
   },
   {
    "duration": 258,
    "start_time": "2023-06-01T21:23:26.877Z"
   },
   {
    "duration": 29,
    "start_time": "2023-06-01T21:23:27.136Z"
   },
   {
    "duration": 13,
    "start_time": "2023-06-01T21:23:27.167Z"
   },
   {
    "duration": 966,
    "start_time": "2023-06-01T21:32:06.008Z"
   },
   {
    "duration": 4,
    "start_time": "2023-06-01T21:32:10.931Z"
   },
   {
    "duration": 35,
    "start_time": "2023-06-01T21:32:10.937Z"
   },
   {
    "duration": 12,
    "start_time": "2023-06-01T21:32:10.973Z"
   },
   {
    "duration": 188,
    "start_time": "2023-06-01T21:32:10.987Z"
   },
   {
    "duration": 30,
    "start_time": "2023-06-01T21:32:11.176Z"
   },
   {
    "duration": 9,
    "start_time": "2023-06-01T21:32:11.208Z"
   },
   {
    "duration": 162,
    "start_time": "2023-06-01T21:32:11.218Z"
   },
   {
    "duration": 157,
    "start_time": "2023-06-01T21:32:11.382Z"
   },
   {
    "duration": 18,
    "start_time": "2023-06-01T21:32:11.541Z"
   },
   {
    "duration": 8,
    "start_time": "2023-06-01T21:32:11.561Z"
   },
   {
    "duration": 15,
    "start_time": "2023-06-01T21:32:11.571Z"
   },
   {
    "duration": 10,
    "start_time": "2023-06-01T21:32:11.588Z"
   },
   {
    "duration": 12,
    "start_time": "2023-06-01T21:32:11.599Z"
   },
   {
    "duration": 8,
    "start_time": "2023-06-01T21:32:11.613Z"
   },
   {
    "duration": 11,
    "start_time": "2023-06-01T21:32:11.622Z"
   },
   {
    "duration": 7,
    "start_time": "2023-06-01T21:32:11.634Z"
   },
   {
    "duration": 11,
    "start_time": "2023-06-01T21:32:11.642Z"
   },
   {
    "duration": 13,
    "start_time": "2023-06-01T21:32:11.654Z"
   },
   {
    "duration": 158,
    "start_time": "2023-06-01T21:32:11.669Z"
   },
   {
    "duration": 76,
    "start_time": "2023-06-01T21:32:11.829Z"
   },
   {
    "duration": 102,
    "start_time": "2023-06-01T21:32:11.907Z"
   },
   {
    "duration": 185,
    "start_time": "2023-06-01T21:32:12.010Z"
   },
   {
    "duration": 11,
    "start_time": "2023-06-01T21:32:12.196Z"
   },
   {
    "duration": 117,
    "start_time": "2023-06-01T21:32:12.208Z"
   },
   {
    "duration": 8,
    "start_time": "2023-06-01T21:32:12.326Z"
   },
   {
    "duration": 19,
    "start_time": "2023-06-01T21:32:12.336Z"
   },
   {
    "duration": 12,
    "start_time": "2023-06-01T21:32:12.356Z"
   },
   {
    "duration": 5,
    "start_time": "2023-06-01T21:32:12.369Z"
   },
   {
    "duration": 10,
    "start_time": "2023-06-01T21:32:12.377Z"
   },
   {
    "duration": 38,
    "start_time": "2023-06-01T21:32:12.388Z"
   },
   {
    "duration": 12,
    "start_time": "2023-06-01T21:32:12.427Z"
   },
   {
    "duration": 237,
    "start_time": "2023-06-01T21:32:12.440Z"
   },
   {
    "duration": 230,
    "start_time": "2023-06-01T21:32:12.679Z"
   },
   {
    "duration": 247,
    "start_time": "2023-06-01T21:32:12.911Z"
   },
   {
    "duration": 245,
    "start_time": "2023-06-01T21:32:13.160Z"
   },
   {
    "duration": 33,
    "start_time": "2023-06-01T21:32:13.407Z"
   },
   {
    "duration": 16,
    "start_time": "2023-06-01T21:32:13.442Z"
   },
   {
    "duration": 1237,
    "start_time": "2023-06-03T08:53:23.809Z"
   },
   {
    "duration": 101,
    "start_time": "2023-06-03T08:53:25.049Z"
   },
   {
    "duration": 12,
    "start_time": "2023-06-03T08:53:25.152Z"
   },
   {
    "duration": 195,
    "start_time": "2023-06-03T08:53:25.166Z"
   },
   {
    "duration": 157,
    "start_time": "2023-06-03T08:53:25.363Z"
   },
   {
    "duration": 11,
    "start_time": "2023-06-03T08:53:25.522Z"
   },
   {
    "duration": 160,
    "start_time": "2023-06-03T08:53:25.534Z"
   },
   {
    "duration": 168,
    "start_time": "2023-06-03T08:53:25.696Z"
   },
   {
    "duration": 61,
    "start_time": "2023-06-03T08:53:25.866Z"
   },
   {
    "duration": 10,
    "start_time": "2023-06-03T08:53:25.931Z"
   },
   {
    "duration": 19,
    "start_time": "2023-06-03T08:53:25.943Z"
   },
   {
    "duration": 13,
    "start_time": "2023-06-03T08:53:25.964Z"
   },
   {
    "duration": 27,
    "start_time": "2023-06-03T08:53:25.978Z"
   },
   {
    "duration": 11,
    "start_time": "2023-06-03T08:53:26.007Z"
   },
   {
    "duration": 10,
    "start_time": "2023-06-03T08:53:26.020Z"
   },
   {
    "duration": 7,
    "start_time": "2023-06-03T08:53:26.032Z"
   },
   {
    "duration": 5,
    "start_time": "2023-06-03T08:53:26.041Z"
   },
   {
    "duration": 12,
    "start_time": "2023-06-03T08:53:26.048Z"
   },
   {
    "duration": 195,
    "start_time": "2023-06-03T08:53:26.062Z"
   },
   {
    "duration": 99,
    "start_time": "2023-06-03T08:53:26.259Z"
   },
   {
    "duration": 121,
    "start_time": "2023-06-03T08:53:26.360Z"
   },
   {
    "duration": 141,
    "start_time": "2023-06-03T08:53:26.483Z"
   },
   {
    "duration": 15,
    "start_time": "2023-06-03T08:53:26.626Z"
   },
   {
    "duration": 138,
    "start_time": "2023-06-03T08:53:26.643Z"
   },
   {
    "duration": 10,
    "start_time": "2023-06-03T08:53:26.782Z"
   },
   {
    "duration": 23,
    "start_time": "2023-06-03T08:53:26.794Z"
   },
   {
    "duration": 13,
    "start_time": "2023-06-03T08:53:26.819Z"
   },
   {
    "duration": 7,
    "start_time": "2023-06-03T08:53:26.859Z"
   },
   {
    "duration": 20,
    "start_time": "2023-06-03T08:53:26.868Z"
   },
   {
    "duration": 5,
    "start_time": "2023-06-03T08:53:26.890Z"
   },
   {
    "duration": 15,
    "start_time": "2023-06-03T08:53:26.897Z"
   },
   {
    "duration": 291,
    "start_time": "2023-06-03T08:53:26.914Z"
   },
   {
    "duration": 375,
    "start_time": "2023-06-03T08:53:27.207Z"
   },
   {
    "duration": 278,
    "start_time": "2023-06-03T08:53:27.585Z"
   },
   {
    "duration": 284,
    "start_time": "2023-06-03T08:53:27.865Z"
   },
   {
    "duration": 34,
    "start_time": "2023-06-03T08:53:28.156Z"
   },
   {
    "duration": 99,
    "start_time": "2023-06-03T08:53:28.192Z"
   },
   {
    "duration": 34,
    "start_time": "2023-06-03T08:54:57.364Z"
   },
   {
    "duration": 4,
    "start_time": "2023-06-03T10:01:57.970Z"
   },
   {
    "duration": 6,
    "start_time": "2023-06-03T10:32:57.805Z"
   },
   {
    "duration": 7,
    "start_time": "2023-06-03T11:11:52.602Z"
   },
   {
    "duration": 107,
    "start_time": "2023-06-03T12:46:35.825Z"
   },
   {
    "duration": 20,
    "start_time": "2023-06-03T12:46:47.353Z"
   },
   {
    "duration": 203,
    "start_time": "2023-06-03T13:02:09.524Z"
   },
   {
    "duration": 77,
    "start_time": "2023-06-03T13:09:45.890Z"
   },
   {
    "duration": 2825,
    "start_time": "2023-06-03T13:11:47.917Z"
   },
   {
    "duration": 4,
    "start_time": "2023-06-03T13:12:25.745Z"
   },
   {
    "duration": 164,
    "start_time": "2023-06-03T13:12:25.751Z"
   },
   {
    "duration": 20,
    "start_time": "2023-06-03T13:12:25.917Z"
   },
   {
    "duration": 267,
    "start_time": "2023-06-03T13:12:25.940Z"
   },
   {
    "duration": 241,
    "start_time": "2023-06-03T13:12:26.213Z"
   },
   {
    "duration": 26,
    "start_time": "2023-06-03T13:12:26.458Z"
   },
   {
    "duration": 249,
    "start_time": "2023-06-03T13:12:26.487Z"
   },
   {
    "duration": 224,
    "start_time": "2023-06-03T13:12:26.738Z"
   },
   {
    "duration": 86,
    "start_time": "2023-06-03T13:12:26.965Z"
   },
   {
    "duration": 25,
    "start_time": "2023-06-03T13:12:27.052Z"
   },
   {
    "duration": 43,
    "start_time": "2023-06-03T13:12:27.080Z"
   },
   {
    "duration": 9,
    "start_time": "2023-06-03T13:12:27.127Z"
   },
   {
    "duration": 13,
    "start_time": "2023-06-03T13:12:27.138Z"
   },
   {
    "duration": 40,
    "start_time": "2023-06-03T13:12:27.153Z"
   },
   {
    "duration": 19,
    "start_time": "2023-06-03T13:12:27.195Z"
   },
   {
    "duration": 9,
    "start_time": "2023-06-03T13:12:27.217Z"
   },
   {
    "duration": 7,
    "start_time": "2023-06-03T13:12:27.232Z"
   },
   {
    "duration": 13,
    "start_time": "2023-06-03T13:12:27.243Z"
   },
   {
    "duration": 382,
    "start_time": "2023-06-03T13:12:27.258Z"
   },
   {
    "duration": 171,
    "start_time": "2023-06-03T13:12:27.660Z"
   },
   {
    "duration": 193,
    "start_time": "2023-06-03T13:12:27.834Z"
   },
   {
    "duration": 172,
    "start_time": "2023-06-03T13:12:28.029Z"
   },
   {
    "duration": 23,
    "start_time": "2023-06-03T13:12:28.213Z"
   },
   {
    "duration": 303,
    "start_time": "2023-06-03T13:12:28.240Z"
   },
   {
    "duration": 21,
    "start_time": "2023-06-03T13:12:28.549Z"
   },
   {
    "duration": 40,
    "start_time": "2023-06-03T13:12:28.572Z"
   },
   {
    "duration": 25,
    "start_time": "2023-06-03T13:12:28.614Z"
   },
   {
    "duration": 8,
    "start_time": "2023-06-03T13:12:28.647Z"
   },
   {
    "duration": 69,
    "start_time": "2023-06-03T13:12:28.657Z"
   },
   {
    "duration": 8,
    "start_time": "2023-06-03T13:12:28.730Z"
   },
   {
    "duration": 43,
    "start_time": "2023-06-03T13:12:28.742Z"
   },
   {
    "duration": 401,
    "start_time": "2023-06-03T13:12:28.796Z"
   },
   {
    "duration": 333,
    "start_time": "2023-06-03T13:12:29.202Z"
   },
   {
    "duration": 408,
    "start_time": "2023-06-03T13:12:29.537Z"
   },
   {
    "duration": 417,
    "start_time": "2023-06-03T13:12:29.950Z"
   },
   {
    "duration": 49,
    "start_time": "2023-06-03T13:12:30.373Z"
   },
   {
    "duration": 96,
    "start_time": "2023-06-03T13:12:30.428Z"
   },
   {
    "duration": 61,
    "start_time": "2023-06-03T13:12:30.530Z"
   },
   {
    "duration": 43,
    "start_time": "2023-06-03T13:12:30.601Z"
   },
   {
    "duration": 69,
    "start_time": "2023-06-03T13:12:30.646Z"
   },
   {
    "duration": 3,
    "start_time": "2023-06-03T13:16:16.045Z"
   },
   {
    "duration": 72,
    "start_time": "2023-06-03T13:16:16.050Z"
   },
   {
    "duration": 13,
    "start_time": "2023-06-03T13:16:16.124Z"
   },
   {
    "duration": 277,
    "start_time": "2023-06-03T13:16:16.138Z"
   },
   {
    "duration": 43,
    "start_time": "2023-06-03T13:16:16.421Z"
   },
   {
    "duration": 31,
    "start_time": "2023-06-03T13:16:16.478Z"
   },
   {
    "duration": 214,
    "start_time": "2023-06-03T13:16:16.514Z"
   },
   {
    "duration": 309,
    "start_time": "2023-06-03T13:16:16.730Z"
   },
   {
    "duration": 33,
    "start_time": "2023-06-03T13:16:17.042Z"
   },
   {
    "duration": 29,
    "start_time": "2023-06-03T13:16:17.078Z"
   },
   {
    "duration": 11,
    "start_time": "2023-06-03T13:16:17.109Z"
   },
   {
    "duration": 7,
    "start_time": "2023-06-03T13:16:17.122Z"
   },
   {
    "duration": 14,
    "start_time": "2023-06-03T13:16:17.133Z"
   },
   {
    "duration": 17,
    "start_time": "2023-06-03T13:16:17.149Z"
   },
   {
    "duration": 23,
    "start_time": "2023-06-03T13:16:17.168Z"
   },
   {
    "duration": 20,
    "start_time": "2023-06-03T13:16:17.194Z"
   },
   {
    "duration": 20,
    "start_time": "2023-06-03T13:16:17.222Z"
   },
   {
    "duration": 8,
    "start_time": "2023-06-03T13:16:17.245Z"
   },
   {
    "duration": 275,
    "start_time": "2023-06-03T13:16:17.255Z"
   },
   {
    "duration": 261,
    "start_time": "2023-06-03T13:16:17.534Z"
   },
   {
    "duration": 219,
    "start_time": "2023-06-03T13:16:17.801Z"
   },
   {
    "duration": 207,
    "start_time": "2023-06-03T13:16:18.022Z"
   },
   {
    "duration": 26,
    "start_time": "2023-06-03T13:16:18.234Z"
   },
   {
    "duration": 163,
    "start_time": "2023-06-03T13:16:18.267Z"
   },
   {
    "duration": 28,
    "start_time": "2023-06-03T13:16:18.432Z"
   },
   {
    "duration": 51,
    "start_time": "2023-06-03T13:16:18.469Z"
   },
   {
    "duration": 17,
    "start_time": "2023-06-03T13:16:18.526Z"
   },
   {
    "duration": 8,
    "start_time": "2023-06-03T13:16:18.545Z"
   },
   {
    "duration": 28,
    "start_time": "2023-06-03T13:16:18.554Z"
   },
   {
    "duration": 39,
    "start_time": "2023-06-03T13:16:18.584Z"
   },
   {
    "duration": 79,
    "start_time": "2023-06-03T13:16:18.630Z"
   },
   {
    "duration": 392,
    "start_time": "2023-06-03T13:16:18.711Z"
   },
   {
    "duration": 390,
    "start_time": "2023-06-03T13:16:19.105Z"
   },
   {
    "duration": 377,
    "start_time": "2023-06-03T13:16:19.498Z"
   },
   {
    "duration": 424,
    "start_time": "2023-06-03T13:16:19.883Z"
   },
   {
    "duration": 40,
    "start_time": "2023-06-03T13:16:20.313Z"
   },
   {
    "duration": 32,
    "start_time": "2023-06-03T13:16:20.359Z"
   },
   {
    "duration": 8,
    "start_time": "2023-06-03T13:16:20.394Z"
   },
   {
    "duration": 23,
    "start_time": "2023-06-03T13:16:20.403Z"
   },
   {
    "duration": 18,
    "start_time": "2023-06-03T13:16:20.428Z"
   },
   {
    "duration": 1872,
    "start_time": "2023-06-03T13:53:24.309Z"
   },
   {
    "duration": 5,
    "start_time": "2023-06-03T13:53:33.941Z"
   },
   {
    "duration": 57,
    "start_time": "2023-06-03T13:53:33.960Z"
   },
   {
    "duration": 20,
    "start_time": "2023-06-03T13:53:34.021Z"
   },
   {
    "duration": 294,
    "start_time": "2023-06-03T13:53:34.044Z"
   },
   {
    "duration": 80,
    "start_time": "2023-06-03T13:53:34.341Z"
   },
   {
    "duration": 19,
    "start_time": "2023-06-03T13:53:34.425Z"
   },
   {
    "duration": 386,
    "start_time": "2023-06-03T13:53:34.446Z"
   },
   {
    "duration": 292,
    "start_time": "2023-06-03T13:53:34.835Z"
   },
   {
    "duration": 41,
    "start_time": "2023-06-03T13:53:35.129Z"
   },
   {
    "duration": 30,
    "start_time": "2023-06-03T13:53:35.179Z"
   },
   {
    "duration": 14,
    "start_time": "2023-06-03T13:53:35.211Z"
   },
   {
    "duration": 13,
    "start_time": "2023-06-03T13:53:35.229Z"
   },
   {
    "duration": 26,
    "start_time": "2023-06-03T13:53:35.245Z"
   },
   {
    "duration": 26,
    "start_time": "2023-06-03T13:53:35.274Z"
   },
   {
    "duration": 28,
    "start_time": "2023-06-03T13:53:35.308Z"
   },
   {
    "duration": 9,
    "start_time": "2023-06-03T13:53:35.351Z"
   },
   {
    "duration": 7,
    "start_time": "2023-06-03T13:53:35.372Z"
   },
   {
    "duration": 26,
    "start_time": "2023-06-03T13:53:35.381Z"
   },
   {
    "duration": 261,
    "start_time": "2023-06-03T13:53:35.412Z"
   },
   {
    "duration": 114,
    "start_time": "2023-06-03T13:53:35.675Z"
   },
   {
    "duration": 134,
    "start_time": "2023-06-03T13:53:35.791Z"
   },
   {
    "duration": 184,
    "start_time": "2023-06-03T13:53:35.927Z"
   },
   {
    "duration": 21,
    "start_time": "2023-06-03T13:53:36.114Z"
   },
   {
    "duration": 210,
    "start_time": "2023-06-03T13:53:36.137Z"
   },
   {
    "duration": 17,
    "start_time": "2023-06-03T13:53:36.352Z"
   },
   {
    "duration": 58,
    "start_time": "2023-06-03T13:53:36.372Z"
   },
   {
    "duration": 35,
    "start_time": "2023-06-03T13:53:36.433Z"
   },
   {
    "duration": 11,
    "start_time": "2023-06-03T13:53:36.471Z"
   },
   {
    "duration": 26,
    "start_time": "2023-06-03T13:53:36.485Z"
   },
   {
    "duration": 8,
    "start_time": "2023-06-03T13:53:36.514Z"
   },
   {
    "duration": 38,
    "start_time": "2023-06-03T13:53:36.526Z"
   },
   {
    "duration": 522,
    "start_time": "2023-06-03T13:53:36.567Z"
   },
   {
    "duration": 412,
    "start_time": "2023-06-03T13:53:37.095Z"
   },
   {
    "duration": 420,
    "start_time": "2023-06-03T13:53:37.509Z"
   },
   {
    "duration": 662,
    "start_time": "2023-06-03T13:53:37.931Z"
   },
   {
    "duration": 63,
    "start_time": "2023-06-03T13:53:38.598Z"
   },
   {
    "duration": 34,
    "start_time": "2023-06-03T13:53:38.671Z"
   },
   {
    "duration": 13,
    "start_time": "2023-06-03T13:53:38.709Z"
   },
   {
    "duration": 8,
    "start_time": "2023-06-03T13:53:38.724Z"
   },
   {
    "duration": 41,
    "start_time": "2023-06-03T13:53:38.736Z"
   },
   {
    "duration": 4,
    "start_time": "2023-06-03T14:30:32.609Z"
   },
   {
    "duration": 39,
    "start_time": "2023-06-03T14:30:32.615Z"
   },
   {
    "duration": 23,
    "start_time": "2023-06-03T14:30:32.656Z"
   },
   {
    "duration": 207,
    "start_time": "2023-06-03T14:30:32.681Z"
   },
   {
    "duration": 43,
    "start_time": "2023-06-03T14:30:32.891Z"
   },
   {
    "duration": 28,
    "start_time": "2023-06-03T14:30:32.936Z"
   },
   {
    "duration": 180,
    "start_time": "2023-06-03T14:30:32.972Z"
   },
   {
    "duration": 199,
    "start_time": "2023-06-03T14:30:33.154Z"
   },
   {
    "duration": 29,
    "start_time": "2023-06-03T14:30:33.355Z"
   },
   {
    "duration": 11,
    "start_time": "2023-06-03T14:30:33.386Z"
   },
   {
    "duration": 19,
    "start_time": "2023-06-03T14:30:33.400Z"
   },
   {
    "duration": 17,
    "start_time": "2023-06-03T14:30:33.421Z"
   },
   {
    "duration": 17,
    "start_time": "2023-06-03T14:30:33.441Z"
   },
   {
    "duration": 23,
    "start_time": "2023-06-03T14:30:33.461Z"
   },
   {
    "duration": 16,
    "start_time": "2023-06-03T14:30:33.487Z"
   },
   {
    "duration": 6,
    "start_time": "2023-06-03T14:30:33.505Z"
   },
   {
    "duration": 5,
    "start_time": "2023-06-03T14:30:33.513Z"
   },
   {
    "duration": 9,
    "start_time": "2023-06-03T14:30:33.521Z"
   },
   {
    "duration": 218,
    "start_time": "2023-06-03T14:30:33.532Z"
   },
   {
    "duration": 119,
    "start_time": "2023-06-03T14:30:33.755Z"
   },
   {
    "duration": 159,
    "start_time": "2023-06-03T14:30:33.876Z"
   },
   {
    "duration": 152,
    "start_time": "2023-06-03T14:30:34.037Z"
   },
   {
    "duration": 16,
    "start_time": "2023-06-03T14:30:34.190Z"
   },
   {
    "duration": 157,
    "start_time": "2023-06-03T14:30:34.208Z"
   },
   {
    "duration": 17,
    "start_time": "2023-06-03T14:30:34.370Z"
   },
   {
    "duration": 40,
    "start_time": "2023-06-03T14:30:34.389Z"
   },
   {
    "duration": 44,
    "start_time": "2023-06-03T14:30:34.431Z"
   },
   {
    "duration": 9,
    "start_time": "2023-06-03T14:30:34.478Z"
   },
   {
    "duration": 19,
    "start_time": "2023-06-03T14:30:34.490Z"
   },
   {
    "duration": 6,
    "start_time": "2023-06-03T14:30:34.511Z"
   },
   {
    "duration": 43,
    "start_time": "2023-06-03T14:30:34.519Z"
   },
   {
    "duration": 290,
    "start_time": "2023-06-03T14:30:34.564Z"
   },
   {
    "duration": 282,
    "start_time": "2023-06-03T14:30:34.857Z"
   },
   {
    "duration": 416,
    "start_time": "2023-06-03T14:30:35.141Z"
   },
   {
    "duration": 319,
    "start_time": "2023-06-03T14:30:35.568Z"
   },
   {
    "duration": 34,
    "start_time": "2023-06-03T14:30:35.890Z"
   },
   {
    "duration": 49,
    "start_time": "2023-06-03T14:30:35.925Z"
   },
   {
    "duration": 8,
    "start_time": "2023-06-03T14:30:35.976Z"
   },
   {
    "duration": 10,
    "start_time": "2023-06-03T14:30:35.987Z"
   },
   {
    "duration": 16,
    "start_time": "2023-06-03T14:30:35.999Z"
   },
   {
    "duration": 1730,
    "start_time": "2023-06-03T14:32:05.709Z"
   },
   {
    "duration": 1808,
    "start_time": "2023-06-03T14:32:29.999Z"
   },
   {
    "duration": 211,
    "start_time": "2023-06-03T14:48:42.937Z"
   },
   {
    "duration": 3,
    "start_time": "2023-06-03T14:48:54.109Z"
   },
   {
    "duration": 113,
    "start_time": "2023-06-03T14:48:54.124Z"
   },
   {
    "duration": 10,
    "start_time": "2023-06-03T14:48:54.239Z"
   },
   {
    "duration": 202,
    "start_time": "2023-06-03T14:48:54.251Z"
   },
   {
    "duration": 188,
    "start_time": "2023-06-03T14:48:54.458Z"
   },
   {
    "duration": 26,
    "start_time": "2023-06-03T14:48:54.648Z"
   },
   {
    "duration": 216,
    "start_time": "2023-06-03T14:48:54.675Z"
   },
   {
    "duration": 188,
    "start_time": "2023-06-03T14:48:54.900Z"
   },
   {
    "duration": 70,
    "start_time": "2023-06-03T14:48:55.093Z"
   },
   {
    "duration": 14,
    "start_time": "2023-06-03T14:48:55.164Z"
   },
   {
    "duration": 16,
    "start_time": "2023-06-03T14:48:55.180Z"
   },
   {
    "duration": 6,
    "start_time": "2023-06-03T14:48:55.198Z"
   },
   {
    "duration": 10,
    "start_time": "2023-06-03T14:48:55.205Z"
   },
   {
    "duration": 8,
    "start_time": "2023-06-03T14:48:55.217Z"
   },
   {
    "duration": 34,
    "start_time": "2023-06-03T14:48:55.230Z"
   },
   {
    "duration": 9,
    "start_time": "2023-06-03T14:48:55.266Z"
   },
   {
    "duration": 14,
    "start_time": "2023-06-03T14:48:55.277Z"
   },
   {
    "duration": 7,
    "start_time": "2023-06-03T14:48:55.294Z"
   },
   {
    "duration": 214,
    "start_time": "2023-06-03T14:48:55.303Z"
   },
   {
    "duration": 119,
    "start_time": "2023-06-03T14:48:55.519Z"
   },
   {
    "duration": 153,
    "start_time": "2023-06-03T14:48:55.640Z"
   },
   {
    "duration": 391,
    "start_time": "2023-06-03T14:48:55.798Z"
   },
   {
    "duration": 18,
    "start_time": "2023-06-03T14:48:56.196Z"
   },
   {
    "duration": 129,
    "start_time": "2023-06-03T14:48:56.216Z"
   },
   {
    "duration": 29,
    "start_time": "2023-06-03T14:48:56.348Z"
   },
   {
    "duration": 31,
    "start_time": "2023-06-03T14:48:56.379Z"
   },
   {
    "duration": 13,
    "start_time": "2023-06-03T14:48:56.411Z"
   },
   {
    "duration": 6,
    "start_time": "2023-06-03T14:48:56.426Z"
   },
   {
    "duration": 27,
    "start_time": "2023-06-03T14:48:56.434Z"
   },
   {
    "duration": 13,
    "start_time": "2023-06-03T14:48:56.468Z"
   },
   {
    "duration": 17,
    "start_time": "2023-06-03T14:48:56.487Z"
   },
   {
    "duration": 323,
    "start_time": "2023-06-03T14:48:56.506Z"
   },
   {
    "duration": 302,
    "start_time": "2023-06-03T14:48:56.831Z"
   },
   {
    "duration": 304,
    "start_time": "2023-06-03T14:48:57.135Z"
   },
   {
    "duration": 322,
    "start_time": "2023-06-03T14:48:57.441Z"
   },
   {
    "duration": 40,
    "start_time": "2023-06-03T14:48:57.767Z"
   },
   {
    "duration": 18,
    "start_time": "2023-06-03T14:48:57.809Z"
   },
   {
    "duration": 6,
    "start_time": "2023-06-03T14:48:57.829Z"
   },
   {
    "duration": 11,
    "start_time": "2023-06-03T14:48:57.856Z"
   },
   {
    "duration": 18,
    "start_time": "2023-06-03T14:48:57.876Z"
   },
   {
    "duration": 196,
    "start_time": "2023-06-03T14:48:57.898Z"
   },
   {
    "duration": 77,
    "start_time": "2023-06-03T14:49:31.912Z"
   },
   {
    "duration": 1774,
    "start_time": "2023-06-03T14:49:37.425Z"
   },
   {
    "duration": 56,
    "start_time": "2023-06-03T14:49:48.177Z"
   },
   {
    "duration": 54,
    "start_time": "2023-06-03T14:49:55.914Z"
   },
   {
    "duration": 49,
    "start_time": "2023-06-03T14:50:06.320Z"
   },
   {
    "duration": 1917,
    "start_time": "2023-06-03T14:50:12.625Z"
   },
   {
    "duration": 1905,
    "start_time": "2023-06-03T14:50:25.240Z"
   },
   {
    "duration": 64,
    "start_time": "2023-06-03T14:50:38.633Z"
   },
   {
    "duration": 2008,
    "start_time": "2023-06-03T14:50:46.478Z"
   },
   {
    "duration": 256,
    "start_time": "2023-06-03T15:23:40.512Z"
   },
   {
    "duration": 1849,
    "start_time": "2023-06-03T15:24:52.840Z"
   },
   {
    "duration": 1867,
    "start_time": "2023-06-03T15:41:15.884Z"
   },
   {
    "duration": 2017,
    "start_time": "2023-06-03T15:41:58.380Z"
   },
   {
    "duration": 1876,
    "start_time": "2023-06-03T15:42:22.114Z"
   },
   {
    "duration": 41,
    "start_time": "2023-06-03T16:07:12.392Z"
   },
   {
    "duration": 1630,
    "start_time": "2023-06-03T16:07:44.247Z"
   },
   {
    "duration": 5,
    "start_time": "2023-06-03T16:46:32.653Z"
   },
   {
    "duration": 7,
    "start_time": "2023-06-03T16:48:19.870Z"
   },
   {
    "duration": 1404,
    "start_time": "2023-06-04T05:47:45.301Z"
   },
   {
    "duration": 85,
    "start_time": "2023-06-04T05:47:46.707Z"
   },
   {
    "duration": 12,
    "start_time": "2023-06-04T05:47:46.793Z"
   },
   {
    "duration": 199,
    "start_time": "2023-06-04T05:47:46.807Z"
   },
   {
    "duration": 75,
    "start_time": "2023-06-04T05:47:47.008Z"
   },
   {
    "duration": 12,
    "start_time": "2023-06-04T05:47:47.085Z"
   },
   {
    "duration": 177,
    "start_time": "2023-06-04T05:47:47.099Z"
   },
   {
    "duration": 195,
    "start_time": "2023-06-04T05:47:47.277Z"
   },
   {
    "duration": 60,
    "start_time": "2023-06-04T05:47:47.474Z"
   },
   {
    "duration": 28,
    "start_time": "2023-06-04T05:47:47.537Z"
   },
   {
    "duration": 15,
    "start_time": "2023-06-04T05:47:47.567Z"
   },
   {
    "duration": 14,
    "start_time": "2023-06-04T05:47:47.585Z"
   },
   {
    "duration": 14,
    "start_time": "2023-06-04T05:47:47.601Z"
   },
   {
    "duration": 14,
    "start_time": "2023-06-04T05:47:47.617Z"
   },
   {
    "duration": 9,
    "start_time": "2023-06-04T05:47:47.633Z"
   },
   {
    "duration": 5,
    "start_time": "2023-06-04T05:47:47.644Z"
   },
   {
    "duration": 11,
    "start_time": "2023-06-04T05:47:47.651Z"
   },
   {
    "duration": 10,
    "start_time": "2023-06-04T05:47:47.663Z"
   },
   {
    "duration": 199,
    "start_time": "2023-06-04T05:47:47.674Z"
   },
   {
    "duration": 100,
    "start_time": "2023-06-04T05:47:47.875Z"
   },
   {
    "duration": 125,
    "start_time": "2023-06-04T05:47:47.977Z"
   },
   {
    "duration": 154,
    "start_time": "2023-06-04T05:47:48.104Z"
   },
   {
    "duration": 19,
    "start_time": "2023-06-04T05:47:48.260Z"
   },
   {
    "duration": 170,
    "start_time": "2023-06-04T05:47:48.281Z"
   },
   {
    "duration": 11,
    "start_time": "2023-06-04T05:47:48.453Z"
   },
   {
    "duration": 28,
    "start_time": "2023-06-04T05:47:48.466Z"
   },
   {
    "duration": 15,
    "start_time": "2023-06-04T05:47:48.497Z"
   },
   {
    "duration": 31,
    "start_time": "2023-06-04T05:47:48.515Z"
   },
   {
    "duration": 13,
    "start_time": "2023-06-04T05:47:48.548Z"
   },
   {
    "duration": 9,
    "start_time": "2023-06-04T05:47:48.563Z"
   },
   {
    "duration": 21,
    "start_time": "2023-06-04T05:47:48.573Z"
   },
   {
    "duration": 304,
    "start_time": "2023-06-04T05:47:48.596Z"
   },
   {
    "duration": 379,
    "start_time": "2023-06-04T05:47:48.901Z"
   },
   {
    "duration": 284,
    "start_time": "2023-06-04T05:47:49.283Z"
   },
   {
    "duration": 288,
    "start_time": "2023-06-04T05:47:49.568Z"
   },
   {
    "duration": 31,
    "start_time": "2023-06-04T05:47:49.858Z"
   },
   {
    "duration": 17,
    "start_time": "2023-06-04T05:47:49.891Z"
   },
   {
    "duration": 6,
    "start_time": "2023-06-04T05:47:49.910Z"
   },
   {
    "duration": 6,
    "start_time": "2023-06-04T05:47:49.943Z"
   },
   {
    "duration": 22,
    "start_time": "2023-06-04T05:47:49.951Z"
   },
   {
    "duration": 1542,
    "start_time": "2023-06-04T05:47:49.975Z"
   },
   {
    "duration": 103,
    "start_time": "2023-06-04T05:47:51.519Z"
   },
   {
    "duration": 4,
    "start_time": "2023-06-04T05:49:02.423Z"
   },
   {
    "duration": 54,
    "start_time": "2023-06-04T05:49:02.429Z"
   },
   {
    "duration": 11,
    "start_time": "2023-06-04T05:49:02.485Z"
   },
   {
    "duration": 174,
    "start_time": "2023-06-04T05:49:02.499Z"
   },
   {
    "duration": 31,
    "start_time": "2023-06-04T05:49:02.675Z"
   },
   {
    "duration": 11,
    "start_time": "2023-06-04T05:49:02.708Z"
   },
   {
    "duration": 180,
    "start_time": "2023-06-04T05:49:02.721Z"
   },
   {
    "duration": 181,
    "start_time": "2023-06-04T05:49:02.903Z"
   },
   {
    "duration": 20,
    "start_time": "2023-06-04T05:49:03.087Z"
   },
   {
    "duration": 10,
    "start_time": "2023-06-04T05:49:03.110Z"
   },
   {
    "duration": 21,
    "start_time": "2023-06-04T05:49:03.122Z"
   },
   {
    "duration": 12,
    "start_time": "2023-06-04T05:49:03.145Z"
   },
   {
    "duration": 15,
    "start_time": "2023-06-04T05:49:03.159Z"
   },
   {
    "duration": 36,
    "start_time": "2023-06-04T05:49:03.176Z"
   },
   {
    "duration": 17,
    "start_time": "2023-06-04T05:49:03.214Z"
   },
   {
    "duration": 20,
    "start_time": "2023-06-04T05:49:03.234Z"
   },
   {
    "duration": 42,
    "start_time": "2023-06-04T05:49:03.256Z"
   },
   {
    "duration": 49,
    "start_time": "2023-06-04T05:49:03.300Z"
   },
   {
    "duration": 237,
    "start_time": "2023-06-04T05:49:03.350Z"
   },
   {
    "duration": 102,
    "start_time": "2023-06-04T05:49:03.589Z"
   },
   {
    "duration": 113,
    "start_time": "2023-06-04T05:49:03.692Z"
   },
   {
    "duration": 296,
    "start_time": "2023-06-04T05:49:03.807Z"
   },
   {
    "duration": 15,
    "start_time": "2023-06-04T05:49:04.105Z"
   },
   {
    "duration": 147,
    "start_time": "2023-06-04T05:49:04.142Z"
   },
   {
    "duration": 10,
    "start_time": "2023-06-04T05:49:04.290Z"
   },
   {
    "duration": 41,
    "start_time": "2023-06-04T05:49:04.302Z"
   },
   {
    "duration": 13,
    "start_time": "2023-06-04T05:49:04.345Z"
   },
   {
    "duration": 18,
    "start_time": "2023-06-04T05:49:04.360Z"
   },
   {
    "duration": 18,
    "start_time": "2023-06-04T05:49:04.380Z"
   },
   {
    "duration": 30,
    "start_time": "2023-06-04T05:49:04.400Z"
   },
   {
    "duration": 22,
    "start_time": "2023-06-04T05:49:04.432Z"
   },
   {
    "duration": 281,
    "start_time": "2023-06-04T05:49:04.456Z"
   },
   {
    "duration": 259,
    "start_time": "2023-06-04T05:49:04.741Z"
   },
   {
    "duration": 297,
    "start_time": "2023-06-04T05:49:05.001Z"
   },
   {
    "duration": 321,
    "start_time": "2023-06-04T05:49:05.300Z"
   },
   {
    "duration": 44,
    "start_time": "2023-06-04T05:49:05.623Z"
   },
   {
    "duration": 19,
    "start_time": "2023-06-04T05:49:05.669Z"
   },
   {
    "duration": 22,
    "start_time": "2023-06-04T05:49:05.689Z"
   },
   {
    "duration": 60,
    "start_time": "2023-06-04T05:49:05.713Z"
   },
   {
    "duration": 56,
    "start_time": "2023-06-04T05:49:05.775Z"
   },
   {
    "duration": 1543,
    "start_time": "2023-06-04T05:49:05.833Z"
   },
   {
    "duration": 6,
    "start_time": "2023-06-04T05:49:07.378Z"
   },
   {
    "duration": 3,
    "start_time": "2023-06-04T06:12:28.812Z"
   },
   {
    "duration": 7,
    "start_time": "2023-06-04T06:16:48.689Z"
   },
   {
    "duration": 1387,
    "start_time": "2023-06-04T06:20:49.709Z"
   },
   {
    "duration": 38,
    "start_time": "2023-06-04T06:20:51.098Z"
   },
   {
    "duration": 26,
    "start_time": "2023-06-04T06:20:51.138Z"
   },
   {
    "duration": 215,
    "start_time": "2023-06-04T06:20:51.167Z"
   },
   {
    "duration": 40,
    "start_time": "2023-06-04T06:20:51.385Z"
   },
   {
    "duration": 21,
    "start_time": "2023-06-04T06:20:51.427Z"
   },
   {
    "duration": 214,
    "start_time": "2023-06-04T06:20:51.450Z"
   },
   {
    "duration": 205,
    "start_time": "2023-06-04T06:20:51.666Z"
   },
   {
    "duration": 24,
    "start_time": "2023-06-04T06:20:51.873Z"
   },
   {
    "duration": 30,
    "start_time": "2023-06-04T06:20:51.900Z"
   },
   {
    "duration": 17,
    "start_time": "2023-06-04T06:20:51.932Z"
   },
   {
    "duration": 17,
    "start_time": "2023-06-04T06:20:51.952Z"
   },
   {
    "duration": 14,
    "start_time": "2023-06-04T06:20:51.971Z"
   },
   {
    "duration": 20,
    "start_time": "2023-06-04T06:20:51.987Z"
   },
   {
    "duration": 12,
    "start_time": "2023-06-04T06:20:52.009Z"
   },
   {
    "duration": 6,
    "start_time": "2023-06-04T06:20:52.023Z"
   },
   {
    "duration": 14,
    "start_time": "2023-06-04T06:20:52.031Z"
   },
   {
    "duration": 31,
    "start_time": "2023-06-04T06:20:52.048Z"
   },
   {
    "duration": 266,
    "start_time": "2023-06-04T06:20:52.083Z"
   },
   {
    "duration": 130,
    "start_time": "2023-06-04T06:20:52.351Z"
   },
   {
    "duration": 171,
    "start_time": "2023-06-04T06:20:52.484Z"
   },
   {
    "duration": 153,
    "start_time": "2023-06-04T06:20:52.657Z"
   },
   {
    "duration": 50,
    "start_time": "2023-06-04T06:20:52.813Z"
   },
   {
    "duration": 146,
    "start_time": "2023-06-04T06:20:52.866Z"
   },
   {
    "duration": 31,
    "start_time": "2023-06-04T06:20:53.014Z"
   },
   {
    "duration": 31,
    "start_time": "2023-06-04T06:20:53.048Z"
   },
   {
    "duration": 16,
    "start_time": "2023-06-04T06:20:53.081Z"
   },
   {
    "duration": 26,
    "start_time": "2023-06-04T06:20:53.101Z"
   },
   {
    "duration": 28,
    "start_time": "2023-06-04T06:20:53.129Z"
   },
   {
    "duration": 20,
    "start_time": "2023-06-04T06:20:53.159Z"
   },
   {
    "duration": 30,
    "start_time": "2023-06-04T06:20:53.183Z"
   },
   {
    "duration": 321,
    "start_time": "2023-06-04T06:20:53.215Z"
   },
   {
    "duration": 400,
    "start_time": "2023-06-04T06:20:53.542Z"
   },
   {
    "duration": 377,
    "start_time": "2023-06-04T06:20:53.944Z"
   },
   {
    "duration": 332,
    "start_time": "2023-06-04T06:20:54.323Z"
   },
   {
    "duration": 36,
    "start_time": "2023-06-04T06:20:54.657Z"
   },
   {
    "duration": 23,
    "start_time": "2023-06-04T06:20:54.694Z"
   },
   {
    "duration": 6,
    "start_time": "2023-06-04T06:20:54.719Z"
   },
   {
    "duration": 35,
    "start_time": "2023-06-04T06:20:54.727Z"
   },
   {
    "duration": 10,
    "start_time": "2023-06-04T06:20:54.766Z"
   },
   {
    "duration": 1710,
    "start_time": "2023-06-04T06:20:54.778Z"
   },
   {
    "duration": 6,
    "start_time": "2023-06-04T06:20:56.491Z"
   },
   {
    "duration": 9,
    "start_time": "2023-06-04T06:20:56.499Z"
   },
   {
    "duration": 1186,
    "start_time": "2023-06-04T06:27:35.346Z"
   },
   {
    "duration": 39,
    "start_time": "2023-06-04T06:27:36.534Z"
   },
   {
    "duration": 13,
    "start_time": "2023-06-04T06:27:36.575Z"
   },
   {
    "duration": 192,
    "start_time": "2023-06-04T06:27:36.591Z"
   },
   {
    "duration": 33,
    "start_time": "2023-06-04T06:27:36.785Z"
   },
   {
    "duration": 23,
    "start_time": "2023-06-04T06:27:36.820Z"
   },
   {
    "duration": 186,
    "start_time": "2023-06-04T06:27:36.845Z"
   },
   {
    "duration": 179,
    "start_time": "2023-06-04T06:27:37.033Z"
   },
   {
    "duration": 22,
    "start_time": "2023-06-04T06:27:37.213Z"
   },
   {
    "duration": 11,
    "start_time": "2023-06-04T06:27:37.242Z"
   },
   {
    "duration": 29,
    "start_time": "2023-06-04T06:27:37.255Z"
   },
   {
    "duration": 169,
    "start_time": "2023-06-04T06:27:37.286Z"
   },
   {
    "duration": 437,
    "start_time": "2023-06-04T06:27:37.457Z"
   },
   {
    "duration": 7,
    "start_time": "2023-06-04T06:27:37.896Z"
   },
   {
    "duration": 9,
    "start_time": "2023-06-04T06:27:37.905Z"
   },
   {
    "duration": 7,
    "start_time": "2023-06-04T06:27:37.916Z"
   },
   {
    "duration": 11,
    "start_time": "2023-06-04T06:27:37.924Z"
   },
   {
    "duration": 21,
    "start_time": "2023-06-04T06:27:37.937Z"
   },
   {
    "duration": 215,
    "start_time": "2023-06-04T06:27:37.960Z"
   },
   {
    "duration": 141,
    "start_time": "2023-06-04T06:27:38.177Z"
   },
   {
    "duration": 173,
    "start_time": "2023-06-04T06:27:38.321Z"
   },
   {
    "duration": 145,
    "start_time": "2023-06-04T06:27:38.497Z"
   },
   {
    "duration": 17,
    "start_time": "2023-06-04T06:27:38.643Z"
   },
   {
    "duration": 148,
    "start_time": "2023-06-04T06:27:38.662Z"
   },
   {
    "duration": 10,
    "start_time": "2023-06-04T06:27:38.812Z"
   },
   {
    "duration": 41,
    "start_time": "2023-06-04T06:27:38.824Z"
   },
   {
    "duration": 14,
    "start_time": "2023-06-04T06:27:38.867Z"
   },
   {
    "duration": 7,
    "start_time": "2023-06-04T06:27:38.884Z"
   },
   {
    "duration": 14,
    "start_time": "2023-06-04T06:27:38.893Z"
   },
   {
    "duration": 6,
    "start_time": "2023-06-04T06:27:38.942Z"
   },
   {
    "duration": 19,
    "start_time": "2023-06-04T06:27:38.950Z"
   },
   {
    "duration": 338,
    "start_time": "2023-06-04T06:27:38.970Z"
   },
   {
    "duration": 371,
    "start_time": "2023-06-04T06:27:39.309Z"
   },
   {
    "duration": 295,
    "start_time": "2023-06-04T06:27:39.682Z"
   },
   {
    "duration": 316,
    "start_time": "2023-06-04T06:27:39.979Z"
   },
   {
    "duration": 33,
    "start_time": "2023-06-04T06:27:40.297Z"
   },
   {
    "duration": 21,
    "start_time": "2023-06-04T06:27:40.342Z"
   },
   {
    "duration": 8,
    "start_time": "2023-06-04T06:27:40.365Z"
   },
   {
    "duration": 19,
    "start_time": "2023-06-04T06:27:40.375Z"
   },
   {
    "duration": 23,
    "start_time": "2023-06-04T06:27:40.397Z"
   },
   {
    "duration": 1542,
    "start_time": "2023-06-04T06:27:40.423Z"
   },
   {
    "duration": 6,
    "start_time": "2023-06-04T06:27:41.967Z"
   },
   {
    "duration": 43621,
    "start_time": "2023-06-04T06:27:41.975Z"
   },
   {
    "duration": 6,
    "start_time": "2023-06-04T06:28:25.598Z"
   },
   {
    "duration": 22246,
    "start_time": "2023-06-04T06:31:11.641Z"
   },
   {
    "duration": 21832,
    "start_time": "2023-06-04T06:36:03.934Z"
   },
   {
    "duration": 21494,
    "start_time": "2023-06-04T06:36:54.055Z"
   },
   {
    "duration": 21788,
    "start_time": "2023-06-04T06:37:40.181Z"
   },
   {
    "duration": 79,
    "start_time": "2023-06-04T06:42:19.424Z"
   },
   {
    "duration": 239,
    "start_time": "2023-06-04T06:42:58.922Z"
   },
   {
    "duration": 143,
    "start_time": "2023-06-04T06:43:21.367Z"
   },
   {
    "duration": 132,
    "start_time": "2023-06-04T06:44:14.561Z"
   },
   {
    "duration": 121,
    "start_time": "2023-06-04T06:45:07.574Z"
   },
   {
    "duration": 20489,
    "start_time": "2023-06-04T06:46:23.138Z"
   },
   {
    "duration": 44437,
    "start_time": "2023-06-04T06:47:37.542Z"
   },
   {
    "duration": 42370,
    "start_time": "2023-06-04T06:49:03.846Z"
   },
   {
    "duration": 132,
    "start_time": "2023-06-04T06:50:35.445Z"
   },
   {
    "duration": 138,
    "start_time": "2023-06-04T06:58:19.449Z"
   },
   {
    "duration": 148,
    "start_time": "2023-06-04T06:59:25.469Z"
   },
   {
    "duration": 44732,
    "start_time": "2023-06-04T07:01:04.162Z"
   },
   {
    "duration": 185,
    "start_time": "2023-06-04T07:43:20.354Z"
   },
   {
    "duration": 182,
    "start_time": "2023-06-04T07:44:10.197Z"
   },
   {
    "duration": 67,
    "start_time": "2023-06-04T07:53:14.640Z"
   },
   {
    "duration": 49,
    "start_time": "2023-06-04T07:54:56.781Z"
   },
   {
    "duration": 49,
    "start_time": "2023-06-04T07:55:05.840Z"
   },
   {
    "duration": 5,
    "start_time": "2023-06-04T07:55:40.120Z"
   },
   {
    "duration": 5,
    "start_time": "2023-06-04T07:56:21.969Z"
   },
   {
    "duration": 5,
    "start_time": "2023-06-04T07:56:30.467Z"
   },
   {
    "duration": 6,
    "start_time": "2023-06-04T07:56:48.834Z"
   },
   {
    "duration": 5,
    "start_time": "2023-06-04T07:57:11.745Z"
   },
   {
    "duration": 6,
    "start_time": "2023-06-04T07:57:17.251Z"
   },
   {
    "duration": 176,
    "start_time": "2023-06-04T07:58:36.230Z"
   },
   {
    "duration": 5,
    "start_time": "2023-06-04T07:59:54.788Z"
   },
   {
    "duration": 7,
    "start_time": "2023-06-04T08:00:29.779Z"
   },
   {
    "duration": 6,
    "start_time": "2023-06-04T08:01:03.563Z"
   },
   {
    "duration": 6,
    "start_time": "2023-06-04T08:01:09.787Z"
   },
   {
    "duration": 5,
    "start_time": "2023-06-04T08:01:22.648Z"
   },
   {
    "duration": 6,
    "start_time": "2023-06-04T08:01:58.349Z"
   },
   {
    "duration": 4,
    "start_time": "2023-06-04T08:18:20.995Z"
   },
   {
    "duration": 40,
    "start_time": "2023-06-04T08:18:21.001Z"
   },
   {
    "duration": 11,
    "start_time": "2023-06-04T08:18:21.043Z"
   },
   {
    "duration": 172,
    "start_time": "2023-06-04T08:18:21.057Z"
   },
   {
    "duration": 34,
    "start_time": "2023-06-04T08:18:21.231Z"
   },
   {
    "duration": 12,
    "start_time": "2023-06-04T08:18:21.266Z"
   },
   {
    "duration": 187,
    "start_time": "2023-06-04T08:18:21.280Z"
   },
   {
    "duration": 469,
    "start_time": "2023-06-04T08:18:21.469Z"
   },
   {
    "duration": 20,
    "start_time": "2023-06-04T08:18:21.941Z"
   },
   {
    "duration": 9,
    "start_time": "2023-06-04T08:18:21.963Z"
   },
   {
    "duration": 10,
    "start_time": "2023-06-04T08:18:21.974Z"
   },
   {
    "duration": 4,
    "start_time": "2023-06-04T08:18:21.986Z"
   },
   {
    "duration": 10,
    "start_time": "2023-06-04T08:18:21.992Z"
   },
   {
    "duration": 7,
    "start_time": "2023-06-04T08:18:22.004Z"
   },
   {
    "duration": 10,
    "start_time": "2023-06-04T08:18:22.012Z"
   },
   {
    "duration": 5,
    "start_time": "2023-06-04T08:18:22.042Z"
   },
   {
    "duration": 6,
    "start_time": "2023-06-04T08:18:22.049Z"
   },
   {
    "duration": 7,
    "start_time": "2023-06-04T08:18:22.056Z"
   },
   {
    "duration": 201,
    "start_time": "2023-06-04T08:18:22.064Z"
   },
   {
    "duration": 98,
    "start_time": "2023-06-04T08:18:22.266Z"
   },
   {
    "duration": 108,
    "start_time": "2023-06-04T08:18:22.365Z"
   },
   {
    "duration": 121,
    "start_time": "2023-06-04T08:18:22.474Z"
   },
   {
    "duration": 13,
    "start_time": "2023-06-04T08:18:22.597Z"
   },
   {
    "duration": 133,
    "start_time": "2023-06-04T08:18:22.613Z"
   },
   {
    "duration": 9,
    "start_time": "2023-06-04T08:18:22.748Z"
   },
   {
    "duration": 26,
    "start_time": "2023-06-04T08:18:22.758Z"
   },
   {
    "duration": 14,
    "start_time": "2023-06-04T08:18:22.785Z"
   },
   {
    "duration": 7,
    "start_time": "2023-06-04T08:18:22.800Z"
   },
   {
    "duration": 41,
    "start_time": "2023-06-04T08:18:22.809Z"
   },
   {
    "duration": 5,
    "start_time": "2023-06-04T08:18:22.852Z"
   },
   {
    "duration": 13,
    "start_time": "2023-06-04T08:18:22.859Z"
   },
   {
    "duration": 279,
    "start_time": "2023-06-04T08:18:22.874Z"
   },
   {
    "duration": 241,
    "start_time": "2023-06-04T08:18:23.154Z"
   },
   {
    "duration": 263,
    "start_time": "2023-06-04T08:18:23.397Z"
   },
   {
    "duration": 282,
    "start_time": "2023-06-04T08:18:23.662Z"
   },
   {
    "duration": 30,
    "start_time": "2023-06-04T08:18:23.945Z"
   },
   {
    "duration": 18,
    "start_time": "2023-06-04T08:18:23.976Z"
   },
   {
    "duration": 5,
    "start_time": "2023-06-04T08:18:23.995Z"
   },
   {
    "duration": 15,
    "start_time": "2023-06-04T08:18:24.002Z"
   },
   {
    "duration": 30,
    "start_time": "2023-06-04T08:18:24.019Z"
   },
   {
    "duration": 1581,
    "start_time": "2023-06-04T08:18:24.051Z"
   },
   {
    "duration": 10,
    "start_time": "2023-06-04T08:18:25.634Z"
   },
   {
    "duration": 196,
    "start_time": "2023-06-04T08:18:25.646Z"
   },
   {
    "duration": 5,
    "start_time": "2023-06-04T08:18:25.843Z"
   },
   {
    "duration": 3063,
    "start_time": "2023-06-04T08:20:01.607Z"
   },
   {
    "duration": 4,
    "start_time": "2023-06-04T08:21:00.420Z"
   },
   {
    "duration": 92,
    "start_time": "2023-06-04T08:21:00.428Z"
   },
   {
    "duration": 11,
    "start_time": "2023-06-04T08:21:00.522Z"
   },
   {
    "duration": 170,
    "start_time": "2023-06-04T08:21:00.534Z"
   },
   {
    "duration": 31,
    "start_time": "2023-06-04T08:21:00.706Z"
   },
   {
    "duration": 12,
    "start_time": "2023-06-04T08:21:00.739Z"
   },
   {
    "duration": 171,
    "start_time": "2023-06-04T08:21:00.753Z"
   },
   {
    "duration": 156,
    "start_time": "2023-06-04T08:21:00.926Z"
   },
   {
    "duration": 22,
    "start_time": "2023-06-04T08:21:01.084Z"
   },
   {
    "duration": 37,
    "start_time": "2023-06-04T08:21:01.107Z"
   },
   {
    "duration": 38,
    "start_time": "2023-06-04T08:21:01.146Z"
   },
   {
    "duration": 56,
    "start_time": "2023-06-04T08:21:01.186Z"
   },
   {
    "duration": 39,
    "start_time": "2023-06-04T08:21:01.244Z"
   },
   {
    "duration": 21,
    "start_time": "2023-06-04T08:21:01.285Z"
   },
   {
    "duration": 31,
    "start_time": "2023-06-04T08:21:01.308Z"
   },
   {
    "duration": 30,
    "start_time": "2023-06-04T08:21:01.340Z"
   },
   {
    "duration": 29,
    "start_time": "2023-06-04T08:21:01.372Z"
   },
   {
    "duration": 29,
    "start_time": "2023-06-04T08:21:01.403Z"
   },
   {
    "duration": 202,
    "start_time": "2023-06-04T08:21:01.433Z"
   },
   {
    "duration": 103,
    "start_time": "2023-06-04T08:21:01.642Z"
   },
   {
    "duration": 120,
    "start_time": "2023-06-04T08:21:01.748Z"
   },
   {
    "duration": 122,
    "start_time": "2023-06-04T08:21:01.870Z"
   },
   {
    "duration": 14,
    "start_time": "2023-06-04T08:21:01.994Z"
   },
   {
    "duration": 137,
    "start_time": "2023-06-04T08:21:02.010Z"
   },
   {
    "duration": 11,
    "start_time": "2023-06-04T08:21:02.148Z"
   },
   {
    "duration": 50,
    "start_time": "2023-06-04T08:21:02.161Z"
   },
   {
    "duration": 14,
    "start_time": "2023-06-04T08:21:02.213Z"
   },
   {
    "duration": 13,
    "start_time": "2023-06-04T08:21:02.229Z"
   },
   {
    "duration": 13,
    "start_time": "2023-06-04T08:21:02.246Z"
   },
   {
    "duration": 35,
    "start_time": "2023-06-04T08:21:02.261Z"
   },
   {
    "duration": 27,
    "start_time": "2023-06-04T08:21:02.298Z"
   },
   {
    "duration": 268,
    "start_time": "2023-06-04T08:21:02.327Z"
   },
   {
    "duration": 472,
    "start_time": "2023-06-04T08:21:02.597Z"
   },
   {
    "duration": 273,
    "start_time": "2023-06-04T08:21:03.071Z"
   },
   {
    "duration": 295,
    "start_time": "2023-06-04T08:21:03.346Z"
   },
   {
    "duration": 31,
    "start_time": "2023-06-04T08:21:03.643Z"
   },
   {
    "duration": 19,
    "start_time": "2023-06-04T08:21:03.676Z"
   },
   {
    "duration": 10,
    "start_time": "2023-06-04T08:21:03.696Z"
   },
   {
    "duration": 35,
    "start_time": "2023-06-04T08:21:03.707Z"
   },
   {
    "duration": 16,
    "start_time": "2023-06-04T08:21:03.743Z"
   },
   {
    "duration": 1581,
    "start_time": "2023-06-04T08:21:03.761Z"
   },
   {
    "duration": 6,
    "start_time": "2023-06-04T08:21:05.344Z"
   },
   {
    "duration": 408,
    "start_time": "2023-06-04T08:21:05.352Z"
   },
   {
    "duration": 6,
    "start_time": "2023-06-04T08:21:05.761Z"
   },
   {
    "duration": 3,
    "start_time": "2023-06-04T08:21:27.897Z"
   },
   {
    "duration": 86,
    "start_time": "2023-06-04T08:21:27.902Z"
   },
   {
    "duration": 14,
    "start_time": "2023-06-04T08:21:27.990Z"
   },
   {
    "duration": 151,
    "start_time": "2023-06-04T08:21:28.006Z"
   },
   {
    "duration": 31,
    "start_time": "2023-06-04T08:21:28.160Z"
   },
   {
    "duration": 12,
    "start_time": "2023-06-04T08:21:28.193Z"
   },
   {
    "duration": 190,
    "start_time": "2023-06-04T08:21:28.207Z"
   },
   {
    "duration": 149,
    "start_time": "2023-06-04T08:21:28.400Z"
   },
   {
    "duration": 20,
    "start_time": "2023-06-04T08:21:28.550Z"
   },
   {
    "duration": 10,
    "start_time": "2023-06-04T08:21:28.572Z"
   },
   {
    "duration": 7,
    "start_time": "2023-06-04T08:21:28.585Z"
   },
   {
    "duration": 7,
    "start_time": "2023-06-04T08:21:28.594Z"
   },
   {
    "duration": 9,
    "start_time": "2023-06-04T08:21:28.603Z"
   },
   {
    "duration": 8,
    "start_time": "2023-06-04T08:21:28.613Z"
   },
   {
    "duration": 8,
    "start_time": "2023-06-04T08:21:28.642Z"
   },
   {
    "duration": 5,
    "start_time": "2023-06-04T08:21:28.652Z"
   },
   {
    "duration": 8,
    "start_time": "2023-06-04T08:21:28.659Z"
   },
   {
    "duration": 16,
    "start_time": "2023-06-04T08:21:28.668Z"
   },
   {
    "duration": 191,
    "start_time": "2023-06-04T08:21:28.685Z"
   },
   {
    "duration": 102,
    "start_time": "2023-06-04T08:21:28.877Z"
   },
   {
    "duration": 279,
    "start_time": "2023-06-04T08:21:28.980Z"
   },
   {
    "duration": 128,
    "start_time": "2023-06-04T08:21:29.262Z"
   },
   {
    "duration": 15,
    "start_time": "2023-06-04T08:21:29.391Z"
   },
   {
    "duration": 134,
    "start_time": "2023-06-04T08:21:29.408Z"
   },
   {
    "duration": 9,
    "start_time": "2023-06-04T08:21:29.544Z"
   },
   {
    "duration": 22,
    "start_time": "2023-06-04T08:21:29.555Z"
   },
   {
    "duration": 13,
    "start_time": "2023-06-04T08:21:29.578Z"
   },
   {
    "duration": 6,
    "start_time": "2023-06-04T08:21:29.592Z"
   },
   {
    "duration": 42,
    "start_time": "2023-06-04T08:21:29.602Z"
   },
   {
    "duration": 5,
    "start_time": "2023-06-04T08:21:29.646Z"
   },
   {
    "duration": 16,
    "start_time": "2023-06-04T08:21:29.653Z"
   },
   {
    "duration": 278,
    "start_time": "2023-06-04T08:21:29.670Z"
   },
   {
    "duration": 260,
    "start_time": "2023-06-04T08:21:29.950Z"
   },
   {
    "duration": 277,
    "start_time": "2023-06-04T08:21:30.212Z"
   },
   {
    "duration": 299,
    "start_time": "2023-06-04T08:21:30.490Z"
   },
   {
    "duration": 31,
    "start_time": "2023-06-04T08:21:30.792Z"
   },
   {
    "duration": 38,
    "start_time": "2023-06-04T08:21:30.842Z"
   },
   {
    "duration": 25,
    "start_time": "2023-06-04T08:21:30.881Z"
   },
   {
    "duration": 54,
    "start_time": "2023-06-04T08:21:30.908Z"
   },
   {
    "duration": 50,
    "start_time": "2023-06-04T08:21:30.964Z"
   },
   {
    "duration": 2406,
    "start_time": "2023-06-04T08:21:31.016Z"
   },
   {
    "duration": 6,
    "start_time": "2023-06-04T08:21:33.424Z"
   },
   {
    "duration": 177,
    "start_time": "2023-06-04T08:21:33.432Z"
   },
   {
    "duration": 6,
    "start_time": "2023-06-04T08:21:33.611Z"
   },
   {
    "duration": 3,
    "start_time": "2023-06-04T08:22:15.262Z"
   },
   {
    "duration": 35,
    "start_time": "2023-06-04T08:22:15.267Z"
   },
   {
    "duration": 10,
    "start_time": "2023-06-04T08:22:15.304Z"
   },
   {
    "duration": 161,
    "start_time": "2023-06-04T08:22:15.316Z"
   },
   {
    "duration": 31,
    "start_time": "2023-06-04T08:22:15.479Z"
   },
   {
    "duration": 11,
    "start_time": "2023-06-04T08:22:15.512Z"
   },
   {
    "duration": 282,
    "start_time": "2023-06-04T08:22:15.524Z"
   },
   {
    "duration": 142,
    "start_time": "2023-06-04T08:22:15.808Z"
   },
   {
    "duration": 21,
    "start_time": "2023-06-04T08:22:15.953Z"
   },
   {
    "duration": 15,
    "start_time": "2023-06-04T08:22:15.976Z"
   },
   {
    "duration": 29,
    "start_time": "2023-06-04T08:22:15.992Z"
   },
   {
    "duration": 8,
    "start_time": "2023-06-04T08:22:16.023Z"
   },
   {
    "duration": 8,
    "start_time": "2023-06-04T08:22:16.033Z"
   },
   {
    "duration": 20,
    "start_time": "2023-06-04T08:22:16.043Z"
   },
   {
    "duration": 11,
    "start_time": "2023-06-04T08:22:16.064Z"
   },
   {
    "duration": 7,
    "start_time": "2023-06-04T08:22:16.076Z"
   },
   {
    "duration": 8,
    "start_time": "2023-06-04T08:22:16.085Z"
   },
   {
    "duration": 21,
    "start_time": "2023-06-04T08:22:16.094Z"
   },
   {
    "duration": 209,
    "start_time": "2023-06-04T08:22:16.117Z"
   },
   {
    "duration": 96,
    "start_time": "2023-06-04T08:22:16.328Z"
   },
   {
    "duration": 123,
    "start_time": "2023-06-04T08:22:16.426Z"
   },
   {
    "duration": 125,
    "start_time": "2023-06-04T08:22:16.551Z"
   },
   {
    "duration": 14,
    "start_time": "2023-06-04T08:22:16.677Z"
   },
   {
    "duration": 141,
    "start_time": "2023-06-04T08:22:16.694Z"
   },
   {
    "duration": 11,
    "start_time": "2023-06-04T08:22:16.842Z"
   },
   {
    "duration": 23,
    "start_time": "2023-06-04T08:22:16.854Z"
   },
   {
    "duration": 13,
    "start_time": "2023-06-04T08:22:16.879Z"
   },
   {
    "duration": 7,
    "start_time": "2023-06-04T08:22:16.894Z"
   },
   {
    "duration": 42,
    "start_time": "2023-06-04T08:22:16.903Z"
   },
   {
    "duration": 6,
    "start_time": "2023-06-04T08:22:16.947Z"
   },
   {
    "duration": 25,
    "start_time": "2023-06-04T08:22:16.954Z"
   },
   {
    "duration": 402,
    "start_time": "2023-06-04T08:22:16.980Z"
   },
   {
    "duration": 558,
    "start_time": "2023-06-04T08:22:17.384Z"
   },
   {
    "duration": 517,
    "start_time": "2023-06-04T08:22:17.944Z"
   },
   {
    "duration": 725,
    "start_time": "2023-06-04T08:22:18.463Z"
   },
   {
    "duration": 39,
    "start_time": "2023-06-04T08:22:19.190Z"
   },
   {
    "duration": 20,
    "start_time": "2023-06-04T08:22:19.242Z"
   },
   {
    "duration": 6,
    "start_time": "2023-06-04T08:22:19.265Z"
   },
   {
    "duration": 18,
    "start_time": "2023-06-04T08:22:19.273Z"
   },
   {
    "duration": 11,
    "start_time": "2023-06-04T08:22:19.293Z"
   },
   {
    "duration": 1551,
    "start_time": "2023-06-04T08:22:19.305Z"
   },
   {
    "duration": 6,
    "start_time": "2023-06-04T08:22:20.858Z"
   },
   {
    "duration": 213,
    "start_time": "2023-06-04T08:22:20.866Z"
   },
   {
    "duration": 6,
    "start_time": "2023-06-04T08:22:21.081Z"
   },
   {
    "duration": 4,
    "start_time": "2023-06-04T08:22:34.358Z"
   },
   {
    "duration": 43,
    "start_time": "2023-06-04T08:22:34.368Z"
   },
   {
    "duration": 11,
    "start_time": "2023-06-04T08:22:34.412Z"
   },
   {
    "duration": 161,
    "start_time": "2023-06-04T08:22:34.425Z"
   },
   {
    "duration": 32,
    "start_time": "2023-06-04T08:22:34.588Z"
   },
   {
    "duration": 25,
    "start_time": "2023-06-04T08:22:34.622Z"
   },
   {
    "duration": 161,
    "start_time": "2023-06-04T08:22:34.648Z"
   },
   {
    "duration": 155,
    "start_time": "2023-06-04T08:22:34.811Z"
   },
   {
    "duration": 20,
    "start_time": "2023-06-04T08:22:34.968Z"
   },
   {
    "duration": 11,
    "start_time": "2023-06-04T08:22:34.990Z"
   },
   {
    "duration": 14,
    "start_time": "2023-06-04T08:22:35.002Z"
   },
   {
    "duration": 13,
    "start_time": "2023-06-04T08:22:35.017Z"
   },
   {
    "duration": 22,
    "start_time": "2023-06-04T08:22:35.032Z"
   },
   {
    "duration": 24,
    "start_time": "2023-06-04T08:22:35.056Z"
   },
   {
    "duration": 9,
    "start_time": "2023-06-04T08:22:35.083Z"
   },
   {
    "duration": 6,
    "start_time": "2023-06-04T08:22:35.094Z"
   },
   {
    "duration": 29,
    "start_time": "2023-06-04T08:22:35.102Z"
   },
   {
    "duration": 10,
    "start_time": "2023-06-04T08:22:35.133Z"
   },
   {
    "duration": 202,
    "start_time": "2023-06-04T08:22:35.144Z"
   },
   {
    "duration": 101,
    "start_time": "2023-06-04T08:22:35.347Z"
   },
   {
    "duration": 116,
    "start_time": "2023-06-04T08:22:35.450Z"
   },
   {
    "duration": 123,
    "start_time": "2023-06-04T08:22:35.568Z"
   },
   {
    "duration": 13,
    "start_time": "2023-06-04T08:22:35.693Z"
   },
   {
    "duration": 135,
    "start_time": "2023-06-04T08:22:35.708Z"
   },
   {
    "duration": 11,
    "start_time": "2023-06-04T08:22:35.845Z"
   },
   {
    "duration": 59,
    "start_time": "2023-06-04T08:22:35.857Z"
   },
   {
    "duration": 30,
    "start_time": "2023-06-04T08:22:35.918Z"
   },
   {
    "duration": 14,
    "start_time": "2023-06-04T08:22:35.950Z"
   },
   {
    "duration": 26,
    "start_time": "2023-06-04T08:22:35.965Z"
   },
   {
    "duration": 7,
    "start_time": "2023-06-04T08:22:35.992Z"
   },
   {
    "duration": 21,
    "start_time": "2023-06-04T08:22:36.001Z"
   },
   {
    "duration": 484,
    "start_time": "2023-06-04T08:22:36.024Z"
   },
   {
    "duration": 471,
    "start_time": "2023-06-04T08:22:36.510Z"
   },
   {
    "duration": 589,
    "start_time": "2023-06-04T08:22:36.983Z"
   },
   {
    "duration": 585,
    "start_time": "2023-06-04T08:22:37.574Z"
   },
   {
    "duration": 89,
    "start_time": "2023-06-04T08:22:38.161Z"
   },
   {
    "duration": 25,
    "start_time": "2023-06-04T08:22:38.252Z"
   },
   {
    "duration": 64,
    "start_time": "2023-06-04T08:22:38.279Z"
   },
   {
    "duration": 12,
    "start_time": "2023-06-04T08:22:38.345Z"
   },
   {
    "duration": 19,
    "start_time": "2023-06-04T08:22:38.359Z"
   },
   {
    "duration": 1564,
    "start_time": "2023-06-04T08:22:38.379Z"
   },
   {
    "duration": 6,
    "start_time": "2023-06-04T08:22:39.947Z"
   },
   {
    "duration": 227,
    "start_time": "2023-06-04T08:22:39.955Z"
   },
   {
    "duration": 6,
    "start_time": "2023-06-04T08:22:40.183Z"
   },
   {
    "duration": 181,
    "start_time": "2023-06-04T08:45:32.854Z"
   },
   {
    "duration": 171,
    "start_time": "2023-06-04T08:45:50.704Z"
   },
   {
    "duration": 142,
    "start_time": "2023-06-04T08:47:16.623Z"
   },
   {
    "duration": 142,
    "start_time": "2023-06-04T08:47:37.528Z"
   },
   {
    "duration": 393,
    "start_time": "2023-06-04T08:49:36.729Z"
   },
   {
    "duration": 1684,
    "start_time": "2023-06-04T08:52:47.962Z"
   },
   {
    "duration": 1585,
    "start_time": "2023-06-04T08:54:09.088Z"
   },
   {
    "duration": 1566,
    "start_time": "2023-06-04T08:56:26.508Z"
   },
   {
    "duration": 206,
    "start_time": "2023-06-04T08:57:28.700Z"
   },
   {
    "duration": 203,
    "start_time": "2023-06-04T08:59:00.054Z"
   },
   {
    "duration": 303,
    "start_time": "2023-06-04T09:02:00.089Z"
   },
   {
    "duration": 1287,
    "start_time": "2023-06-04T09:03:59.569Z"
   },
   {
    "duration": 38,
    "start_time": "2023-06-04T09:04:00.858Z"
   },
   {
    "duration": 12,
    "start_time": "2023-06-04T09:04:00.897Z"
   },
   {
    "duration": 175,
    "start_time": "2023-06-04T09:04:00.911Z"
   },
   {
    "duration": 33,
    "start_time": "2023-06-04T09:04:01.089Z"
   },
   {
    "duration": 27,
    "start_time": "2023-06-04T09:04:01.125Z"
   },
   {
    "duration": 142,
    "start_time": "2023-06-04T09:04:01.155Z"
   },
   {
    "duration": 158,
    "start_time": "2023-06-04T09:04:01.299Z"
   },
   {
    "duration": 20,
    "start_time": "2023-06-04T09:04:01.459Z"
   },
   {
    "duration": 26,
    "start_time": "2023-06-04T09:04:01.481Z"
   },
   {
    "duration": 30,
    "start_time": "2023-06-04T09:04:01.509Z"
   },
   {
    "duration": 32,
    "start_time": "2023-06-04T09:04:01.541Z"
   },
   {
    "duration": 38,
    "start_time": "2023-06-04T09:04:01.575Z"
   },
   {
    "duration": 38,
    "start_time": "2023-06-04T09:04:01.616Z"
   },
   {
    "duration": 41,
    "start_time": "2023-06-04T09:04:01.656Z"
   },
   {
    "duration": 20,
    "start_time": "2023-06-04T09:04:01.698Z"
   },
   {
    "duration": 28,
    "start_time": "2023-06-04T09:04:01.720Z"
   },
   {
    "duration": 32,
    "start_time": "2023-06-04T09:04:01.750Z"
   },
   {
    "duration": 275,
    "start_time": "2023-06-04T09:04:01.784Z"
   },
   {
    "duration": 111,
    "start_time": "2023-06-04T09:04:02.061Z"
   },
   {
    "duration": 113,
    "start_time": "2023-06-04T09:04:02.173Z"
   },
   {
    "duration": 127,
    "start_time": "2023-06-04T09:04:02.288Z"
   },
   {
    "duration": 13,
    "start_time": "2023-06-04T09:04:02.417Z"
   },
   {
    "duration": 133,
    "start_time": "2023-06-04T09:04:02.431Z"
   },
   {
    "duration": 8,
    "start_time": "2023-06-04T09:04:02.566Z"
   },
   {
    "duration": 31,
    "start_time": "2023-06-04T09:04:02.576Z"
   },
   {
    "duration": 13,
    "start_time": "2023-06-04T09:04:02.609Z"
   },
   {
    "duration": 24,
    "start_time": "2023-06-04T09:04:02.624Z"
   },
   {
    "duration": 53,
    "start_time": "2023-06-04T09:04:02.650Z"
   },
   {
    "duration": 6,
    "start_time": "2023-06-04T09:04:02.705Z"
   },
   {
    "duration": 16,
    "start_time": "2023-06-04T09:04:02.712Z"
   },
   {
    "duration": 387,
    "start_time": "2023-06-04T09:04:02.730Z"
   },
   {
    "duration": 267,
    "start_time": "2023-06-04T09:04:03.120Z"
   },
   {
    "duration": 272,
    "start_time": "2023-06-04T09:04:03.389Z"
   },
   {
    "duration": 296,
    "start_time": "2023-06-04T09:04:03.663Z"
   },
   {
    "duration": 31,
    "start_time": "2023-06-04T09:04:03.961Z"
   },
   {
    "duration": 18,
    "start_time": "2023-06-04T09:04:03.993Z"
   },
   {
    "duration": 5,
    "start_time": "2023-06-04T09:04:04.013Z"
   },
   {
    "duration": 32,
    "start_time": "2023-06-04T09:04:04.019Z"
   },
   {
    "duration": 14,
    "start_time": "2023-06-04T09:04:04.053Z"
   },
   {
    "duration": 1647,
    "start_time": "2023-06-04T09:04:04.070Z"
   },
   {
    "duration": 5,
    "start_time": "2023-06-04T09:04:05.719Z"
   },
   {
    "duration": 210,
    "start_time": "2023-06-04T09:04:05.727Z"
   },
   {
    "duration": 14,
    "start_time": "2023-06-04T09:04:05.941Z"
   },
   {
    "duration": 1203,
    "start_time": "2023-06-04T14:30:24.062Z"
   },
   {
    "duration": 38,
    "start_time": "2023-06-04T14:30:25.267Z"
   },
   {
    "duration": 11,
    "start_time": "2023-06-04T14:30:25.306Z"
   },
   {
    "duration": 163,
    "start_time": "2023-06-04T14:30:25.319Z"
   },
   {
    "duration": 32,
    "start_time": "2023-06-04T14:30:25.484Z"
   },
   {
    "duration": 22,
    "start_time": "2023-06-04T14:30:25.518Z"
   },
   {
    "duration": 143,
    "start_time": "2023-06-04T14:30:25.542Z"
   },
   {
    "duration": 140,
    "start_time": "2023-06-04T14:30:25.686Z"
   },
   {
    "duration": 26,
    "start_time": "2023-06-04T14:30:25.827Z"
   },
   {
    "duration": 12,
    "start_time": "2023-06-04T14:30:25.855Z"
   },
   {
    "duration": 19,
    "start_time": "2023-06-04T14:30:25.869Z"
   },
   {
    "duration": 11,
    "start_time": "2023-06-04T14:30:25.889Z"
   },
   {
    "duration": 45,
    "start_time": "2023-06-04T14:30:25.903Z"
   },
   {
    "duration": 6,
    "start_time": "2023-06-04T14:30:25.950Z"
   },
   {
    "duration": 8,
    "start_time": "2023-06-04T14:30:25.957Z"
   },
   {
    "duration": 4,
    "start_time": "2023-06-04T14:30:25.966Z"
   },
   {
    "duration": 4,
    "start_time": "2023-06-04T14:30:25.971Z"
   },
   {
    "duration": 8,
    "start_time": "2023-06-04T14:30:25.976Z"
   },
   {
    "duration": 195,
    "start_time": "2023-06-04T14:30:25.985Z"
   },
   {
    "duration": 100,
    "start_time": "2023-06-04T14:30:26.181Z"
   },
   {
    "duration": 109,
    "start_time": "2023-06-04T14:30:26.282Z"
   },
   {
    "duration": 124,
    "start_time": "2023-06-04T14:30:26.393Z"
   },
   {
    "duration": 26,
    "start_time": "2023-06-04T14:30:26.519Z"
   },
   {
    "duration": 128,
    "start_time": "2023-06-04T14:30:26.547Z"
   },
   {
    "duration": 9,
    "start_time": "2023-06-04T14:30:26.676Z"
   },
   {
    "duration": 50,
    "start_time": "2023-06-04T14:30:26.686Z"
   },
   {
    "duration": 21,
    "start_time": "2023-06-04T14:30:26.738Z"
   },
   {
    "duration": 9,
    "start_time": "2023-06-04T14:30:26.763Z"
   },
   {
    "duration": 16,
    "start_time": "2023-06-04T14:30:26.773Z"
   },
   {
    "duration": 6,
    "start_time": "2023-06-04T14:30:26.791Z"
   },
   {
    "duration": 37,
    "start_time": "2023-06-04T14:30:26.798Z"
   },
   {
    "duration": 272,
    "start_time": "2023-06-04T14:30:26.837Z"
   },
   {
    "duration": 353,
    "start_time": "2023-06-04T14:30:27.110Z"
   },
   {
    "duration": 262,
    "start_time": "2023-06-04T14:30:27.464Z"
   },
   {
    "duration": 262,
    "start_time": "2023-06-04T14:30:27.738Z"
   },
   {
    "duration": 43,
    "start_time": "2023-06-04T14:30:28.002Z"
   },
   {
    "duration": 19,
    "start_time": "2023-06-04T14:30:28.047Z"
   },
   {
    "duration": 6,
    "start_time": "2023-06-04T14:30:28.067Z"
   },
   {
    "duration": 12,
    "start_time": "2023-06-04T14:30:28.074Z"
   },
   {
    "duration": 17,
    "start_time": "2023-06-04T14:30:28.088Z"
   },
   {
    "duration": 1487,
    "start_time": "2023-06-04T14:30:28.107Z"
   },
   {
    "duration": 10,
    "start_time": "2023-06-04T14:30:29.597Z"
   },
   {
    "duration": 231,
    "start_time": "2023-06-04T14:30:29.608Z"
   },
   {
    "duration": 9,
    "start_time": "2023-06-04T14:30:29.841Z"
   },
   {
    "duration": 15,
    "start_time": "2023-06-04T14:46:05.409Z"
   },
   {
    "duration": 12,
    "start_time": "2023-06-04T14:46:25.727Z"
   },
   {
    "duration": 5,
    "start_time": "2023-06-04T14:49:30.211Z"
   },
   {
    "duration": 5,
    "start_time": "2023-06-04T14:49:33.549Z"
   },
   {
    "duration": 1123,
    "start_time": "2023-06-04T14:50:21.650Z"
   },
   {
    "duration": 37,
    "start_time": "2023-06-04T14:50:22.775Z"
   },
   {
    "duration": 19,
    "start_time": "2023-06-04T14:50:22.814Z"
   },
   {
    "duration": 153,
    "start_time": "2023-06-04T14:50:22.839Z"
   },
   {
    "duration": 33,
    "start_time": "2023-06-04T14:50:22.993Z"
   },
   {
    "duration": 12,
    "start_time": "2023-06-04T14:50:23.036Z"
   },
   {
    "duration": 132,
    "start_time": "2023-06-04T14:50:23.050Z"
   },
   {
    "duration": 158,
    "start_time": "2023-06-04T14:50:23.183Z"
   },
   {
    "duration": 23,
    "start_time": "2023-06-04T14:50:23.343Z"
   },
   {
    "duration": 13,
    "start_time": "2023-06-04T14:50:23.370Z"
   },
   {
    "duration": 10,
    "start_time": "2023-06-04T14:50:23.385Z"
   },
   {
    "duration": 5,
    "start_time": "2023-06-04T14:50:23.397Z"
   },
   {
    "duration": 9,
    "start_time": "2023-06-04T14:50:23.403Z"
   },
   {
    "duration": 10,
    "start_time": "2023-06-04T14:50:23.413Z"
   },
   {
    "duration": 17,
    "start_time": "2023-06-04T14:50:23.425Z"
   },
   {
    "duration": 6,
    "start_time": "2023-06-04T14:50:23.443Z"
   },
   {
    "duration": 11,
    "start_time": "2023-06-04T14:50:23.451Z"
   },
   {
    "duration": 23,
    "start_time": "2023-06-04T14:50:23.463Z"
   },
   {
    "duration": 185,
    "start_time": "2023-06-04T14:50:23.488Z"
   },
   {
    "duration": 94,
    "start_time": "2023-06-04T14:50:23.675Z"
   },
   {
    "duration": 105,
    "start_time": "2023-06-04T14:50:23.770Z"
   },
   {
    "duration": 128,
    "start_time": "2023-06-04T14:50:23.876Z"
   },
   {
    "duration": 20,
    "start_time": "2023-06-04T14:50:24.006Z"
   },
   {
    "duration": 124,
    "start_time": "2023-06-04T14:50:24.027Z"
   },
   {
    "duration": 9,
    "start_time": "2023-06-04T14:50:24.152Z"
   },
   {
    "duration": 28,
    "start_time": "2023-06-04T14:50:24.162Z"
   },
   {
    "duration": 14,
    "start_time": "2023-06-04T14:50:24.191Z"
   },
   {
    "duration": 13,
    "start_time": "2023-06-04T14:50:24.228Z"
   },
   {
    "duration": 15,
    "start_time": "2023-06-04T14:50:24.242Z"
   },
   {
    "duration": 5,
    "start_time": "2023-06-04T14:50:24.258Z"
   },
   {
    "duration": 16,
    "start_time": "2023-06-04T14:50:24.264Z"
   },
   {
    "duration": 270,
    "start_time": "2023-06-04T14:50:24.281Z"
   },
   {
    "duration": 315,
    "start_time": "2023-06-04T14:50:24.553Z"
   },
   {
    "duration": 286,
    "start_time": "2023-06-04T14:50:24.869Z"
   },
   {
    "duration": 287,
    "start_time": "2023-06-04T14:50:25.157Z"
   },
   {
    "duration": 28,
    "start_time": "2023-06-04T14:50:25.446Z"
   },
   {
    "duration": 17,
    "start_time": "2023-06-04T14:50:25.475Z"
   },
   {
    "duration": 5,
    "start_time": "2023-06-04T14:50:25.494Z"
   },
   {
    "duration": 32,
    "start_time": "2023-06-04T14:50:25.500Z"
   },
   {
    "duration": 12,
    "start_time": "2023-06-04T14:50:25.533Z"
   },
   {
    "duration": 1511,
    "start_time": "2023-06-04T14:50:25.547Z"
   },
   {
    "duration": 5,
    "start_time": "2023-06-04T14:50:27.060Z"
   },
   {
    "duration": 203,
    "start_time": "2023-06-04T14:50:27.067Z"
   },
   {
    "duration": 7,
    "start_time": "2023-06-04T14:50:27.273Z"
   },
   {
    "duration": 4,
    "start_time": "2023-06-04T15:54:11.476Z"
   },
   {
    "duration": 59,
    "start_time": "2023-06-04T15:54:11.482Z"
   },
   {
    "duration": 54,
    "start_time": "2023-06-04T15:54:11.543Z"
   },
   {
    "duration": 152,
    "start_time": "2023-06-04T15:54:11.599Z"
   },
   {
    "duration": 32,
    "start_time": "2023-06-04T15:54:11.753Z"
   },
   {
    "duration": 14,
    "start_time": "2023-06-04T15:54:11.787Z"
   },
   {
    "duration": 164,
    "start_time": "2023-06-04T15:54:11.803Z"
   },
   {
    "duration": 142,
    "start_time": "2023-06-04T15:54:11.969Z"
   },
   {
    "duration": 23,
    "start_time": "2023-06-04T15:54:12.114Z"
   },
   {
    "duration": 12,
    "start_time": "2023-06-04T15:54:12.141Z"
   },
   {
    "duration": 10,
    "start_time": "2023-06-04T15:54:12.155Z"
   },
   {
    "duration": 6,
    "start_time": "2023-06-04T15:54:12.166Z"
   },
   {
    "duration": 9,
    "start_time": "2023-06-04T15:54:12.174Z"
   },
   {
    "duration": 16,
    "start_time": "2023-06-04T15:54:12.184Z"
   },
   {
    "duration": 6,
    "start_time": "2023-06-04T15:54:12.202Z"
   },
   {
    "duration": 9,
    "start_time": "2023-06-04T15:54:12.241Z"
   },
   {
    "duration": 5,
    "start_time": "2023-06-04T15:54:12.252Z"
   },
   {
    "duration": 7,
    "start_time": "2023-06-04T15:54:12.259Z"
   },
   {
    "duration": 6,
    "start_time": "2023-06-04T15:54:12.268Z"
   },
   {
    "duration": 195,
    "start_time": "2023-06-04T15:54:12.275Z"
   },
   {
    "duration": 240,
    "start_time": "2023-06-04T15:54:12.472Z"
   },
   {
    "duration": 109,
    "start_time": "2023-06-04T15:54:12.714Z"
   },
   {
    "duration": 118,
    "start_time": "2023-06-04T15:54:12.825Z"
   },
   {
    "duration": 12,
    "start_time": "2023-06-04T15:54:12.945Z"
   },
   {
    "duration": 127,
    "start_time": "2023-06-04T15:54:12.959Z"
   },
   {
    "duration": 9,
    "start_time": "2023-06-04T15:54:13.088Z"
   },
   {
    "duration": 29,
    "start_time": "2023-06-04T15:54:13.098Z"
   },
   {
    "duration": 23,
    "start_time": "2023-06-04T15:54:13.129Z"
   },
   {
    "duration": 6,
    "start_time": "2023-06-04T15:54:13.153Z"
   },
   {
    "duration": 16,
    "start_time": "2023-06-04T15:54:13.161Z"
   },
   {
    "duration": 7,
    "start_time": "2023-06-04T15:54:13.179Z"
   },
   {
    "duration": 34,
    "start_time": "2023-06-04T15:54:13.187Z"
   },
   {
    "duration": 258,
    "start_time": "2023-06-04T15:54:13.223Z"
   },
   {
    "duration": 242,
    "start_time": "2023-06-04T15:54:13.482Z"
   },
   {
    "duration": 269,
    "start_time": "2023-06-04T15:54:13.725Z"
   },
   {
    "duration": 293,
    "start_time": "2023-06-04T15:54:13.996Z"
   },
   {
    "duration": 31,
    "start_time": "2023-06-04T15:54:14.292Z"
   },
   {
    "duration": 31,
    "start_time": "2023-06-04T15:54:14.325Z"
   },
   {
    "duration": 5,
    "start_time": "2023-06-04T15:54:14.358Z"
   },
   {
    "duration": 22,
    "start_time": "2023-06-04T15:54:14.364Z"
   },
   {
    "duration": 12,
    "start_time": "2023-06-04T15:54:14.387Z"
   },
   {
    "duration": 1478,
    "start_time": "2023-06-04T15:54:14.401Z"
   },
   {
    "duration": 8,
    "start_time": "2023-06-04T15:54:15.881Z"
   },
   {
    "duration": 393,
    "start_time": "2023-06-04T15:54:15.891Z"
   },
   {
    "duration": 6,
    "start_time": "2023-06-04T15:54:16.285Z"
   },
   {
    "duration": 788,
    "start_time": "2023-06-04T15:57:37.002Z"
   },
   {
    "duration": 4,
    "start_time": "2023-06-04T15:57:45.397Z"
   },
   {
    "duration": 37,
    "start_time": "2023-06-04T15:57:45.403Z"
   },
   {
    "duration": 11,
    "start_time": "2023-06-04T15:57:45.442Z"
   },
   {
    "duration": 165,
    "start_time": "2023-06-04T15:57:45.455Z"
   },
   {
    "duration": 35,
    "start_time": "2023-06-04T15:57:45.622Z"
   },
   {
    "duration": 11,
    "start_time": "2023-06-04T15:57:45.659Z"
   },
   {
    "duration": 149,
    "start_time": "2023-06-04T15:57:45.672Z"
   },
   {
    "duration": 136,
    "start_time": "2023-06-04T15:57:45.823Z"
   },
   {
    "duration": 20,
    "start_time": "2023-06-04T15:57:45.961Z"
   },
   {
    "duration": 10,
    "start_time": "2023-06-04T15:57:45.982Z"
   },
   {
    "duration": 13,
    "start_time": "2023-06-04T15:57:45.995Z"
   },
   {
    "duration": 11,
    "start_time": "2023-06-04T15:57:46.010Z"
   },
   {
    "duration": 19,
    "start_time": "2023-06-04T15:57:46.023Z"
   },
   {
    "duration": 14,
    "start_time": "2023-06-04T15:57:46.044Z"
   },
   {
    "duration": 5,
    "start_time": "2023-06-04T15:57:46.060Z"
   },
   {
    "duration": 8,
    "start_time": "2023-06-04T15:57:46.066Z"
   },
   {
    "duration": 10,
    "start_time": "2023-06-04T15:57:46.076Z"
   },
   {
    "duration": 8,
    "start_time": "2023-06-04T15:57:46.088Z"
   },
   {
    "duration": 8,
    "start_time": "2023-06-04T15:57:46.097Z"
   },
   {
    "duration": 35,
    "start_time": "2023-06-04T15:57:46.107Z"
   },
   {
    "duration": 182,
    "start_time": "2023-06-04T15:57:46.143Z"
   },
   {
    "duration": 97,
    "start_time": "2023-06-04T15:57:46.327Z"
   },
   {
    "duration": 120,
    "start_time": "2023-06-04T15:57:46.425Z"
   },
   {
    "duration": 127,
    "start_time": "2023-06-04T15:57:46.548Z"
   },
   {
    "duration": 13,
    "start_time": "2023-06-04T15:57:46.677Z"
   },
   {
    "duration": 141,
    "start_time": "2023-06-04T15:57:46.692Z"
   },
   {
    "duration": 13,
    "start_time": "2023-06-04T15:57:46.835Z"
   },
   {
    "duration": 26,
    "start_time": "2023-06-04T15:57:46.849Z"
   },
   {
    "duration": 15,
    "start_time": "2023-06-04T15:57:46.879Z"
   },
   {
    "duration": 12,
    "start_time": "2023-06-04T15:57:46.895Z"
   },
   {
    "duration": 40,
    "start_time": "2023-06-04T15:57:46.908Z"
   },
   {
    "duration": 5,
    "start_time": "2023-06-04T15:57:46.950Z"
   },
   {
    "duration": 21,
    "start_time": "2023-06-04T15:57:46.957Z"
   },
   {
    "duration": 269,
    "start_time": "2023-06-04T15:57:46.980Z"
   },
   {
    "duration": 255,
    "start_time": "2023-06-04T15:57:47.251Z"
   },
   {
    "duration": 390,
    "start_time": "2023-06-04T15:57:47.508Z"
   },
   {
    "duration": 304,
    "start_time": "2023-06-04T15:57:47.900Z"
   },
   {
    "duration": 40,
    "start_time": "2023-06-04T15:57:48.206Z"
   },
   {
    "duration": 18,
    "start_time": "2023-06-04T15:57:48.248Z"
   },
   {
    "duration": 6,
    "start_time": "2023-06-04T15:57:48.267Z"
   },
   {
    "duration": 10,
    "start_time": "2023-06-04T15:57:48.274Z"
   },
   {
    "duration": 11,
    "start_time": "2023-06-04T15:57:48.286Z"
   },
   {
    "duration": 1647,
    "start_time": "2023-06-04T15:57:48.299Z"
   },
   {
    "duration": 5,
    "start_time": "2023-06-04T15:57:49.949Z"
   },
   {
    "duration": 230,
    "start_time": "2023-06-04T15:57:49.956Z"
   },
   {
    "duration": 5,
    "start_time": "2023-06-04T15:57:50.188Z"
   },
   {
    "duration": 3,
    "start_time": "2023-06-04T15:59:47.614Z"
   },
   {
    "duration": 39,
    "start_time": "2023-06-04T15:59:47.619Z"
   },
   {
    "duration": 11,
    "start_time": "2023-06-04T15:59:47.660Z"
   },
   {
    "duration": 171,
    "start_time": "2023-06-04T15:59:47.673Z"
   },
   {
    "duration": 35,
    "start_time": "2023-06-04T15:59:47.846Z"
   },
   {
    "duration": 13,
    "start_time": "2023-06-04T15:59:47.883Z"
   },
   {
    "duration": 162,
    "start_time": "2023-06-04T15:59:47.898Z"
   },
   {
    "duration": 164,
    "start_time": "2023-06-04T15:59:48.062Z"
   },
   {
    "duration": 24,
    "start_time": "2023-06-04T15:59:48.229Z"
   },
   {
    "duration": 38,
    "start_time": "2023-06-04T15:59:48.255Z"
   },
   {
    "duration": 18,
    "start_time": "2023-06-04T15:59:48.296Z"
   },
   {
    "duration": 12,
    "start_time": "2023-06-04T15:59:48.316Z"
   },
   {
    "duration": 16,
    "start_time": "2023-06-04T15:59:48.330Z"
   },
   {
    "duration": 23,
    "start_time": "2023-06-04T15:59:48.351Z"
   },
   {
    "duration": 18,
    "start_time": "2023-06-04T15:59:48.377Z"
   },
   {
    "duration": 18,
    "start_time": "2023-06-04T15:59:48.397Z"
   },
   {
    "duration": 17,
    "start_time": "2023-06-04T15:59:48.417Z"
   },
   {
    "duration": 9,
    "start_time": "2023-06-04T15:59:48.436Z"
   },
   {
    "duration": 9,
    "start_time": "2023-06-04T15:59:48.447Z"
   },
   {
    "duration": 8,
    "start_time": "2023-06-04T15:59:48.459Z"
   },
   {
    "duration": 201,
    "start_time": "2023-06-04T15:59:48.469Z"
   },
   {
    "duration": 106,
    "start_time": "2023-06-04T15:59:48.672Z"
   },
   {
    "duration": 114,
    "start_time": "2023-06-04T15:59:48.780Z"
   },
   {
    "duration": 308,
    "start_time": "2023-06-04T15:59:48.896Z"
   },
   {
    "duration": 15,
    "start_time": "2023-06-04T15:59:49.206Z"
   },
   {
    "duration": 154,
    "start_time": "2023-06-04T15:59:49.223Z"
   },
   {
    "duration": 9,
    "start_time": "2023-06-04T15:59:49.379Z"
   },
   {
    "duration": 53,
    "start_time": "2023-06-04T15:59:49.390Z"
   },
   {
    "duration": 14,
    "start_time": "2023-06-04T15:59:49.445Z"
   },
   {
    "duration": 7,
    "start_time": "2023-06-04T15:59:49.461Z"
   },
   {
    "duration": 22,
    "start_time": "2023-06-04T15:59:49.469Z"
   },
   {
    "duration": 5,
    "start_time": "2023-06-04T15:59:49.493Z"
   },
   {
    "duration": 25,
    "start_time": "2023-06-04T15:59:49.500Z"
   },
   {
    "duration": 305,
    "start_time": "2023-06-04T15:59:49.527Z"
   },
   {
    "duration": 271,
    "start_time": "2023-06-04T15:59:49.833Z"
   },
   {
    "duration": 294,
    "start_time": "2023-06-04T15:59:50.106Z"
   },
   {
    "duration": 281,
    "start_time": "2023-06-04T15:59:50.402Z"
   },
   {
    "duration": 29,
    "start_time": "2023-06-04T15:59:50.685Z"
   },
   {
    "duration": 32,
    "start_time": "2023-06-04T15:59:50.716Z"
   },
   {
    "duration": 5,
    "start_time": "2023-06-04T15:59:50.749Z"
   },
   {
    "duration": 12,
    "start_time": "2023-06-04T15:59:50.758Z"
   },
   {
    "duration": 21,
    "start_time": "2023-06-04T15:59:50.772Z"
   },
   {
    "duration": 1523,
    "start_time": "2023-06-04T15:59:50.795Z"
   },
   {
    "duration": 6,
    "start_time": "2023-06-04T15:59:52.320Z"
   },
   {
    "duration": 236,
    "start_time": "2023-06-04T15:59:52.328Z"
   },
   {
    "duration": 6,
    "start_time": "2023-06-04T15:59:52.565Z"
   },
   {
    "duration": 51,
    "start_time": "2023-06-04T16:10:10.091Z"
   },
   {
    "duration": 197,
    "start_time": "2023-06-04T16:10:20.786Z"
   },
   {
    "duration": 340,
    "start_time": "2023-06-04T16:10:38.452Z"
   },
   {
    "duration": 200,
    "start_time": "2023-06-04T16:10:51.299Z"
   },
   {
    "duration": 177,
    "start_time": "2023-06-04T16:21:43.306Z"
   },
   {
    "duration": 189,
    "start_time": "2023-06-04T16:23:38.843Z"
   },
   {
    "duration": 242,
    "start_time": "2023-06-04T16:31:37.848Z"
   },
   {
    "duration": 284,
    "start_time": "2023-06-04T16:32:29.509Z"
   },
   {
    "duration": 276,
    "start_time": "2023-06-04T16:32:46.865Z"
   },
   {
    "duration": 264,
    "start_time": "2023-06-04T16:33:07.625Z"
   },
   {
    "duration": 299,
    "start_time": "2023-06-04T16:37:48.924Z"
   },
   {
    "duration": 434,
    "start_time": "2023-06-04T16:38:01.557Z"
   },
   {
    "duration": 318,
    "start_time": "2023-06-04T16:45:29.825Z"
   },
   {
    "duration": 7,
    "start_time": "2023-06-04T16:48:29.257Z"
   },
   {
    "duration": 5,
    "start_time": "2023-06-04T16:49:21.580Z"
   },
   {
    "duration": 4,
    "start_time": "2023-06-04T16:49:31.077Z"
   },
   {
    "duration": 89,
    "start_time": "2023-06-04T16:49:31.085Z"
   },
   {
    "duration": 22,
    "start_time": "2023-06-04T16:49:31.177Z"
   },
   {
    "duration": 208,
    "start_time": "2023-06-04T16:49:31.201Z"
   },
   {
    "duration": 31,
    "start_time": "2023-06-04T16:49:31.411Z"
   },
   {
    "duration": 11,
    "start_time": "2023-06-04T16:49:31.444Z"
   },
   {
    "duration": 151,
    "start_time": "2023-06-04T16:49:31.457Z"
   },
   {
    "duration": 165,
    "start_time": "2023-06-04T16:49:31.610Z"
   },
   {
    "duration": 21,
    "start_time": "2023-06-04T16:49:31.776Z"
   },
   {
    "duration": 11,
    "start_time": "2023-06-04T16:49:31.799Z"
   },
   {
    "duration": 9,
    "start_time": "2023-06-04T16:49:31.814Z"
   },
   {
    "duration": 19,
    "start_time": "2023-06-04T16:49:31.825Z"
   },
   {
    "duration": 14,
    "start_time": "2023-06-04T16:49:31.846Z"
   },
   {
    "duration": 8,
    "start_time": "2023-06-04T16:49:31.862Z"
   },
   {
    "duration": 41,
    "start_time": "2023-06-04T16:49:31.872Z"
   },
   {
    "duration": 19,
    "start_time": "2023-06-04T16:49:31.916Z"
   },
   {
    "duration": 20,
    "start_time": "2023-06-04T16:49:31.937Z"
   },
   {
    "duration": 13,
    "start_time": "2023-06-04T16:49:31.959Z"
   },
   {
    "duration": 9,
    "start_time": "2023-06-04T16:49:31.974Z"
   },
   {
    "duration": 217,
    "start_time": "2023-06-04T16:49:31.985Z"
   },
   {
    "duration": 113,
    "start_time": "2023-06-04T16:49:32.204Z"
   },
   {
    "duration": 259,
    "start_time": "2023-06-04T16:49:32.319Z"
   },
   {
    "duration": 384,
    "start_time": "2023-06-04T16:49:32.580Z"
   },
   {
    "duration": 14,
    "start_time": "2023-06-04T16:49:32.965Z"
   },
   {
    "duration": 291,
    "start_time": "2023-06-04T16:49:32.980Z"
   },
   {
    "duration": 10,
    "start_time": "2023-06-04T16:49:33.273Z"
   },
   {
    "duration": 5,
    "start_time": "2023-06-04T16:49:33.285Z"
   },
   {
    "duration": 31,
    "start_time": "2023-06-04T16:49:33.292Z"
   },
   {
    "duration": 13,
    "start_time": "2023-06-04T16:49:33.341Z"
   },
   {
    "duration": 4,
    "start_time": "2023-06-04T16:49:33.356Z"
   },
   {
    "duration": 8,
    "start_time": "2023-06-04T16:49:33.361Z"
   },
   {
    "duration": 15,
    "start_time": "2023-06-04T16:49:33.371Z"
   },
   {
    "duration": 5,
    "start_time": "2023-06-04T16:49:33.388Z"
   },
   {
    "duration": 24,
    "start_time": "2023-06-04T16:49:33.395Z"
   },
   {
    "duration": 275,
    "start_time": "2023-06-04T16:49:33.421Z"
   },
   {
    "duration": 248,
    "start_time": "2023-06-04T16:49:33.698Z"
   },
   {
    "duration": 296,
    "start_time": "2023-06-04T16:49:33.948Z"
   },
   {
    "duration": 286,
    "start_time": "2023-06-04T16:49:34.246Z"
   },
   {
    "duration": 39,
    "start_time": "2023-06-04T16:49:34.534Z"
   },
   {
    "duration": 44,
    "start_time": "2023-06-04T16:49:34.575Z"
   },
   {
    "duration": 16,
    "start_time": "2023-06-04T16:49:34.621Z"
   },
   {
    "duration": 33,
    "start_time": "2023-06-04T16:49:34.639Z"
   },
   {
    "duration": 17,
    "start_time": "2023-06-04T16:49:34.674Z"
   },
   {
    "duration": 1477,
    "start_time": "2023-06-04T16:49:34.693Z"
   },
   {
    "duration": 7,
    "start_time": "2023-06-04T16:49:36.172Z"
   },
   {
    "duration": 219,
    "start_time": "2023-06-04T16:49:36.181Z"
   },
   {
    "duration": 5,
    "start_time": "2023-06-04T16:49:36.402Z"
   },
   {
    "duration": 5,
    "start_time": "2023-06-04T16:52:19.220Z"
   },
   {
    "duration": 4,
    "start_time": "2023-06-04T16:53:39.469Z"
   },
   {
    "duration": 44,
    "start_time": "2023-06-04T16:53:39.475Z"
   },
   {
    "duration": 11,
    "start_time": "2023-06-04T16:53:39.521Z"
   },
   {
    "duration": 150,
    "start_time": "2023-06-04T16:53:39.533Z"
   },
   {
    "duration": 31,
    "start_time": "2023-06-04T16:53:39.686Z"
   },
   {
    "duration": 12,
    "start_time": "2023-06-04T16:53:39.719Z"
   },
   {
    "duration": 283,
    "start_time": "2023-06-04T16:53:39.742Z"
   },
   {
    "duration": 141,
    "start_time": "2023-06-04T16:53:40.026Z"
   },
   {
    "duration": 20,
    "start_time": "2023-06-04T16:53:40.168Z"
   },
   {
    "duration": 11,
    "start_time": "2023-06-04T16:53:40.190Z"
   },
   {
    "duration": 8,
    "start_time": "2023-06-04T16:53:40.202Z"
   },
   {
    "duration": 10,
    "start_time": "2023-06-04T16:53:40.211Z"
   },
   {
    "duration": 24,
    "start_time": "2023-06-04T16:53:40.223Z"
   },
   {
    "duration": 4,
    "start_time": "2023-06-04T16:53:40.250Z"
   },
   {
    "duration": 10,
    "start_time": "2023-06-04T16:53:40.256Z"
   },
   {
    "duration": 8,
    "start_time": "2023-06-04T16:53:40.268Z"
   },
   {
    "duration": 8,
    "start_time": "2023-06-04T16:53:40.278Z"
   },
   {
    "duration": 24,
    "start_time": "2023-06-04T16:53:40.288Z"
   },
   {
    "duration": 12,
    "start_time": "2023-06-04T16:53:40.314Z"
   },
   {
    "duration": 168,
    "start_time": "2023-06-04T16:53:40.327Z"
   },
   {
    "duration": 100,
    "start_time": "2023-06-04T16:53:40.497Z"
   },
   {
    "duration": 251,
    "start_time": "2023-06-04T16:53:40.600Z"
   },
   {
    "duration": 277,
    "start_time": "2023-06-04T16:53:40.853Z"
   },
   {
    "duration": 19,
    "start_time": "2023-06-04T16:53:41.132Z"
   },
   {
    "duration": 294,
    "start_time": "2023-06-04T16:53:41.152Z"
   },
   {
    "duration": 9,
    "start_time": "2023-06-04T16:53:41.448Z"
   },
   {
    "duration": 10,
    "start_time": "2023-06-04T16:53:41.458Z"
   },
   {
    "duration": 9,
    "start_time": "2023-06-04T16:53:41.470Z"
   },
   {
    "duration": 8,
    "start_time": "2023-06-04T16:53:41.481Z"
   },
   {
    "duration": 26,
    "start_time": "2023-06-04T16:53:41.490Z"
   },
   {
    "duration": 26,
    "start_time": "2023-06-04T16:53:41.518Z"
   },
   {
    "duration": 8,
    "start_time": "2023-06-04T16:53:41.546Z"
   },
   {
    "duration": 9,
    "start_time": "2023-06-04T16:53:41.555Z"
   },
   {
    "duration": 13,
    "start_time": "2023-06-04T16:53:41.565Z"
   },
   {
    "duration": 5,
    "start_time": "2023-06-04T16:53:41.579Z"
   },
   {
    "duration": 25,
    "start_time": "2023-06-04T16:53:41.585Z"
   },
   {
    "duration": 270,
    "start_time": "2023-06-04T16:53:41.612Z"
   },
   {
    "duration": 359,
    "start_time": "2023-06-04T16:53:41.884Z"
   },
   {
    "duration": 266,
    "start_time": "2023-06-04T16:53:42.245Z"
   },
   {
    "duration": 286,
    "start_time": "2023-06-04T16:53:42.513Z"
   },
   {
    "duration": 43,
    "start_time": "2023-06-04T16:53:42.803Z"
   },
   {
    "duration": 18,
    "start_time": "2023-06-04T16:53:42.847Z"
   },
   {
    "duration": 6,
    "start_time": "2023-06-04T16:53:42.867Z"
   },
   {
    "duration": 10,
    "start_time": "2023-06-04T16:53:42.875Z"
   },
   {
    "duration": 13,
    "start_time": "2023-06-04T16:53:42.887Z"
   },
   {
    "duration": 1515,
    "start_time": "2023-06-04T16:53:42.902Z"
   },
   {
    "duration": 5,
    "start_time": "2023-06-04T16:53:44.419Z"
   },
   {
    "duration": 234,
    "start_time": "2023-06-04T16:53:44.426Z"
   },
   {
    "duration": 6,
    "start_time": "2023-06-04T16:53:44.661Z"
   },
   {
    "duration": 288,
    "start_time": "2023-06-04T16:55:05.887Z"
   },
   {
    "duration": 275,
    "start_time": "2023-06-04T16:55:32.916Z"
   },
   {
    "duration": 253,
    "start_time": "2023-06-04T16:56:10.192Z"
   },
   {
    "duration": 451,
    "start_time": "2023-06-04T16:56:33.269Z"
   },
   {
    "duration": 310,
    "start_time": "2023-06-04T16:56:41.864Z"
   },
   {
    "duration": 295,
    "start_time": "2023-06-04T16:56:52.957Z"
   },
   {
    "duration": 4,
    "start_time": "2023-06-04T17:07:19.311Z"
   },
   {
    "duration": 49,
    "start_time": "2023-06-04T17:07:19.317Z"
   },
   {
    "duration": 12,
    "start_time": "2023-06-04T17:07:19.368Z"
   },
   {
    "duration": 164,
    "start_time": "2023-06-04T17:07:19.381Z"
   },
   {
    "duration": 33,
    "start_time": "2023-06-04T17:07:19.547Z"
   },
   {
    "duration": 12,
    "start_time": "2023-06-04T17:07:19.582Z"
   },
   {
    "duration": 151,
    "start_time": "2023-06-04T17:07:19.596Z"
   },
   {
    "duration": 149,
    "start_time": "2023-06-04T17:07:19.749Z"
   },
   {
    "duration": 28,
    "start_time": "2023-06-04T17:07:19.900Z"
   },
   {
    "duration": 15,
    "start_time": "2023-06-04T17:07:19.930Z"
   },
   {
    "duration": 28,
    "start_time": "2023-06-04T17:07:19.948Z"
   },
   {
    "duration": 9,
    "start_time": "2023-06-04T17:07:19.978Z"
   },
   {
    "duration": 10,
    "start_time": "2023-06-04T17:07:19.988Z"
   },
   {
    "duration": 21,
    "start_time": "2023-06-04T17:07:20.000Z"
   },
   {
    "duration": 10,
    "start_time": "2023-06-04T17:07:20.022Z"
   },
   {
    "duration": 28,
    "start_time": "2023-06-04T17:07:20.034Z"
   },
   {
    "duration": 9,
    "start_time": "2023-06-04T17:07:20.064Z"
   },
   {
    "duration": 18,
    "start_time": "2023-06-04T17:07:20.075Z"
   },
   {
    "duration": 13,
    "start_time": "2023-06-04T17:07:20.095Z"
   },
   {
    "duration": 205,
    "start_time": "2023-06-04T17:07:20.109Z"
   },
   {
    "duration": 104,
    "start_time": "2023-06-04T17:07:20.316Z"
   },
   {
    "duration": 363,
    "start_time": "2023-06-04T17:07:20.421Z"
   },
   {
    "duration": 281,
    "start_time": "2023-06-04T17:07:20.786Z"
   },
   {
    "duration": 14,
    "start_time": "2023-06-04T17:07:21.069Z"
   },
   {
    "duration": 306,
    "start_time": "2023-06-04T17:07:21.084Z"
   },
   {
    "duration": 11,
    "start_time": "2023-06-04T17:07:21.391Z"
   },
   {
    "duration": 15,
    "start_time": "2023-06-04T17:07:21.404Z"
   },
   {
    "duration": 22,
    "start_time": "2023-06-04T17:07:21.421Z"
   },
   {
    "duration": 8,
    "start_time": "2023-06-04T17:07:21.446Z"
   },
   {
    "duration": 26,
    "start_time": "2023-06-04T17:07:21.455Z"
   },
   {
    "duration": 13,
    "start_time": "2023-06-04T17:07:21.483Z"
   },
   {
    "duration": 4,
    "start_time": "2023-06-04T17:07:21.497Z"
   },
   {
    "duration": 11,
    "start_time": "2023-06-04T17:07:21.502Z"
   },
   {
    "duration": 36,
    "start_time": "2023-06-04T17:07:21.514Z"
   },
   {
    "duration": 5,
    "start_time": "2023-06-04T17:07:21.552Z"
   },
   {
    "duration": 20,
    "start_time": "2023-06-04T17:07:21.559Z"
   },
   {
    "duration": 312,
    "start_time": "2023-06-04T17:07:21.581Z"
   },
   {
    "duration": 287,
    "start_time": "2023-06-04T17:07:21.895Z"
   },
   {
    "duration": 297,
    "start_time": "2023-06-04T17:07:22.184Z"
   },
   {
    "duration": 408,
    "start_time": "2023-06-04T17:07:22.483Z"
   },
   {
    "duration": 32,
    "start_time": "2023-06-04T17:07:22.893Z"
   },
   {
    "duration": 32,
    "start_time": "2023-06-04T17:07:22.927Z"
   },
   {
    "duration": 6,
    "start_time": "2023-06-04T17:07:22.962Z"
   },
   {
    "duration": 10,
    "start_time": "2023-06-04T17:07:22.970Z"
   },
   {
    "duration": 16,
    "start_time": "2023-06-04T17:07:22.982Z"
   },
   {
    "duration": 1697,
    "start_time": "2023-06-04T17:07:23.000Z"
   },
   {
    "duration": 5,
    "start_time": "2023-06-04T17:07:24.699Z"
   },
   {
    "duration": 230,
    "start_time": "2023-06-04T17:07:24.706Z"
   },
   {
    "duration": 6,
    "start_time": "2023-06-04T17:07:24.941Z"
   },
   {
    "duration": 7,
    "start_time": "2023-06-04T17:12:40.200Z"
   },
   {
    "duration": 7,
    "start_time": "2023-06-04T17:13:21.490Z"
   },
   {
    "duration": 16,
    "start_time": "2023-06-04T17:15:46.152Z"
   },
   {
    "duration": 11,
    "start_time": "2023-06-04T17:16:14.789Z"
   },
   {
    "duration": 1219,
    "start_time": "2023-06-04T17:18:37.411Z"
   },
   {
    "duration": 37,
    "start_time": "2023-06-04T17:18:38.632Z"
   },
   {
    "duration": 11,
    "start_time": "2023-06-04T17:18:38.671Z"
   },
   {
    "duration": 143,
    "start_time": "2023-06-04T17:18:38.683Z"
   },
   {
    "duration": 30,
    "start_time": "2023-06-04T17:18:38.828Z"
   },
   {
    "duration": 10,
    "start_time": "2023-06-04T17:18:38.859Z"
   },
   {
    "duration": 143,
    "start_time": "2023-06-04T17:18:38.871Z"
   },
   {
    "duration": 139,
    "start_time": "2023-06-04T17:18:39.016Z"
   },
   {
    "duration": 20,
    "start_time": "2023-06-04T17:18:39.156Z"
   },
   {
    "duration": 10,
    "start_time": "2023-06-04T17:18:39.178Z"
   },
   {
    "duration": 13,
    "start_time": "2023-06-04T17:18:39.189Z"
   },
   {
    "duration": 13,
    "start_time": "2023-06-04T17:18:39.204Z"
   },
   {
    "duration": 8,
    "start_time": "2023-06-04T17:18:39.219Z"
   },
   {
    "duration": 20,
    "start_time": "2023-06-04T17:18:39.229Z"
   },
   {
    "duration": 7,
    "start_time": "2023-06-04T17:18:39.251Z"
   },
   {
    "duration": 11,
    "start_time": "2023-06-04T17:18:39.260Z"
   },
   {
    "duration": 6,
    "start_time": "2023-06-04T17:18:39.273Z"
   },
   {
    "duration": 12,
    "start_time": "2023-06-04T17:18:39.281Z"
   },
   {
    "duration": 6,
    "start_time": "2023-06-04T17:18:39.295Z"
   },
   {
    "duration": 200,
    "start_time": "2023-06-04T17:18:39.302Z"
   },
   {
    "duration": 101,
    "start_time": "2023-06-04T17:18:39.504Z"
   },
   {
    "duration": 252,
    "start_time": "2023-06-04T17:18:39.607Z"
   },
   {
    "duration": 291,
    "start_time": "2023-06-04T17:18:39.860Z"
   },
   {
    "duration": 105,
    "start_time": "2023-06-04T17:18:40.152Z"
   },
   {
    "duration": 269,
    "start_time": "2023-06-04T17:18:40.258Z"
   },
   {
    "duration": 15,
    "start_time": "2023-06-04T17:18:40.529Z"
   },
   {
    "duration": 4,
    "start_time": "2023-06-04T17:18:40.546Z"
   },
   {
    "duration": 14,
    "start_time": "2023-06-04T17:18:40.553Z"
   },
   {
    "duration": 6,
    "start_time": "2023-06-04T17:18:40.569Z"
   },
   {
    "duration": 26,
    "start_time": "2023-06-04T17:18:40.576Z"
   },
   {
    "duration": 14,
    "start_time": "2023-06-04T17:18:40.604Z"
   },
   {
    "duration": 3,
    "start_time": "2023-06-04T17:18:40.642Z"
   },
   {
    "duration": 10,
    "start_time": "2023-06-04T17:18:40.647Z"
   },
   {
    "duration": 11,
    "start_time": "2023-06-04T17:18:40.659Z"
   },
   {
    "duration": 5,
    "start_time": "2023-06-04T17:18:40.671Z"
   },
   {
    "duration": 17,
    "start_time": "2023-06-04T17:18:40.677Z"
   },
   {
    "duration": 299,
    "start_time": "2023-06-04T17:18:40.695Z"
   },
   {
    "duration": 280,
    "start_time": "2023-06-04T17:18:40.995Z"
   },
   {
    "duration": 282,
    "start_time": "2023-06-04T17:18:41.277Z"
   },
   {
    "duration": 270,
    "start_time": "2023-06-04T17:18:41.561Z"
   },
   {
    "duration": 36,
    "start_time": "2023-06-04T17:18:41.833Z"
   },
   {
    "duration": 16,
    "start_time": "2023-06-04T17:18:41.871Z"
   },
   {
    "duration": 7,
    "start_time": "2023-06-04T17:18:41.889Z"
   },
   {
    "duration": 7,
    "start_time": "2023-06-04T17:18:41.898Z"
   },
   {
    "duration": 38,
    "start_time": "2023-06-04T17:18:41.907Z"
   },
   {
    "duration": 1470,
    "start_time": "2023-06-04T17:18:41.947Z"
   },
   {
    "duration": 5,
    "start_time": "2023-06-04T17:18:43.419Z"
   },
   {
    "duration": 363,
    "start_time": "2023-06-04T17:18:43.426Z"
   },
   {
    "duration": 5,
    "start_time": "2023-06-04T17:18:43.791Z"
   },
   {
    "duration": 1219,
    "start_time": "2023-06-05T12:36:07.946Z"
   },
   {
    "duration": 97,
    "start_time": "2023-06-05T12:36:09.167Z"
   },
   {
    "duration": 10,
    "start_time": "2023-06-05T12:36:09.265Z"
   },
   {
    "duration": 129,
    "start_time": "2023-06-05T12:36:09.277Z"
   },
   {
    "duration": 70,
    "start_time": "2023-06-05T12:36:09.407Z"
   },
   {
    "duration": 10,
    "start_time": "2023-06-05T12:36:09.479Z"
   },
   {
    "duration": 125,
    "start_time": "2023-06-05T12:36:09.491Z"
   },
   {
    "duration": 119,
    "start_time": "2023-06-05T12:36:09.618Z"
   },
   {
    "duration": 59,
    "start_time": "2023-06-05T12:36:09.738Z"
   },
   {
    "duration": 10,
    "start_time": "2023-06-05T12:36:09.800Z"
   },
   {
    "duration": 10,
    "start_time": "2023-06-05T12:36:09.811Z"
   },
   {
    "duration": 22,
    "start_time": "2023-06-05T12:36:09.823Z"
   },
   {
    "duration": 13,
    "start_time": "2023-06-05T12:36:09.847Z"
   },
   {
    "duration": 5,
    "start_time": "2023-06-05T12:36:09.862Z"
   },
   {
    "duration": 5,
    "start_time": "2023-06-05T12:36:09.868Z"
   },
   {
    "duration": 7,
    "start_time": "2023-06-05T12:36:09.875Z"
   },
   {
    "duration": 4,
    "start_time": "2023-06-05T12:36:09.884Z"
   },
   {
    "duration": 7,
    "start_time": "2023-06-05T12:36:09.889Z"
   },
   {
    "duration": 11,
    "start_time": "2023-06-05T12:36:09.897Z"
   },
   {
    "duration": 175,
    "start_time": "2023-06-05T12:36:09.909Z"
   },
   {
    "duration": 81,
    "start_time": "2023-06-05T12:36:10.086Z"
   },
   {
    "duration": 243,
    "start_time": "2023-06-05T12:36:10.168Z"
   },
   {
    "duration": 260,
    "start_time": "2023-06-05T12:36:10.412Z"
   },
   {
    "duration": 77,
    "start_time": "2023-06-05T12:36:10.673Z"
   },
   {
    "duration": 257,
    "start_time": "2023-06-05T12:36:10.752Z"
   },
   {
    "duration": 8,
    "start_time": "2023-06-05T12:36:11.011Z"
   },
   {
    "duration": 17,
    "start_time": "2023-06-05T12:36:11.020Z"
   },
   {
    "duration": 19,
    "start_time": "2023-06-05T12:36:11.040Z"
   },
   {
    "duration": 6,
    "start_time": "2023-06-05T12:36:11.060Z"
   },
   {
    "duration": 28,
    "start_time": "2023-06-05T12:36:11.067Z"
   },
   {
    "duration": 12,
    "start_time": "2023-06-05T12:36:11.096Z"
   },
   {
    "duration": 3,
    "start_time": "2023-06-05T12:36:11.110Z"
   },
   {
    "duration": 6,
    "start_time": "2023-06-05T12:36:11.114Z"
   },
   {
    "duration": 11,
    "start_time": "2023-06-05T12:36:11.122Z"
   },
   {
    "duration": 6,
    "start_time": "2023-06-05T12:36:11.134Z"
   },
   {
    "duration": 15,
    "start_time": "2023-06-05T12:36:11.141Z"
   },
   {
    "duration": 283,
    "start_time": "2023-06-05T12:36:11.157Z"
   },
   {
    "duration": 237,
    "start_time": "2023-06-05T12:36:11.442Z"
   },
   {
    "duration": 258,
    "start_time": "2023-06-05T12:36:11.684Z"
   },
   {
    "duration": 251,
    "start_time": "2023-06-05T12:36:11.943Z"
   },
   {
    "duration": 28,
    "start_time": "2023-06-05T12:36:12.196Z"
   },
   {
    "duration": 16,
    "start_time": "2023-06-05T12:36:12.225Z"
   },
   {
    "duration": 7,
    "start_time": "2023-06-05T12:36:12.243Z"
   },
   {
    "duration": 34,
    "start_time": "2023-06-05T12:36:12.252Z"
   },
   {
    "duration": 11,
    "start_time": "2023-06-05T12:36:12.288Z"
   },
   {
    "duration": 1215,
    "start_time": "2023-06-05T12:36:12.300Z"
   },
   {
    "duration": 5,
    "start_time": "2023-06-05T12:36:13.517Z"
   },
   {
    "duration": 299,
    "start_time": "2023-06-05T12:36:13.524Z"
   },
   {
    "duration": 5,
    "start_time": "2023-06-05T12:36:13.824Z"
   },
   {
    "duration": 293,
    "start_time": "2023-06-05T13:31:51.913Z"
   },
   {
    "duration": 106,
    "start_time": "2023-06-05T13:32:09.634Z"
   },
   {
    "duration": 25,
    "start_time": "2023-06-05T13:32:39.688Z"
   },
   {
    "duration": 323,
    "start_time": "2023-06-05T13:33:09.262Z"
   },
   {
    "duration": 350,
    "start_time": "2023-06-05T13:33:31.540Z"
   },
   {
    "duration": 342,
    "start_time": "2023-06-05T13:34:24.262Z"
   },
   {
    "duration": 414,
    "start_time": "2023-06-05T13:34:44.791Z"
   },
   {
    "duration": 333,
    "start_time": "2023-06-05T13:35:43.160Z"
   },
   {
    "duration": 320,
    "start_time": "2023-06-05T13:35:51.192Z"
   },
   {
    "duration": 299,
    "start_time": "2023-06-05T13:36:11.129Z"
   },
   {
    "duration": 312,
    "start_time": "2023-06-05T13:38:00.836Z"
   },
   {
    "duration": 154,
    "start_time": "2023-06-05T13:38:39.484Z"
   },
   {
    "duration": 389,
    "start_time": "2023-06-05T13:38:44.765Z"
   },
   {
    "duration": 310,
    "start_time": "2023-06-05T13:39:00.157Z"
   },
   {
    "duration": 334,
    "start_time": "2023-06-05T13:39:08.260Z"
   },
   {
    "duration": 321,
    "start_time": "2023-06-05T13:39:56.511Z"
   },
   {
    "duration": 374,
    "start_time": "2023-06-05T13:40:21.499Z"
   },
   {
    "duration": 339,
    "start_time": "2023-06-05T13:40:40.775Z"
   },
   {
    "duration": 332,
    "start_time": "2023-06-05T13:40:56.545Z"
   },
   {
    "duration": 329,
    "start_time": "2023-06-05T13:41:58.825Z"
   }
  ],
  "kernelspec": {
   "display_name": "Python 3 (ipykernel)",
   "language": "python",
   "name": "python3"
  },
  "language_info": {
   "codemirror_mode": {
    "name": "ipython",
    "version": 3
   },
   "file_extension": ".py",
   "mimetype": "text/x-python",
   "name": "python",
   "nbconvert_exporter": "python",
   "pygments_lexer": "ipython3",
   "version": "3.9.5"
  },
  "toc": {
   "base_numbering": 1,
   "nav_menu": {},
   "number_sections": true,
   "sideBar": true,
   "skip_h1_title": true,
   "title_cell": "Table of Contents",
   "title_sidebar": "Contents",
   "toc_cell": false,
   "toc_position": {
    "height": "calc(100% - 180px)",
    "left": "10px",
    "top": "150px",
    "width": "208.722px"
   },
   "toc_section_display": true,
   "toc_window_display": true
  }
 },
 "nbformat": 4,
 "nbformat_minor": 5
}
